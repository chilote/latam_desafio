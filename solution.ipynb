{
 "cells": [
  {
   "cell_type": "markdown",
   "metadata": {},
   "source": [
    "# Desafio LATAM"
   ]
  },
  {
   "cell_type": "markdown",
   "metadata": {},
   "source": [
    "### Librerías"
   ]
  },
  {
   "cell_type": "code",
   "execution_count": 1,
   "metadata": {},
   "outputs": [
    {
     "name": "stdout",
     "output_type": "stream",
     "text": [
      "Requirement already satisfied: pandas in /home/joe/.local/lib/python3.8/site-packages (1.5.0)\n",
      "Requirement already satisfied: numpy>=1.20.3; python_version < \"3.10\" in /home/joe/.local/lib/python3.8/site-packages (from pandas) (1.23.3)\n",
      "Requirement already satisfied: pytz>=2020.1 in /home/joe/.local/lib/python3.8/site-packages (from pandas) (2022.2.1)\n",
      "Requirement already satisfied: python-dateutil>=2.8.1 in /home/joe/.local/lib/python3.8/site-packages (from pandas) (2.8.2)\n",
      "Requirement already satisfied: six>=1.5 in /usr/lib/python3/dist-packages (from python-dateutil>=2.8.1->pandas) (1.14.0)\n",
      "Note: you may need to restart the kernel to use updated packages.\n",
      "Requirement already satisfied: matplotlib in /home/joe/.local/lib/python3.8/site-packages (3.6.0)\n",
      "Requirement already satisfied: python-dateutil>=2.7 in /home/joe/.local/lib/python3.8/site-packages (from matplotlib) (2.8.2)\n",
      "Requirement already satisfied: fonttools>=4.22.0 in /home/joe/.local/lib/python3.8/site-packages (from matplotlib) (4.37.3)\n",
      "Requirement already satisfied: contourpy>=1.0.1 in /home/joe/.local/lib/python3.8/site-packages (from matplotlib) (1.0.5)\n",
      "Requirement already satisfied: kiwisolver>=1.0.1 in /home/joe/.local/lib/python3.8/site-packages (from matplotlib) (1.4.4)\n",
      "Requirement already satisfied: pyparsing>=2.2.1 in /home/joe/.local/lib/python3.8/site-packages (from matplotlib) (3.0.9)\n",
      "Requirement already satisfied: packaging>=20.0 in /home/joe/.local/lib/python3.8/site-packages (from matplotlib) (21.3)\n",
      "Requirement already satisfied: pillow>=6.2.0 in /usr/lib/python3/dist-packages (from matplotlib) (7.0.0)\n",
      "Requirement already satisfied: numpy>=1.19 in /home/joe/.local/lib/python3.8/site-packages (from matplotlib) (1.23.3)\n",
      "Requirement already satisfied: cycler>=0.10 in /home/joe/.local/lib/python3.8/site-packages (from matplotlib) (0.11.0)\n",
      "Requirement already satisfied: six>=1.5 in /usr/lib/python3/dist-packages (from python-dateutil>=2.7->matplotlib) (1.14.0)\n",
      "Note: you may need to restart the kernel to use updated packages.\n",
      "Requirement already up-to-date: scikit-learn in /home/joe/.local/lib/python3.8/site-packages (1.1.2)\n",
      "Requirement already satisfied, skipping upgrade: joblib>=1.0.0 in /home/joe/.local/lib/python3.8/site-packages (from scikit-learn) (1.2.0)\n",
      "Requirement already satisfied, skipping upgrade: numpy>=1.17.3 in /home/joe/.local/lib/python3.8/site-packages (from scikit-learn) (1.23.3)\n",
      "Requirement already satisfied, skipping upgrade: threadpoolctl>=2.0.0 in /home/joe/.local/lib/python3.8/site-packages (from scikit-learn) (3.1.0)\n",
      "Requirement already satisfied, skipping upgrade: scipy>=1.3.2 in /home/joe/.local/lib/python3.8/site-packages (from scikit-learn) (1.8.1)\n",
      "Note: you may need to restart the kernel to use updated packages.\n",
      "Requirement already satisfied: xgboost in /home/joe/.local/lib/python3.8/site-packages (1.6.2)\n",
      "Requirement already satisfied: numpy in /home/joe/.local/lib/python3.8/site-packages (from xgboost) (1.23.3)\n",
      "Requirement already satisfied: scipy in /home/joe/.local/lib/python3.8/site-packages (from xgboost) (1.8.1)\n",
      "Note: you may need to restart the kernel to use updated packages.\n",
      "Requirement already satisfied: optuna in /home/joe/.local/lib/python3.8/site-packages (3.0.2)\n",
      "Requirement already satisfied: scipy<1.9.0,>=1.7.0 in /home/joe/.local/lib/python3.8/site-packages (from optuna) (1.8.1)\n",
      "Requirement already satisfied: sqlalchemy>=1.3.0 in /home/joe/.local/lib/python3.8/site-packages (from optuna) (1.4.41)\n",
      "Requirement already satisfied: colorlog in /home/joe/.local/lib/python3.8/site-packages (from optuna) (6.7.0)\n",
      "Requirement already satisfied: PyYAML in /usr/lib/python3/dist-packages (from optuna) (5.3.1)\n",
      "Requirement already satisfied: alembic>=1.5.0 in /home/joe/.local/lib/python3.8/site-packages (from optuna) (1.8.1)\n",
      "Requirement already satisfied: tqdm in /home/joe/.local/lib/python3.8/site-packages (from optuna) (4.64.1)\n",
      "Requirement already satisfied: numpy in /home/joe/.local/lib/python3.8/site-packages (from optuna) (1.23.3)\n",
      "Requirement already satisfied: cliff in /home/joe/.local/lib/python3.8/site-packages (from optuna) (4.0.0)\n",
      "Requirement already satisfied: packaging>=20.0 in /home/joe/.local/lib/python3.8/site-packages (from optuna) (21.3)\n",
      "Requirement already satisfied: cmaes>=0.8.2 in /home/joe/.local/lib/python3.8/site-packages (from optuna) (0.8.2)\n",
      "Requirement already satisfied: greenlet!=0.4.17; python_version >= \"3\" and (platform_machine == \"aarch64\" or (platform_machine == \"ppc64le\" or (platform_machine == \"x86_64\" or (platform_machine == \"amd64\" or (platform_machine == \"AMD64\" or (platform_machine == \"win32\" or platform_machine == \"WIN32\")))))) in /home/joe/.local/lib/python3.8/site-packages (from sqlalchemy>=1.3.0->optuna) (1.1.3)\n",
      "Requirement already satisfied: importlib-resources; python_version < \"3.9\" in /home/joe/.local/lib/python3.8/site-packages (from alembic>=1.5.0->optuna) (5.9.0)\n",
      "Requirement already satisfied: importlib-metadata; python_version < \"3.9\" in /home/joe/.local/lib/python3.8/site-packages (from alembic>=1.5.0->optuna) (4.12.0)\n",
      "Requirement already satisfied: Mako in /usr/lib/python3/dist-packages (from alembic>=1.5.0->optuna) (1.1.0)\n",
      "Requirement already satisfied: autopage>=0.4.0 in /home/joe/.local/lib/python3.8/site-packages (from cliff->optuna) (0.5.1)\n",
      "Requirement already satisfied: PrettyTable>=0.7.2 in /home/joe/.local/lib/python3.8/site-packages (from cliff->optuna) (3.4.1)\n",
      "Requirement already satisfied: cmd2>=1.0.0 in /home/joe/.local/lib/python3.8/site-packages (from cliff->optuna) (2.4.2)\n",
      "Requirement already satisfied: stevedore>=2.0.1 in /home/joe/.local/lib/python3.8/site-packages (from cliff->optuna) (4.0.0)\n",
      "Requirement already satisfied: pyparsing!=3.0.5,>=2.0.2 in /home/joe/.local/lib/python3.8/site-packages (from packaging>=20.0->optuna) (3.0.9)\n",
      "Collecting zipp>=3.1.0; python_version < \"3.10\"\n",
      "  Downloading zipp-3.8.1-py3-none-any.whl (5.6 kB)\n",
      "Requirement already satisfied: wcwidth in /usr/lib/python3/dist-packages (from PrettyTable>=0.7.2->cliff->optuna) (0.1.8)\n",
      "Requirement already satisfied: attrs>=16.3.0 in /usr/lib/python3/dist-packages (from cmd2>=1.0.0->cliff->optuna) (19.3.0)\n",
      "Requirement already satisfied: pyperclip>=1.6 in /home/joe/.local/lib/python3.8/site-packages (from cmd2>=1.0.0->cliff->optuna) (1.8.2)\n",
      "Requirement already satisfied: pbr!=2.1.0,>=2.0.0 in /home/joe/.local/lib/python3.8/site-packages (from stevedore>=2.0.1->cliff->optuna) (5.10.0)\n",
      "Installing collected packages: zipp\n",
      "Successfully installed zipp-3.8.1\n",
      "Note: you may need to restart the kernel to use updated packages.\n"
     ]
    }
   ],
   "source": [
    "# instalar librerias\n",
    "%pip install pandas\n",
    "%pip install matplotlib\n",
    "%pip install -U scikit-learn\n",
    "%pip install xgboost\n",
    "%pip install optuna"
   ]
  },
  {
   "cell_type": "code",
   "execution_count": 90,
   "metadata": {},
   "outputs": [
    {
     "name": "stdout",
     "output_type": "stream",
     "text": [
      "Collecting lightgbm\n",
      "  Downloading lightgbm-3.3.2-py3-none-manylinux1_x86_64.whl (2.0 MB)\n",
      "\u001b[K     |████████████████████████████████| 2.0 MB 15.3 MB/s eta 0:00:01\n",
      "\u001b[?25hRequirement already satisfied: scikit-learn!=0.22.0 in /home/joe/.local/lib/python3.8/site-packages (from lightgbm) (1.1.2)\n",
      "Requirement already satisfied: wheel in /usr/lib/python3/dist-packages (from lightgbm) (0.34.2)\n",
      "Requirement already satisfied: numpy in /home/joe/.local/lib/python3.8/site-packages (from lightgbm) (1.23.3)\n",
      "Requirement already satisfied: scipy in /home/joe/.local/lib/python3.8/site-packages (from lightgbm) (1.8.1)\n",
      "Requirement already satisfied: joblib>=1.0.0 in /home/joe/.local/lib/python3.8/site-packages (from scikit-learn!=0.22.0->lightgbm) (1.2.0)\n",
      "Requirement already satisfied: threadpoolctl>=2.0.0 in /home/joe/.local/lib/python3.8/site-packages (from scikit-learn!=0.22.0->lightgbm) (3.1.0)\n",
      "Installing collected packages: lightgbm\n",
      "Successfully installed lightgbm-3.3.2\n",
      "Note: you may need to restart the kernel to use updated packages.\n"
     ]
    }
   ],
   "source": [
    "%pip install lightgbm"
   ]
  },
  {
   "cell_type": "markdown",
   "metadata": {},
   "source": [
    "## Calidad de los datos"
   ]
  },
  {
   "cell_type": "code",
   "execution_count": 92,
   "metadata": {},
   "outputs": [],
   "source": [
    "# importar librerias\n",
    "import numpy as np\n",
    "import pandas as pd\n",
    "import time\n",
    "import lightgbm as lgb\n",
    "import optuna\n",
    "from sklearn.metrics import classification_report, accuracy_score\n",
    "\n",
    "pd.set_option('display.max_columns', 500)"
   ]
  },
  {
   "cell_type": "markdown",
   "metadata": {},
   "source": [
    "### Carga de datos"
   ]
  },
  {
   "cell_type": "code",
   "execution_count": 3,
   "metadata": {},
   "outputs": [
    {
     "name": "stderr",
     "output_type": "stream",
     "text": [
      "<ipython-input-3-769d1d528a22>:2: DtypeWarning: Columns (1,6) have mixed types. Specify dtype option on import or set low_memory=False.\n",
      "  df = pd.read_csv('data/dataset_SCL.csv')\n"
     ]
    },
    {
     "data": {
      "text/html": [
       "<div>\n",
       "<style scoped>\n",
       "    .dataframe tbody tr th:only-of-type {\n",
       "        vertical-align: middle;\n",
       "    }\n",
       "\n",
       "    .dataframe tbody tr th {\n",
       "        vertical-align: top;\n",
       "    }\n",
       "\n",
       "    .dataframe thead th {\n",
       "        text-align: right;\n",
       "    }\n",
       "</style>\n",
       "<table border=\"1\" class=\"dataframe\">\n",
       "  <thead>\n",
       "    <tr style=\"text-align: right;\">\n",
       "      <th></th>\n",
       "      <th>Fecha-I</th>\n",
       "      <th>Vlo-I</th>\n",
       "      <th>Ori-I</th>\n",
       "      <th>Des-I</th>\n",
       "      <th>Emp-I</th>\n",
       "      <th>Fecha-O</th>\n",
       "      <th>Vlo-O</th>\n",
       "      <th>Ori-O</th>\n",
       "      <th>Des-O</th>\n",
       "      <th>Emp-O</th>\n",
       "      <th>DIA</th>\n",
       "      <th>MES</th>\n",
       "      <th>AÑO</th>\n",
       "      <th>DIANOM</th>\n",
       "      <th>TIPOVUELO</th>\n",
       "      <th>OPERA</th>\n",
       "      <th>SIGLAORI</th>\n",
       "      <th>SIGLADES</th>\n",
       "    </tr>\n",
       "  </thead>\n",
       "  <tbody>\n",
       "    <tr>\n",
       "      <th>0</th>\n",
       "      <td>2017-01-01 23:30:00</td>\n",
       "      <td>226</td>\n",
       "      <td>SCEL</td>\n",
       "      <td>KMIA</td>\n",
       "      <td>AAL</td>\n",
       "      <td>2017-01-01 23:33:00</td>\n",
       "      <td>226</td>\n",
       "      <td>SCEL</td>\n",
       "      <td>KMIA</td>\n",
       "      <td>AAL</td>\n",
       "      <td>1</td>\n",
       "      <td>1</td>\n",
       "      <td>2017</td>\n",
       "      <td>Domingo</td>\n",
       "      <td>I</td>\n",
       "      <td>American Airlines</td>\n",
       "      <td>Santiago</td>\n",
       "      <td>Miami</td>\n",
       "    </tr>\n",
       "    <tr>\n",
       "      <th>1</th>\n",
       "      <td>2017-01-02 23:30:00</td>\n",
       "      <td>226</td>\n",
       "      <td>SCEL</td>\n",
       "      <td>KMIA</td>\n",
       "      <td>AAL</td>\n",
       "      <td>2017-01-02 23:39:00</td>\n",
       "      <td>226</td>\n",
       "      <td>SCEL</td>\n",
       "      <td>KMIA</td>\n",
       "      <td>AAL</td>\n",
       "      <td>2</td>\n",
       "      <td>1</td>\n",
       "      <td>2017</td>\n",
       "      <td>Lunes</td>\n",
       "      <td>I</td>\n",
       "      <td>American Airlines</td>\n",
       "      <td>Santiago</td>\n",
       "      <td>Miami</td>\n",
       "    </tr>\n",
       "    <tr>\n",
       "      <th>2</th>\n",
       "      <td>2017-01-03 23:30:00</td>\n",
       "      <td>226</td>\n",
       "      <td>SCEL</td>\n",
       "      <td>KMIA</td>\n",
       "      <td>AAL</td>\n",
       "      <td>2017-01-03 23:39:00</td>\n",
       "      <td>226</td>\n",
       "      <td>SCEL</td>\n",
       "      <td>KMIA</td>\n",
       "      <td>AAL</td>\n",
       "      <td>3</td>\n",
       "      <td>1</td>\n",
       "      <td>2017</td>\n",
       "      <td>Martes</td>\n",
       "      <td>I</td>\n",
       "      <td>American Airlines</td>\n",
       "      <td>Santiago</td>\n",
       "      <td>Miami</td>\n",
       "    </tr>\n",
       "    <tr>\n",
       "      <th>3</th>\n",
       "      <td>2017-01-04 23:30:00</td>\n",
       "      <td>226</td>\n",
       "      <td>SCEL</td>\n",
       "      <td>KMIA</td>\n",
       "      <td>AAL</td>\n",
       "      <td>2017-01-04 23:33:00</td>\n",
       "      <td>226</td>\n",
       "      <td>SCEL</td>\n",
       "      <td>KMIA</td>\n",
       "      <td>AAL</td>\n",
       "      <td>4</td>\n",
       "      <td>1</td>\n",
       "      <td>2017</td>\n",
       "      <td>Miercoles</td>\n",
       "      <td>I</td>\n",
       "      <td>American Airlines</td>\n",
       "      <td>Santiago</td>\n",
       "      <td>Miami</td>\n",
       "    </tr>\n",
       "    <tr>\n",
       "      <th>4</th>\n",
       "      <td>2017-01-05 23:30:00</td>\n",
       "      <td>226</td>\n",
       "      <td>SCEL</td>\n",
       "      <td>KMIA</td>\n",
       "      <td>AAL</td>\n",
       "      <td>2017-01-05 23:28:00</td>\n",
       "      <td>226</td>\n",
       "      <td>SCEL</td>\n",
       "      <td>KMIA</td>\n",
       "      <td>AAL</td>\n",
       "      <td>5</td>\n",
       "      <td>1</td>\n",
       "      <td>2017</td>\n",
       "      <td>Jueves</td>\n",
       "      <td>I</td>\n",
       "      <td>American Airlines</td>\n",
       "      <td>Santiago</td>\n",
       "      <td>Miami</td>\n",
       "    </tr>\n",
       "  </tbody>\n",
       "</table>\n",
       "</div>"
      ],
      "text/plain": [
       "               Fecha-I Vlo-I Ori-I Des-I Emp-I              Fecha-O Vlo-O  \\\n",
       "0  2017-01-01 23:30:00   226  SCEL  KMIA   AAL  2017-01-01 23:33:00   226   \n",
       "1  2017-01-02 23:30:00   226  SCEL  KMIA   AAL  2017-01-02 23:39:00   226   \n",
       "2  2017-01-03 23:30:00   226  SCEL  KMIA   AAL  2017-01-03 23:39:00   226   \n",
       "3  2017-01-04 23:30:00   226  SCEL  KMIA   AAL  2017-01-04 23:33:00   226   \n",
       "4  2017-01-05 23:30:00   226  SCEL  KMIA   AAL  2017-01-05 23:28:00   226   \n",
       "\n",
       "  Ori-O Des-O Emp-O  DIA  MES   AÑO     DIANOM TIPOVUELO              OPERA  \\\n",
       "0  SCEL  KMIA   AAL    1    1  2017    Domingo         I  American Airlines   \n",
       "1  SCEL  KMIA   AAL    2    1  2017      Lunes         I  American Airlines   \n",
       "2  SCEL  KMIA   AAL    3    1  2017     Martes         I  American Airlines   \n",
       "3  SCEL  KMIA   AAL    4    1  2017  Miercoles         I  American Airlines   \n",
       "4  SCEL  KMIA   AAL    5    1  2017     Jueves         I  American Airlines   \n",
       "\n",
       "   SIGLAORI SIGLADES  \n",
       "0  Santiago    Miami  \n",
       "1  Santiago    Miami  \n",
       "2  Santiago    Miami  \n",
       "3  Santiago    Miami  \n",
       "4  Santiago    Miami  "
      ]
     },
     "execution_count": 3,
     "metadata": {},
     "output_type": "execute_result"
    }
   ],
   "source": [
    "# cargar data y echar vistazo a datos\n",
    "df = pd.read_csv('data/dataset_SCL.csv')\n",
    "df.head()"
   ]
  },
  {
   "cell_type": "code",
   "execution_count": 4,
   "metadata": {},
   "outputs": [
    {
     "data": {
      "text/plain": [
       "Fecha-I      object\n",
       "Vlo-I        object\n",
       "Ori-I        object\n",
       "Des-I        object\n",
       "Emp-I        object\n",
       "Fecha-O      object\n",
       "Vlo-O        object\n",
       "Ori-O        object\n",
       "Des-O        object\n",
       "Emp-O        object\n",
       "DIA           int64\n",
       "MES           int64\n",
       "AÑO           int64\n",
       "DIANOM       object\n",
       "TIPOVUELO    object\n",
       "OPERA        object\n",
       "SIGLAORI     object\n",
       "SIGLADES     object\n",
       "dtype: object"
      ]
     },
     "execution_count": 4,
     "metadata": {},
     "output_type": "execute_result"
    }
   ],
   "source": [
    "# chequear tipo de datos\n",
    "df.dtypes"
   ]
  },
  {
   "cell_type": "code",
   "execution_count": 5,
   "metadata": {},
   "outputs": [
    {
     "data": {
      "text/plain": [
       "False"
      ]
     },
     "execution_count": 5,
     "metadata": {},
     "output_type": "execute_result"
    }
   ],
   "source": [
    "# existen filas duplicadas?\n",
    "df.duplicated().any()"
   ]
  },
  {
   "cell_type": "code",
   "execution_count": 6,
   "metadata": {},
   "outputs": [
    {
     "data": {
      "text/plain": [
       "(68206, 18)"
      ]
     },
     "execution_count": 6,
     "metadata": {},
     "output_type": "execute_result"
    }
   ],
   "source": [
    "# shape\n",
    "df.shape"
   ]
  },
  {
   "cell_type": "code",
   "execution_count": 7,
   "metadata": {},
   "outputs": [
    {
     "data": {
      "text/plain": [
       "Fecha-I      False\n",
       "Vlo-I        False\n",
       "Ori-I        False\n",
       "Des-I        False\n",
       "Emp-I        False\n",
       "Fecha-O      False\n",
       "Vlo-O         True\n",
       "Ori-O        False\n",
       "Des-O        False\n",
       "Emp-O        False\n",
       "DIA          False\n",
       "MES          False\n",
       "AÑO          False\n",
       "DIANOM       False\n",
       "TIPOVUELO    False\n",
       "OPERA        False\n",
       "SIGLAORI     False\n",
       "SIGLADES     False\n",
       "dtype: bool"
      ]
     },
     "execution_count": 7,
     "metadata": {},
     "output_type": "execute_result"
    }
   ],
   "source": [
    "# columnas con valores no definidos\n",
    "df.isna().any()"
   ]
  },
  {
   "cell_type": "markdown",
   "metadata": {},
   "source": [
    "* Existen valores no definidos en columna `Vlo-O`. ¿Cuantos serán?"
   ]
  },
  {
   "cell_type": "code",
   "execution_count": 8,
   "metadata": {},
   "outputs": [
    {
     "data": {
      "text/plain": [
       "1"
      ]
     },
     "execution_count": 8,
     "metadata": {},
     "output_type": "execute_result"
    }
   ],
   "source": [
    "df['Vlo-O'].isna().sum()"
   ]
  },
  {
   "cell_type": "markdown",
   "metadata": {},
   "source": [
    "### Liempieza de datos\n",
    "\n",
    "* Cambiar tipo de datos de columna: \\\n",
    "    `- Fecha-I      timestamp` \\\n",
    "    `- Vlo-I        int` \\\n",
    "    `- Ori-I        object` \\\n",
    "    `- Des-I        object` \\\n",
    "    `- Emp-I        object` \\\n",
    "    `- Fecha-O      timestamp` \\\n",
    "    `- Vlo-O         int` \\\n",
    "    `- Ori-O        object` \\\n",
    "    `- Des-O        object` \\\n",
    "    `- Emp-O        object` \\\n",
    "    `- DIA          int` \\\n",
    "    `- MES          int` \\\n",
    "    `- AÑO          int` \\\n",
    "    `- DIANOM       object` \\\n",
    "    `- TIPOVUELO    object` \\\n",
    "    `- OPERA        object` \\\n",
    "    `- SIGLAORI     object` \\\n",
    "    `- SIGLADES     object` \n",
    "    \n",
    "* Quitar fila sin dato en columna `Vlo-O`. Tambien quitar filas relacionadas con ésta, de forma que no tenga impacto en analisis"
   ]
  },
  {
   "cell_type": "code",
   "execution_count": 9,
   "metadata": {},
   "outputs": [],
   "source": [
    "# crear copia\n",
    "df_clean = df.copy()"
   ]
  },
  {
   "cell_type": "code",
   "execution_count": 10,
   "metadata": {},
   "outputs": [],
   "source": [
    "# df_clean[df_clean[['Fecha-I', 'Vlo-I']].duplicated(keep=False)].sort_values(by=['Fecha-I', 'Vlo-I'])"
   ]
  },
  {
   "cell_type": "code",
   "execution_count": 11,
   "metadata": {},
   "outputs": [],
   "source": [
    "# cambio de tipo de datos\n",
    "df_clean = df.copy()\n",
    "df_clean['Fecha-I'] = pd.to_datetime(df_clean['Fecha-I'])\n",
    "df_clean['Fecha-O'] = pd.to_datetime(df_clean['Fecha-O'])\n",
    "# df_clean['Vlo-I'].astype('int')"
   ]
  },
  {
   "cell_type": "code",
   "execution_count": 12,
   "metadata": {},
   "outputs": [
    {
     "data": {
      "text/plain": [
       "Fecha-I      datetime64[ns]\n",
       "Vlo-I                object\n",
       "Ori-I                object\n",
       "Des-I                object\n",
       "Emp-I                object\n",
       "Fecha-O      datetime64[ns]\n",
       "Vlo-O                object\n",
       "Ori-O                object\n",
       "Des-O                object\n",
       "Emp-O                object\n",
       "DIA                   int64\n",
       "MES                   int64\n",
       "AÑO                   int64\n",
       "DIANOM               object\n",
       "TIPOVUELO            object\n",
       "OPERA                object\n",
       "SIGLAORI             object\n",
       "SIGLADES             object\n",
       "dtype: object"
      ]
     },
     "execution_count": 12,
     "metadata": {},
     "output_type": "execute_result"
    }
   ],
   "source": [
    "df_clean.dtypes"
   ]
  },
  {
   "cell_type": "markdown",
   "metadata": {},
   "source": [
    "* Cambiar `Vlo-I` y `Vlo-O` a `int`"
   ]
  },
  {
   "cell_type": "code",
   "execution_count": 13,
   "metadata": {},
   "outputs": [
    {
     "ename": "ValueError",
     "evalue": "invalid literal for int() with base 10: '989P'",
     "output_type": "error",
     "traceback": [
      "\u001b[0;31m---------------------------------------------------------------------------\u001b[0m",
      "\u001b[0;31mValueError\u001b[0m                                Traceback (most recent call last)",
      "\u001b[0;32m<ipython-input-13-2209693c277e>\u001b[0m in \u001b[0;36m<module>\u001b[0;34m\u001b[0m\n\u001b[0;32m----> 1\u001b[0;31m \u001b[0mdf_clean\u001b[0m\u001b[0;34m[\u001b[0m\u001b[0;34m'Vlo-I'\u001b[0m\u001b[0;34m]\u001b[0m \u001b[0;34m=\u001b[0m \u001b[0mdf_clean\u001b[0m\u001b[0;34m[\u001b[0m\u001b[0;34m'Vlo-I'\u001b[0m\u001b[0;34m]\u001b[0m\u001b[0;34m.\u001b[0m\u001b[0mastype\u001b[0m\u001b[0;34m(\u001b[0m\u001b[0mint\u001b[0m\u001b[0;34m)\u001b[0m\u001b[0;34m\u001b[0m\u001b[0;34m\u001b[0m\u001b[0m\n\u001b[0m",
      "\u001b[0;32m~/.local/lib/python3.8/site-packages/pandas/core/generic.py\u001b[0m in \u001b[0;36mastype\u001b[0;34m(self, dtype, copy, errors)\u001b[0m\n\u001b[1;32m   6243\u001b[0m         \u001b[0;32melse\u001b[0m\u001b[0;34m:\u001b[0m\u001b[0;34m\u001b[0m\u001b[0;34m\u001b[0m\u001b[0m\n\u001b[1;32m   6244\u001b[0m             \u001b[0;31m# else, only a single dtype is given\u001b[0m\u001b[0;34m\u001b[0m\u001b[0;34m\u001b[0m\u001b[0;34m\u001b[0m\u001b[0m\n\u001b[0;32m-> 6245\u001b[0;31m             \u001b[0mnew_data\u001b[0m \u001b[0;34m=\u001b[0m \u001b[0mself\u001b[0m\u001b[0;34m.\u001b[0m\u001b[0m_mgr\u001b[0m\u001b[0;34m.\u001b[0m\u001b[0mastype\u001b[0m\u001b[0;34m(\u001b[0m\u001b[0mdtype\u001b[0m\u001b[0;34m=\u001b[0m\u001b[0mdtype\u001b[0m\u001b[0;34m,\u001b[0m \u001b[0mcopy\u001b[0m\u001b[0;34m=\u001b[0m\u001b[0mcopy\u001b[0m\u001b[0;34m,\u001b[0m \u001b[0merrors\u001b[0m\u001b[0;34m=\u001b[0m\u001b[0merrors\u001b[0m\u001b[0;34m)\u001b[0m\u001b[0;34m\u001b[0m\u001b[0;34m\u001b[0m\u001b[0m\n\u001b[0m\u001b[1;32m   6246\u001b[0m             \u001b[0;32mreturn\u001b[0m \u001b[0mself\u001b[0m\u001b[0;34m.\u001b[0m\u001b[0m_constructor\u001b[0m\u001b[0;34m(\u001b[0m\u001b[0mnew_data\u001b[0m\u001b[0;34m)\u001b[0m\u001b[0;34m.\u001b[0m\u001b[0m__finalize__\u001b[0m\u001b[0;34m(\u001b[0m\u001b[0mself\u001b[0m\u001b[0;34m,\u001b[0m \u001b[0mmethod\u001b[0m\u001b[0;34m=\u001b[0m\u001b[0;34m\"astype\"\u001b[0m\u001b[0;34m)\u001b[0m\u001b[0;34m\u001b[0m\u001b[0;34m\u001b[0m\u001b[0m\n\u001b[1;32m   6247\u001b[0m \u001b[0;34m\u001b[0m\u001b[0m\n",
      "\u001b[0;32m~/.local/lib/python3.8/site-packages/pandas/core/internals/managers.py\u001b[0m in \u001b[0;36mastype\u001b[0;34m(self, dtype, copy, errors)\u001b[0m\n\u001b[1;32m    444\u001b[0m \u001b[0;34m\u001b[0m\u001b[0m\n\u001b[1;32m    445\u001b[0m     \u001b[0;32mdef\u001b[0m \u001b[0mastype\u001b[0m\u001b[0;34m(\u001b[0m\u001b[0mself\u001b[0m\u001b[0;34m:\u001b[0m \u001b[0mT\u001b[0m\u001b[0;34m,\u001b[0m \u001b[0mdtype\u001b[0m\u001b[0;34m,\u001b[0m \u001b[0mcopy\u001b[0m\u001b[0;34m:\u001b[0m \u001b[0mbool\u001b[0m \u001b[0;34m=\u001b[0m \u001b[0;32mFalse\u001b[0m\u001b[0;34m,\u001b[0m \u001b[0merrors\u001b[0m\u001b[0;34m:\u001b[0m \u001b[0mstr\u001b[0m \u001b[0;34m=\u001b[0m \u001b[0;34m\"raise\"\u001b[0m\u001b[0;34m)\u001b[0m \u001b[0;34m->\u001b[0m \u001b[0mT\u001b[0m\u001b[0;34m:\u001b[0m\u001b[0;34m\u001b[0m\u001b[0;34m\u001b[0m\u001b[0m\n\u001b[0;32m--> 446\u001b[0;31m         \u001b[0;32mreturn\u001b[0m \u001b[0mself\u001b[0m\u001b[0;34m.\u001b[0m\u001b[0mapply\u001b[0m\u001b[0;34m(\u001b[0m\u001b[0;34m\"astype\"\u001b[0m\u001b[0;34m,\u001b[0m \u001b[0mdtype\u001b[0m\u001b[0;34m=\u001b[0m\u001b[0mdtype\u001b[0m\u001b[0;34m,\u001b[0m \u001b[0mcopy\u001b[0m\u001b[0;34m=\u001b[0m\u001b[0mcopy\u001b[0m\u001b[0;34m,\u001b[0m \u001b[0merrors\u001b[0m\u001b[0;34m=\u001b[0m\u001b[0merrors\u001b[0m\u001b[0;34m)\u001b[0m\u001b[0;34m\u001b[0m\u001b[0;34m\u001b[0m\u001b[0m\n\u001b[0m\u001b[1;32m    447\u001b[0m \u001b[0;34m\u001b[0m\u001b[0m\n\u001b[1;32m    448\u001b[0m     def convert(\n",
      "\u001b[0;32m~/.local/lib/python3.8/site-packages/pandas/core/internals/managers.py\u001b[0m in \u001b[0;36mapply\u001b[0;34m(self, f, align_keys, ignore_failures, **kwargs)\u001b[0m\n\u001b[1;32m    346\u001b[0m                     \u001b[0mapplied\u001b[0m \u001b[0;34m=\u001b[0m \u001b[0mb\u001b[0m\u001b[0;34m.\u001b[0m\u001b[0mapply\u001b[0m\u001b[0;34m(\u001b[0m\u001b[0mf\u001b[0m\u001b[0;34m,\u001b[0m \u001b[0;34m**\u001b[0m\u001b[0mkwargs\u001b[0m\u001b[0;34m)\u001b[0m\u001b[0;34m\u001b[0m\u001b[0;34m\u001b[0m\u001b[0m\n\u001b[1;32m    347\u001b[0m                 \u001b[0;32melse\u001b[0m\u001b[0;34m:\u001b[0m\u001b[0;34m\u001b[0m\u001b[0;34m\u001b[0m\u001b[0m\n\u001b[0;32m--> 348\u001b[0;31m                     \u001b[0mapplied\u001b[0m \u001b[0;34m=\u001b[0m \u001b[0mgetattr\u001b[0m\u001b[0;34m(\u001b[0m\u001b[0mb\u001b[0m\u001b[0;34m,\u001b[0m \u001b[0mf\u001b[0m\u001b[0;34m)\u001b[0m\u001b[0;34m(\u001b[0m\u001b[0;34m**\u001b[0m\u001b[0mkwargs\u001b[0m\u001b[0;34m)\u001b[0m\u001b[0;34m\u001b[0m\u001b[0;34m\u001b[0m\u001b[0m\n\u001b[0m\u001b[1;32m    349\u001b[0m             \u001b[0;32mexcept\u001b[0m \u001b[0;34m(\u001b[0m\u001b[0mTypeError\u001b[0m\u001b[0;34m,\u001b[0m \u001b[0mNotImplementedError\u001b[0m\u001b[0;34m)\u001b[0m\u001b[0;34m:\u001b[0m\u001b[0;34m\u001b[0m\u001b[0;34m\u001b[0m\u001b[0m\n\u001b[1;32m    350\u001b[0m                 \u001b[0;32mif\u001b[0m \u001b[0;32mnot\u001b[0m \u001b[0mignore_failures\u001b[0m\u001b[0;34m:\u001b[0m\u001b[0;34m\u001b[0m\u001b[0;34m\u001b[0m\u001b[0m\n",
      "\u001b[0;32m~/.local/lib/python3.8/site-packages/pandas/core/internals/blocks.py\u001b[0m in \u001b[0;36mastype\u001b[0;34m(self, dtype, copy, errors)\u001b[0m\n\u001b[1;32m    525\u001b[0m         \u001b[0mvalues\u001b[0m \u001b[0;34m=\u001b[0m \u001b[0mself\u001b[0m\u001b[0;34m.\u001b[0m\u001b[0mvalues\u001b[0m\u001b[0;34m\u001b[0m\u001b[0;34m\u001b[0m\u001b[0m\n\u001b[1;32m    526\u001b[0m \u001b[0;34m\u001b[0m\u001b[0m\n\u001b[0;32m--> 527\u001b[0;31m         \u001b[0mnew_values\u001b[0m \u001b[0;34m=\u001b[0m \u001b[0mastype_array_safe\u001b[0m\u001b[0;34m(\u001b[0m\u001b[0mvalues\u001b[0m\u001b[0;34m,\u001b[0m \u001b[0mdtype\u001b[0m\u001b[0;34m,\u001b[0m \u001b[0mcopy\u001b[0m\u001b[0;34m=\u001b[0m\u001b[0mcopy\u001b[0m\u001b[0;34m,\u001b[0m \u001b[0merrors\u001b[0m\u001b[0;34m=\u001b[0m\u001b[0merrors\u001b[0m\u001b[0;34m)\u001b[0m\u001b[0;34m\u001b[0m\u001b[0;34m\u001b[0m\u001b[0m\n\u001b[0m\u001b[1;32m    528\u001b[0m \u001b[0;34m\u001b[0m\u001b[0m\n\u001b[1;32m    529\u001b[0m         \u001b[0mnew_values\u001b[0m \u001b[0;34m=\u001b[0m \u001b[0mmaybe_coerce_values\u001b[0m\u001b[0;34m(\u001b[0m\u001b[0mnew_values\u001b[0m\u001b[0;34m)\u001b[0m\u001b[0;34m\u001b[0m\u001b[0;34m\u001b[0m\u001b[0m\n",
      "\u001b[0;32m~/.local/lib/python3.8/site-packages/pandas/core/dtypes/astype.py\u001b[0m in \u001b[0;36mastype_array_safe\u001b[0;34m(values, dtype, copy, errors)\u001b[0m\n\u001b[1;32m    297\u001b[0m \u001b[0;34m\u001b[0m\u001b[0m\n\u001b[1;32m    298\u001b[0m     \u001b[0;32mtry\u001b[0m\u001b[0;34m:\u001b[0m\u001b[0;34m\u001b[0m\u001b[0;34m\u001b[0m\u001b[0m\n\u001b[0;32m--> 299\u001b[0;31m         \u001b[0mnew_values\u001b[0m \u001b[0;34m=\u001b[0m \u001b[0mastype_array\u001b[0m\u001b[0;34m(\u001b[0m\u001b[0mvalues\u001b[0m\u001b[0;34m,\u001b[0m \u001b[0mdtype\u001b[0m\u001b[0;34m,\u001b[0m \u001b[0mcopy\u001b[0m\u001b[0;34m=\u001b[0m\u001b[0mcopy\u001b[0m\u001b[0;34m)\u001b[0m\u001b[0;34m\u001b[0m\u001b[0;34m\u001b[0m\u001b[0m\n\u001b[0m\u001b[1;32m    300\u001b[0m     \u001b[0;32mexcept\u001b[0m \u001b[0;34m(\u001b[0m\u001b[0mValueError\u001b[0m\u001b[0;34m,\u001b[0m \u001b[0mTypeError\u001b[0m\u001b[0;34m)\u001b[0m\u001b[0;34m:\u001b[0m\u001b[0;34m\u001b[0m\u001b[0;34m\u001b[0m\u001b[0m\n\u001b[1;32m    301\u001b[0m         \u001b[0;31m# e.g. astype_nansafe can fail on object-dtype of strings\u001b[0m\u001b[0;34m\u001b[0m\u001b[0;34m\u001b[0m\u001b[0;34m\u001b[0m\u001b[0m\n",
      "\u001b[0;32m~/.local/lib/python3.8/site-packages/pandas/core/dtypes/astype.py\u001b[0m in \u001b[0;36mastype_array\u001b[0;34m(values, dtype, copy)\u001b[0m\n\u001b[1;32m    228\u001b[0m \u001b[0;34m\u001b[0m\u001b[0m\n\u001b[1;32m    229\u001b[0m     \u001b[0;32melse\u001b[0m\u001b[0;34m:\u001b[0m\u001b[0;34m\u001b[0m\u001b[0;34m\u001b[0m\u001b[0m\n\u001b[0;32m--> 230\u001b[0;31m         \u001b[0mvalues\u001b[0m \u001b[0;34m=\u001b[0m \u001b[0mastype_nansafe\u001b[0m\u001b[0;34m(\u001b[0m\u001b[0mvalues\u001b[0m\u001b[0;34m,\u001b[0m \u001b[0mdtype\u001b[0m\u001b[0;34m,\u001b[0m \u001b[0mcopy\u001b[0m\u001b[0;34m=\u001b[0m\u001b[0mcopy\u001b[0m\u001b[0;34m)\u001b[0m\u001b[0;34m\u001b[0m\u001b[0;34m\u001b[0m\u001b[0m\n\u001b[0m\u001b[1;32m    231\u001b[0m \u001b[0;34m\u001b[0m\u001b[0m\n\u001b[1;32m    232\u001b[0m     \u001b[0;31m# in pandas we don't store numpy str dtypes, so convert to object\u001b[0m\u001b[0;34m\u001b[0m\u001b[0;34m\u001b[0m\u001b[0;34m\u001b[0m\u001b[0m\n",
      "\u001b[0;32m~/.local/lib/python3.8/site-packages/pandas/core/dtypes/astype.py\u001b[0m in \u001b[0;36mastype_nansafe\u001b[0;34m(arr, dtype, copy, skipna)\u001b[0m\n\u001b[1;32m    168\u001b[0m     \u001b[0;32mif\u001b[0m \u001b[0mcopy\u001b[0m \u001b[0;32mor\u001b[0m \u001b[0mis_object_dtype\u001b[0m\u001b[0;34m(\u001b[0m\u001b[0marr\u001b[0m\u001b[0;34m.\u001b[0m\u001b[0mdtype\u001b[0m\u001b[0;34m)\u001b[0m \u001b[0;32mor\u001b[0m \u001b[0mis_object_dtype\u001b[0m\u001b[0;34m(\u001b[0m\u001b[0mdtype\u001b[0m\u001b[0;34m)\u001b[0m\u001b[0;34m:\u001b[0m\u001b[0;34m\u001b[0m\u001b[0;34m\u001b[0m\u001b[0m\n\u001b[1;32m    169\u001b[0m         \u001b[0;31m# Explicit copy, or required since NumPy can't view from / to object.\u001b[0m\u001b[0;34m\u001b[0m\u001b[0;34m\u001b[0m\u001b[0;34m\u001b[0m\u001b[0m\n\u001b[0;32m--> 170\u001b[0;31m         \u001b[0;32mreturn\u001b[0m \u001b[0marr\u001b[0m\u001b[0;34m.\u001b[0m\u001b[0mastype\u001b[0m\u001b[0;34m(\u001b[0m\u001b[0mdtype\u001b[0m\u001b[0;34m,\u001b[0m \u001b[0mcopy\u001b[0m\u001b[0;34m=\u001b[0m\u001b[0;32mTrue\u001b[0m\u001b[0;34m)\u001b[0m\u001b[0;34m\u001b[0m\u001b[0;34m\u001b[0m\u001b[0m\n\u001b[0m\u001b[1;32m    171\u001b[0m \u001b[0;34m\u001b[0m\u001b[0m\n\u001b[1;32m    172\u001b[0m     \u001b[0;32mreturn\u001b[0m \u001b[0marr\u001b[0m\u001b[0;34m.\u001b[0m\u001b[0mastype\u001b[0m\u001b[0;34m(\u001b[0m\u001b[0mdtype\u001b[0m\u001b[0;34m,\u001b[0m \u001b[0mcopy\u001b[0m\u001b[0;34m=\u001b[0m\u001b[0mcopy\u001b[0m\u001b[0;34m)\u001b[0m\u001b[0;34m\u001b[0m\u001b[0;34m\u001b[0m\u001b[0m\n",
      "\u001b[0;31mValueError\u001b[0m: invalid literal for int() with base 10: '989P'"
     ]
    }
   ],
   "source": [
    "df_clean['Vlo-I'] = df_clean['Vlo-I'].astype(int)"
   ]
  },
  {
   "cell_type": "markdown",
   "metadata": {},
   "source": [
    "* Identificar strings que no se pueden convertir a int"
   ]
  },
  {
   "cell_type": "code",
   "execution_count": 14,
   "metadata": {},
   "outputs": [
    {
     "name": "stdout",
     "output_type": "stream",
     "text": [
      "68201\n"
     ]
    }
   ],
   "source": [
    "df_clean['Vlo-I'].to_list()\n",
    "\n",
    "num_buenos = []\n",
    "num_malos = []\n",
    "for i, vlo_i_i in enumerate(df_clean['Vlo-I'].to_list()):\n",
    "    try:\n",
    "        num_buenos.append(int(vlo_i_i))\n",
    "    except:\n",
    "        num_malos.append(vlo_i_i)          \n",
    "print(len(num_buenos))"
   ]
  },
  {
   "cell_type": "code",
   "execution_count": 15,
   "metadata": {},
   "outputs": [
    {
     "name": "stdout",
     "output_type": "stream",
     "text": [
      "['989P', '940P', '591P', '846A', '1104A']\n"
     ]
    }
   ],
   "source": [
    "print(num_malos)"
   ]
  },
  {
   "cell_type": "markdown",
   "metadata": {},
   "source": [
    "* Existen numeros con character. ¿Será un error de tipeo? Para validar esto se quitará el ultimo char en las filas de estos casos y se comparara versus el resto del dataset para ver si se duplican filas. En caso de no duplicarse filas significa que fue un error de tipeo"
   ]
  },
  {
   "cell_type": "code",
   "execution_count": 16,
   "metadata": {
    "scrolled": true
   },
   "outputs": [
    {
     "data": {
      "text/html": [
       "<div>\n",
       "<style scoped>\n",
       "    .dataframe tbody tr th:only-of-type {\n",
       "        vertical-align: middle;\n",
       "    }\n",
       "\n",
       "    .dataframe tbody tr th {\n",
       "        vertical-align: top;\n",
       "    }\n",
       "\n",
       "    .dataframe thead th {\n",
       "        text-align: right;\n",
       "    }\n",
       "</style>\n",
       "<table border=\"1\" class=\"dataframe\">\n",
       "  <thead>\n",
       "    <tr style=\"text-align: right;\">\n",
       "      <th></th>\n",
       "      <th>Fecha-I</th>\n",
       "      <th>Vlo-I</th>\n",
       "      <th>Ori-I</th>\n",
       "      <th>Des-I</th>\n",
       "      <th>Emp-I</th>\n",
       "      <th>Fecha-O</th>\n",
       "      <th>Vlo-O</th>\n",
       "      <th>Ori-O</th>\n",
       "      <th>Des-O</th>\n",
       "      <th>Emp-O</th>\n",
       "      <th>DIA</th>\n",
       "      <th>MES</th>\n",
       "      <th>AÑO</th>\n",
       "      <th>DIANOM</th>\n",
       "      <th>TIPOVUELO</th>\n",
       "      <th>OPERA</th>\n",
       "      <th>SIGLAORI</th>\n",
       "      <th>SIGLADES</th>\n",
       "    </tr>\n",
       "  </thead>\n",
       "  <tbody>\n",
       "    <tr>\n",
       "      <th>22232</th>\n",
       "      <td>2017-05-13 21:50:00</td>\n",
       "      <td>989</td>\n",
       "      <td>SCEL</td>\n",
       "      <td>SUMU</td>\n",
       "      <td>AAL</td>\n",
       "      <td>2017-05-13 21:52:00</td>\n",
       "      <td>989</td>\n",
       "      <td>SCEL</td>\n",
       "      <td>SUMU</td>\n",
       "      <td>AAL</td>\n",
       "      <td>13</td>\n",
       "      <td>5</td>\n",
       "      <td>2017</td>\n",
       "      <td>Sabado</td>\n",
       "      <td>I</td>\n",
       "      <td>American Airlines</td>\n",
       "      <td>Santiago</td>\n",
       "      <td>Montevideo</td>\n",
       "    </tr>\n",
       "    <tr>\n",
       "      <th>27464</th>\n",
       "      <td>2017-06-16 20:30:00</td>\n",
       "      <td>940</td>\n",
       "      <td>SCEL</td>\n",
       "      <td>KDFW</td>\n",
       "      <td>AAL</td>\n",
       "      <td>2017-06-16 20:50:00</td>\n",
       "      <td>940</td>\n",
       "      <td>SCEL</td>\n",
       "      <td>KDFW</td>\n",
       "      <td>AAL</td>\n",
       "      <td>16</td>\n",
       "      <td>6</td>\n",
       "      <td>2017</td>\n",
       "      <td>Viernes</td>\n",
       "      <td>I</td>\n",
       "      <td>American Airlines</td>\n",
       "      <td>Santiago</td>\n",
       "      <td>Dallas</td>\n",
       "    </tr>\n",
       "    <tr>\n",
       "      <th>39225</th>\n",
       "      <td>2017-08-07 19:00:00</td>\n",
       "      <td>591</td>\n",
       "      <td>SCEL</td>\n",
       "      <td>LFPG</td>\n",
       "      <td>PUE</td>\n",
       "      <td>2017-08-07 20:35:00</td>\n",
       "      <td>591P</td>\n",
       "      <td>SCEL</td>\n",
       "      <td>LFPG</td>\n",
       "      <td>PUE</td>\n",
       "      <td>7</td>\n",
       "      <td>8</td>\n",
       "      <td>2017</td>\n",
       "      <td>Lunes</td>\n",
       "      <td>I</td>\n",
       "      <td>Plus Ultra Lineas Aereas</td>\n",
       "      <td>Santiago</td>\n",
       "      <td>Paris</td>\n",
       "    </tr>\n",
       "    <tr>\n",
       "      <th>39266</th>\n",
       "      <td>2017-08-24 23:00:00</td>\n",
       "      <td>846</td>\n",
       "      <td>SCEL</td>\n",
       "      <td>KIAH</td>\n",
       "      <td>UAL</td>\n",
       "      <td>2017-08-24 23:00:00</td>\n",
       "      <td>2804</td>\n",
       "      <td>SCEL</td>\n",
       "      <td>KIAH</td>\n",
       "      <td>UAL</td>\n",
       "      <td>24</td>\n",
       "      <td>8</td>\n",
       "      <td>2017</td>\n",
       "      <td>Jueves</td>\n",
       "      <td>I</td>\n",
       "      <td>United Airlines</td>\n",
       "      <td>Santiago</td>\n",
       "      <td>Houston</td>\n",
       "    </tr>\n",
       "    <tr>\n",
       "      <th>58126</th>\n",
       "      <td>2017-11-05 17:00:00</td>\n",
       "      <td>1104</td>\n",
       "      <td>SCEL</td>\n",
       "      <td>SCSE</td>\n",
       "      <td>SKU</td>\n",
       "      <td>2017-11-05 17:42:00</td>\n",
       "      <td>1104</td>\n",
       "      <td>SCEL</td>\n",
       "      <td>SCSE</td>\n",
       "      <td>SKU</td>\n",
       "      <td>5</td>\n",
       "      <td>11</td>\n",
       "      <td>2017</td>\n",
       "      <td>Domingo</td>\n",
       "      <td>N</td>\n",
       "      <td>Sky Airline</td>\n",
       "      <td>Santiago</td>\n",
       "      <td>La Serena</td>\n",
       "    </tr>\n",
       "  </tbody>\n",
       "</table>\n",
       "</div>"
      ],
      "text/plain": [
       "                  Fecha-I Vlo-I Ori-I Des-I Emp-I             Fecha-O Vlo-O  \\\n",
       "22232 2017-05-13 21:50:00   989  SCEL  SUMU   AAL 2017-05-13 21:52:00   989   \n",
       "27464 2017-06-16 20:30:00   940  SCEL  KDFW   AAL 2017-06-16 20:50:00   940   \n",
       "39225 2017-08-07 19:00:00   591  SCEL  LFPG   PUE 2017-08-07 20:35:00  591P   \n",
       "39266 2017-08-24 23:00:00   846  SCEL  KIAH   UAL 2017-08-24 23:00:00  2804   \n",
       "58126 2017-11-05 17:00:00  1104  SCEL  SCSE   SKU 2017-11-05 17:42:00  1104   \n",
       "\n",
       "      Ori-O Des-O Emp-O  DIA  MES   AÑO   DIANOM TIPOVUELO  \\\n",
       "22232  SCEL  SUMU   AAL   13    5  2017   Sabado         I   \n",
       "27464  SCEL  KDFW   AAL   16    6  2017  Viernes         I   \n",
       "39225  SCEL  LFPG   PUE    7    8  2017    Lunes         I   \n",
       "39266  SCEL  KIAH   UAL   24    8  2017   Jueves         I   \n",
       "58126  SCEL  SCSE   SKU    5   11  2017  Domingo         N   \n",
       "\n",
       "                          OPERA  SIGLAORI    SIGLADES  \n",
       "22232         American Airlines  Santiago  Montevideo  \n",
       "27464         American Airlines  Santiago      Dallas  \n",
       "39225  Plus Ultra Lineas Aereas  Santiago       Paris  \n",
       "39266           United Airlines  Santiago     Houston  \n",
       "58126               Sky Airline  Santiago   La Serena  "
      ]
     },
     "execution_count": 16,
     "metadata": {},
     "output_type": "execute_result"
    }
   ],
   "source": [
    "# seleccionar dataset con char\n",
    "df_clean_w_char = df_clean[df_clean['Vlo-I'].isin(num_malos)].copy()\n",
    "\n",
    "# quitarles ultimo caracter \n",
    "df_clean_w_char['Vlo-I'] = df_clean_w_char['Vlo-I'].str[:-1] # quitarles ultimo caracter \n",
    "df_clean_w_char"
   ]
  },
  {
   "cell_type": "code",
   "execution_count": 17,
   "metadata": {},
   "outputs": [],
   "source": [
    "# seleccionar el complemento\n",
    "# quitarles ultimo caracter \n",
    "df_complement = df_clean[~df_clean['Vlo-I'].isin(num_malos)].copy()"
   ]
  },
  {
   "cell_type": "code",
   "execution_count": 18,
   "metadata": {},
   "outputs": [
    {
     "data": {
      "text/plain": [
       "((68201, 18), (5, 18), (68206, 18))"
      ]
     },
     "execution_count": 18,
     "metadata": {},
     "output_type": "execute_result"
    }
   ],
   "source": [
    "# cuadratura\n",
    "df_complement.shape, df_clean_w_char.shape, df.shape"
   ]
  },
  {
   "cell_type": "code",
   "execution_count": 19,
   "metadata": {},
   "outputs": [],
   "source": [
    "df_append = pd.concat([df_complement, df_clean_w_char])"
   ]
  },
  {
   "cell_type": "code",
   "execution_count": 20,
   "metadata": {},
   "outputs": [
    {
     "data": {
      "text/html": [
       "<div>\n",
       "<style scoped>\n",
       "    .dataframe tbody tr th:only-of-type {\n",
       "        vertical-align: middle;\n",
       "    }\n",
       "\n",
       "    .dataframe tbody tr th {\n",
       "        vertical-align: top;\n",
       "    }\n",
       "\n",
       "    .dataframe thead th {\n",
       "        text-align: right;\n",
       "    }\n",
       "</style>\n",
       "<table border=\"1\" class=\"dataframe\">\n",
       "  <thead>\n",
       "    <tr style=\"text-align: right;\">\n",
       "      <th></th>\n",
       "      <th>Fecha-I</th>\n",
       "      <th>Vlo-I</th>\n",
       "      <th>Ori-I</th>\n",
       "      <th>Des-I</th>\n",
       "      <th>Emp-I</th>\n",
       "      <th>Fecha-O</th>\n",
       "      <th>Vlo-O</th>\n",
       "      <th>Ori-O</th>\n",
       "      <th>Des-O</th>\n",
       "      <th>Emp-O</th>\n",
       "      <th>DIA</th>\n",
       "      <th>MES</th>\n",
       "      <th>AÑO</th>\n",
       "      <th>DIANOM</th>\n",
       "      <th>TIPOVUELO</th>\n",
       "      <th>OPERA</th>\n",
       "      <th>SIGLAORI</th>\n",
       "      <th>SIGLADES</th>\n",
       "    </tr>\n",
       "  </thead>\n",
       "  <tbody>\n",
       "    <tr>\n",
       "      <th>0</th>\n",
       "      <td>2017-01-01 23:30:00</td>\n",
       "      <td>226</td>\n",
       "      <td>SCEL</td>\n",
       "      <td>KMIA</td>\n",
       "      <td>AAL</td>\n",
       "      <td>2017-01-01 23:33:00</td>\n",
       "      <td>226</td>\n",
       "      <td>SCEL</td>\n",
       "      <td>KMIA</td>\n",
       "      <td>AAL</td>\n",
       "      <td>1</td>\n",
       "      <td>1</td>\n",
       "      <td>2017</td>\n",
       "      <td>Domingo</td>\n",
       "      <td>I</td>\n",
       "      <td>American Airlines</td>\n",
       "      <td>Santiago</td>\n",
       "      <td>Miami</td>\n",
       "    </tr>\n",
       "    <tr>\n",
       "      <th>1</th>\n",
       "      <td>2017-01-02 23:30:00</td>\n",
       "      <td>226</td>\n",
       "      <td>SCEL</td>\n",
       "      <td>KMIA</td>\n",
       "      <td>AAL</td>\n",
       "      <td>2017-01-02 23:39:00</td>\n",
       "      <td>226</td>\n",
       "      <td>SCEL</td>\n",
       "      <td>KMIA</td>\n",
       "      <td>AAL</td>\n",
       "      <td>2</td>\n",
       "      <td>1</td>\n",
       "      <td>2017</td>\n",
       "      <td>Lunes</td>\n",
       "      <td>I</td>\n",
       "      <td>American Airlines</td>\n",
       "      <td>Santiago</td>\n",
       "      <td>Miami</td>\n",
       "    </tr>\n",
       "    <tr>\n",
       "      <th>2</th>\n",
       "      <td>2017-01-03 23:30:00</td>\n",
       "      <td>226</td>\n",
       "      <td>SCEL</td>\n",
       "      <td>KMIA</td>\n",
       "      <td>AAL</td>\n",
       "      <td>2017-01-03 23:39:00</td>\n",
       "      <td>226</td>\n",
       "      <td>SCEL</td>\n",
       "      <td>KMIA</td>\n",
       "      <td>AAL</td>\n",
       "      <td>3</td>\n",
       "      <td>1</td>\n",
       "      <td>2017</td>\n",
       "      <td>Martes</td>\n",
       "      <td>I</td>\n",
       "      <td>American Airlines</td>\n",
       "      <td>Santiago</td>\n",
       "      <td>Miami</td>\n",
       "    </tr>\n",
       "    <tr>\n",
       "      <th>3</th>\n",
       "      <td>2017-01-04 23:30:00</td>\n",
       "      <td>226</td>\n",
       "      <td>SCEL</td>\n",
       "      <td>KMIA</td>\n",
       "      <td>AAL</td>\n",
       "      <td>2017-01-04 23:33:00</td>\n",
       "      <td>226</td>\n",
       "      <td>SCEL</td>\n",
       "      <td>KMIA</td>\n",
       "      <td>AAL</td>\n",
       "      <td>4</td>\n",
       "      <td>1</td>\n",
       "      <td>2017</td>\n",
       "      <td>Miercoles</td>\n",
       "      <td>I</td>\n",
       "      <td>American Airlines</td>\n",
       "      <td>Santiago</td>\n",
       "      <td>Miami</td>\n",
       "    </tr>\n",
       "    <tr>\n",
       "      <th>4</th>\n",
       "      <td>2017-01-05 23:30:00</td>\n",
       "      <td>226</td>\n",
       "      <td>SCEL</td>\n",
       "      <td>KMIA</td>\n",
       "      <td>AAL</td>\n",
       "      <td>2017-01-05 23:28:00</td>\n",
       "      <td>226</td>\n",
       "      <td>SCEL</td>\n",
       "      <td>KMIA</td>\n",
       "      <td>AAL</td>\n",
       "      <td>5</td>\n",
       "      <td>1</td>\n",
       "      <td>2017</td>\n",
       "      <td>Jueves</td>\n",
       "      <td>I</td>\n",
       "      <td>American Airlines</td>\n",
       "      <td>Santiago</td>\n",
       "      <td>Miami</td>\n",
       "    </tr>\n",
       "  </tbody>\n",
       "</table>\n",
       "</div>"
      ],
      "text/plain": [
       "              Fecha-I Vlo-I Ori-I Des-I Emp-I             Fecha-O Vlo-O Ori-O  \\\n",
       "0 2017-01-01 23:30:00   226  SCEL  KMIA   AAL 2017-01-01 23:33:00   226  SCEL   \n",
       "1 2017-01-02 23:30:00   226  SCEL  KMIA   AAL 2017-01-02 23:39:00   226  SCEL   \n",
       "2 2017-01-03 23:30:00   226  SCEL  KMIA   AAL 2017-01-03 23:39:00   226  SCEL   \n",
       "3 2017-01-04 23:30:00   226  SCEL  KMIA   AAL 2017-01-04 23:33:00   226  SCEL   \n",
       "4 2017-01-05 23:30:00   226  SCEL  KMIA   AAL 2017-01-05 23:28:00   226  SCEL   \n",
       "\n",
       "  Des-O Emp-O  DIA  MES   AÑO     DIANOM TIPOVUELO              OPERA  \\\n",
       "0  KMIA   AAL    1    1  2017    Domingo         I  American Airlines   \n",
       "1  KMIA   AAL    2    1  2017      Lunes         I  American Airlines   \n",
       "2  KMIA   AAL    3    1  2017     Martes         I  American Airlines   \n",
       "3  KMIA   AAL    4    1  2017  Miercoles         I  American Airlines   \n",
       "4  KMIA   AAL    5    1  2017     Jueves         I  American Airlines   \n",
       "\n",
       "   SIGLAORI SIGLADES  \n",
       "0  Santiago    Miami  \n",
       "1  Santiago    Miami  \n",
       "2  Santiago    Miami  \n",
       "3  Santiago    Miami  \n",
       "4  Santiago    Miami  "
      ]
     },
     "execution_count": 20,
     "metadata": {},
     "output_type": "execute_result"
    }
   ],
   "source": [
    "df_append.head()"
   ]
  },
  {
   "cell_type": "code",
   "execution_count": 21,
   "metadata": {},
   "outputs": [
    {
     "data": {
      "text/plain": [
       "False"
      ]
     },
     "execution_count": 21,
     "metadata": {},
     "output_type": "execute_result"
    }
   ],
   "source": [
    "df_append.duplicated().any()"
   ]
  },
  {
   "cell_type": "markdown",
   "metadata": {},
   "source": [
    "* Al quitar ultimo char y volver a concatenar resultados no hay filas duplicadas. Los datos quedan limpios. Se puede volver a limpiar las columnas"
   ]
  },
  {
   "cell_type": "code",
   "execution_count": 22,
   "metadata": {},
   "outputs": [
    {
     "data": {
      "text/plain": [
       "Fecha-I      datetime64[ns]\n",
       "Vlo-I                object\n",
       "Ori-I                object\n",
       "Des-I                object\n",
       "Emp-I                object\n",
       "Fecha-O      datetime64[ns]\n",
       "Vlo-O                object\n",
       "Ori-O                object\n",
       "Des-O                object\n",
       "Emp-O                object\n",
       "DIA                   int64\n",
       "MES                   int64\n",
       "AÑO                   int64\n",
       "DIANOM               object\n",
       "TIPOVUELO            object\n",
       "OPERA                object\n",
       "SIGLAORI             object\n",
       "SIGLADES             object\n",
       "dtype: object"
      ]
     },
     "execution_count": 22,
     "metadata": {},
     "output_type": "execute_result"
    }
   ],
   "source": [
    "df_append.dtypes"
   ]
  },
  {
   "cell_type": "code",
   "execution_count": 23,
   "metadata": {},
   "outputs": [],
   "source": [
    "df_append['Vlo-I'] = df_append['Vlo-I'].astype('int')"
   ]
  },
  {
   "cell_type": "markdown",
   "metadata": {},
   "source": [
    "* Repetir proceso para columna `Vlo-O`"
   ]
  },
  {
   "cell_type": "code",
   "execution_count": 24,
   "metadata": {},
   "outputs": [],
   "source": [
    "df_append['Vlo-O'].to_list()\n",
    "\n",
    "num_buenos = []\n",
    "num_malos = []\n",
    "for i, vlo_i_i in enumerate(df_append['Vlo-O'].to_list()):\n",
    "    try:\n",
    "        num_buenos.append(float(vlo_i_i))\n",
    "    except:\n",
    "        num_malos.append(vlo_i_i)          \n",
    "# print(len(num_buenos))"
   ]
  },
  {
   "cell_type": "code",
   "execution_count": 25,
   "metadata": {},
   "outputs": [
    {
     "data": {
      "text/plain": [
       "['71R',\n",
       " '71R',\n",
       " '201R',\n",
       " '71R',\n",
       " '43R',\n",
       " '401A',\n",
       " '401B',\n",
       " '802R',\n",
       " '114R',\n",
       " '622R',\n",
       " '492R',\n",
       " '338R',\n",
       " '846A',\n",
       " '502R',\n",
       " '207R',\n",
       " '591P']"
      ]
     },
     "execution_count": 25,
     "metadata": {},
     "output_type": "execute_result"
    }
   ],
   "source": [
    "num_malos"
   ]
  },
  {
   "cell_type": "code",
   "execution_count": 26,
   "metadata": {},
   "outputs": [
    {
     "data": {
      "text/html": [
       "<div>\n",
       "<style scoped>\n",
       "    .dataframe tbody tr th:only-of-type {\n",
       "        vertical-align: middle;\n",
       "    }\n",
       "\n",
       "    .dataframe tbody tr th {\n",
       "        vertical-align: top;\n",
       "    }\n",
       "\n",
       "    .dataframe thead th {\n",
       "        text-align: right;\n",
       "    }\n",
       "</style>\n",
       "<table border=\"1\" class=\"dataframe\">\n",
       "  <thead>\n",
       "    <tr style=\"text-align: right;\">\n",
       "      <th></th>\n",
       "      <th>Fecha-I</th>\n",
       "      <th>Vlo-I</th>\n",
       "      <th>Ori-I</th>\n",
       "      <th>Des-I</th>\n",
       "      <th>Emp-I</th>\n",
       "      <th>Fecha-O</th>\n",
       "      <th>Vlo-O</th>\n",
       "      <th>Ori-O</th>\n",
       "      <th>Des-O</th>\n",
       "      <th>Emp-O</th>\n",
       "      <th>DIA</th>\n",
       "      <th>MES</th>\n",
       "      <th>AÑO</th>\n",
       "      <th>DIANOM</th>\n",
       "      <th>TIPOVUELO</th>\n",
       "      <th>OPERA</th>\n",
       "      <th>SIGLAORI</th>\n",
       "      <th>SIGLADES</th>\n",
       "    </tr>\n",
       "  </thead>\n",
       "  <tbody>\n",
       "    <tr>\n",
       "      <th>13906</th>\n",
       "      <td>2017-03-30 10:30:00</td>\n",
       "      <td>71</td>\n",
       "      <td>SCEL</td>\n",
       "      <td>SCIE</td>\n",
       "      <td>SKU</td>\n",
       "      <td>2017-03-30 10:50:00</td>\n",
       "      <td>71</td>\n",
       "      <td>SCEL</td>\n",
       "      <td>SCIE</td>\n",
       "      <td>SKU</td>\n",
       "      <td>30</td>\n",
       "      <td>3</td>\n",
       "      <td>2017</td>\n",
       "      <td>Jueves</td>\n",
       "      <td>N</td>\n",
       "      <td>Sky Airline</td>\n",
       "      <td>Santiago</td>\n",
       "      <td>Concepcion</td>\n",
       "    </tr>\n",
       "    <tr>\n",
       "      <th>13907</th>\n",
       "      <td>2017-03-22 11:00:00</td>\n",
       "      <td>1071</td>\n",
       "      <td>SCEL</td>\n",
       "      <td>SCIE</td>\n",
       "      <td>SKU</td>\n",
       "      <td>2017-03-22 11:00:00</td>\n",
       "      <td>71</td>\n",
       "      <td>SCEL</td>\n",
       "      <td>SCIE</td>\n",
       "      <td>SKU</td>\n",
       "      <td>22</td>\n",
       "      <td>3</td>\n",
       "      <td>2017</td>\n",
       "      <td>Miercoles</td>\n",
       "      <td>N</td>\n",
       "      <td>Sky Airline</td>\n",
       "      <td>Santiago</td>\n",
       "      <td>Concepcion</td>\n",
       "    </tr>\n",
       "    <tr>\n",
       "      <th>17055</th>\n",
       "      <td>2017-03-22 10:00:00</td>\n",
       "      <td>201</td>\n",
       "      <td>SCEL</td>\n",
       "      <td>SCIE</td>\n",
       "      <td>LXP</td>\n",
       "      <td>2017-03-22 11:50:00</td>\n",
       "      <td>201</td>\n",
       "      <td>SCEL</td>\n",
       "      <td>SCIE</td>\n",
       "      <td>LXP</td>\n",
       "      <td>22</td>\n",
       "      <td>3</td>\n",
       "      <td>2017</td>\n",
       "      <td>Miercoles</td>\n",
       "      <td>N</td>\n",
       "      <td>Grupo LATAM</td>\n",
       "      <td>Santiago</td>\n",
       "      <td>Concepcion</td>\n",
       "    </tr>\n",
       "    <tr>\n",
       "      <th>19207</th>\n",
       "      <td>2017-04-25 09:00:00</td>\n",
       "      <td>71</td>\n",
       "      <td>SCEL</td>\n",
       "      <td>SCIE</td>\n",
       "      <td>SKU</td>\n",
       "      <td>2017-04-25 09:29:00</td>\n",
       "      <td>71</td>\n",
       "      <td>SCEL</td>\n",
       "      <td>SCIE</td>\n",
       "      <td>SKU</td>\n",
       "      <td>25</td>\n",
       "      <td>4</td>\n",
       "      <td>2017</td>\n",
       "      <td>Martes</td>\n",
       "      <td>N</td>\n",
       "      <td>Sky Airline</td>\n",
       "      <td>Santiago</td>\n",
       "      <td>Concepcion</td>\n",
       "    </tr>\n",
       "    <tr>\n",
       "      <th>22167</th>\n",
       "      <td>2017-04-06 21:10:00</td>\n",
       "      <td>43</td>\n",
       "      <td>SCEL</td>\n",
       "      <td>SCIE</td>\n",
       "      <td>LAW</td>\n",
       "      <td>2017-04-06 21:24:00</td>\n",
       "      <td>43</td>\n",
       "      <td>SCEL</td>\n",
       "      <td>SCIE</td>\n",
       "      <td>JMR</td>\n",
       "      <td>6</td>\n",
       "      <td>4</td>\n",
       "      <td>2017</td>\n",
       "      <td>Jueves</td>\n",
       "      <td>N</td>\n",
       "      <td>Latin American Wings</td>\n",
       "      <td>Santiago</td>\n",
       "      <td>Concepcion</td>\n",
       "    </tr>\n",
       "    <tr>\n",
       "      <th>22301</th>\n",
       "      <td>2017-05-26 09:40:00</td>\n",
       "      <td>401</td>\n",
       "      <td>SCEL</td>\n",
       "      <td>LFPG</td>\n",
       "      <td>AFR</td>\n",
       "      <td>2017-05-26 10:03:00</td>\n",
       "      <td>401</td>\n",
       "      <td>SCEL</td>\n",
       "      <td>LFPG</td>\n",
       "      <td>AFR</td>\n",
       "      <td>26</td>\n",
       "      <td>5</td>\n",
       "      <td>2017</td>\n",
       "      <td>Viernes</td>\n",
       "      <td>I</td>\n",
       "      <td>Air France</td>\n",
       "      <td>Santiago</td>\n",
       "      <td>Paris</td>\n",
       "    </tr>\n",
       "    <tr>\n",
       "      <th>22302</th>\n",
       "      <td>2017-05-28 09:40:00</td>\n",
       "      <td>401</td>\n",
       "      <td>SCEL</td>\n",
       "      <td>LFPG</td>\n",
       "      <td>AFR</td>\n",
       "      <td>2017-05-28 09:43:00</td>\n",
       "      <td>401</td>\n",
       "      <td>SCEL</td>\n",
       "      <td>LFPG</td>\n",
       "      <td>AFR</td>\n",
       "      <td>28</td>\n",
       "      <td>5</td>\n",
       "      <td>2017</td>\n",
       "      <td>Domingo</td>\n",
       "      <td>I</td>\n",
       "      <td>Air France</td>\n",
       "      <td>Santiago</td>\n",
       "      <td>Paris</td>\n",
       "    </tr>\n",
       "    <tr>\n",
       "      <th>24304</th>\n",
       "      <td>2017-05-11 10:00:00</td>\n",
       "      <td>802</td>\n",
       "      <td>SCEL</td>\n",
       "      <td>SPJC</td>\n",
       "      <td>SKU</td>\n",
       "      <td>2017-05-11 10:36:00</td>\n",
       "      <td>802</td>\n",
       "      <td>SCEL</td>\n",
       "      <td>SPJC</td>\n",
       "      <td>SKU</td>\n",
       "      <td>11</td>\n",
       "      <td>5</td>\n",
       "      <td>2017</td>\n",
       "      <td>Jueves</td>\n",
       "      <td>I</td>\n",
       "      <td>Sky Airline</td>\n",
       "      <td>Santiago</td>\n",
       "      <td>Lima</td>\n",
       "    </tr>\n",
       "    <tr>\n",
       "      <th>27246</th>\n",
       "      <td>2017-05-15 12:15:00</td>\n",
       "      <td>114</td>\n",
       "      <td>SCEL</td>\n",
       "      <td>SCAT</td>\n",
       "      <td>LAN</td>\n",
       "      <td>2017-05-15 13:10:00</td>\n",
       "      <td>114</td>\n",
       "      <td>SCEL</td>\n",
       "      <td>SCAT</td>\n",
       "      <td>LAN</td>\n",
       "      <td>15</td>\n",
       "      <td>5</td>\n",
       "      <td>2017</td>\n",
       "      <td>Lunes</td>\n",
       "      <td>N</td>\n",
       "      <td>Grupo LATAM</td>\n",
       "      <td>Santiago</td>\n",
       "      <td>Copiapo</td>\n",
       "    </tr>\n",
       "    <tr>\n",
       "      <th>27247</th>\n",
       "      <td>2017-05-25 13:15:00</td>\n",
       "      <td>622</td>\n",
       "      <td>SCEL</td>\n",
       "      <td>MMMX</td>\n",
       "      <td>LAN</td>\n",
       "      <td>2017-05-25 13:23:00</td>\n",
       "      <td>622</td>\n",
       "      <td>SCEL</td>\n",
       "      <td>MMMX</td>\n",
       "      <td>LAN</td>\n",
       "      <td>25</td>\n",
       "      <td>5</td>\n",
       "      <td>2017</td>\n",
       "      <td>Jueves</td>\n",
       "      <td>I</td>\n",
       "      <td>Grupo LATAM</td>\n",
       "      <td>Santiago</td>\n",
       "      <td>Ciudad de Mexico</td>\n",
       "    </tr>\n",
       "    <tr>\n",
       "      <th>32196</th>\n",
       "      <td>2017-06-29 12:40:00</td>\n",
       "      <td>492</td>\n",
       "      <td>SCEL</td>\n",
       "      <td>SACO</td>\n",
       "      <td>LAN</td>\n",
       "      <td>2017-06-29 12:27:00</td>\n",
       "      <td>492</td>\n",
       "      <td>SCEL</td>\n",
       "      <td>SACO</td>\n",
       "      <td>LAN</td>\n",
       "      <td>29</td>\n",
       "      <td>6</td>\n",
       "      <td>2017</td>\n",
       "      <td>Jueves</td>\n",
       "      <td>I</td>\n",
       "      <td>Grupo LATAM</td>\n",
       "      <td>Santiago</td>\n",
       "      <td>Cordoba</td>\n",
       "    </tr>\n",
       "    <tr>\n",
       "      <th>38150</th>\n",
       "      <td>2017-07-10 23:30:00</td>\n",
       "      <td>338</td>\n",
       "      <td>SCEL</td>\n",
       "      <td>SCFA</td>\n",
       "      <td>LXP</td>\n",
       "      <td>2017-07-10 23:35:00</td>\n",
       "      <td>338</td>\n",
       "      <td>SCEL</td>\n",
       "      <td>SCFA</td>\n",
       "      <td>LXP</td>\n",
       "      <td>10</td>\n",
       "      <td>7</td>\n",
       "      <td>2017</td>\n",
       "      <td>Lunes</td>\n",
       "      <td>N</td>\n",
       "      <td>Grupo LATAM</td>\n",
       "      <td>Santiago</td>\n",
       "      <td>Antofagasta</td>\n",
       "    </tr>\n",
       "    <tr>\n",
       "      <th>44939</th>\n",
       "      <td>2017-09-28 21:30:00</td>\n",
       "      <td>846</td>\n",
       "      <td>SCEL</td>\n",
       "      <td>KIAH</td>\n",
       "      <td>UAL</td>\n",
       "      <td>2017-09-28 21:44:00</td>\n",
       "      <td>846</td>\n",
       "      <td>SCEL</td>\n",
       "      <td>KIAH</td>\n",
       "      <td>UAL</td>\n",
       "      <td>28</td>\n",
       "      <td>9</td>\n",
       "      <td>2017</td>\n",
       "      <td>Jueves</td>\n",
       "      <td>I</td>\n",
       "      <td>United Airlines</td>\n",
       "      <td>Santiago</td>\n",
       "      <td>Houston</td>\n",
       "    </tr>\n",
       "    <tr>\n",
       "      <th>55354</th>\n",
       "      <td>2017-10-19 03:30:00</td>\n",
       "      <td>502</td>\n",
       "      <td>SCEL</td>\n",
       "      <td>KMIA</td>\n",
       "      <td>LAN</td>\n",
       "      <td>2017-10-19 03:33:00</td>\n",
       "      <td>502</td>\n",
       "      <td>SCEL</td>\n",
       "      <td>KMIA</td>\n",
       "      <td>LAN</td>\n",
       "      <td>19</td>\n",
       "      <td>10</td>\n",
       "      <td>2017</td>\n",
       "      <td>Jueves</td>\n",
       "      <td>I</td>\n",
       "      <td>Grupo LATAM</td>\n",
       "      <td>Santiago</td>\n",
       "      <td>Miami</td>\n",
       "    </tr>\n",
       "    <tr>\n",
       "      <th>61426</th>\n",
       "      <td>2017-11-05 16:30:00</td>\n",
       "      <td>207</td>\n",
       "      <td>SCEL</td>\n",
       "      <td>SCIE</td>\n",
       "      <td>LXP</td>\n",
       "      <td>2017-11-05 18:22:00</td>\n",
       "      <td>207</td>\n",
       "      <td>SCEL</td>\n",
       "      <td>SCIE</td>\n",
       "      <td>LXP</td>\n",
       "      <td>5</td>\n",
       "      <td>11</td>\n",
       "      <td>2017</td>\n",
       "      <td>Domingo</td>\n",
       "      <td>N</td>\n",
       "      <td>Grupo LATAM</td>\n",
       "      <td>Santiago</td>\n",
       "      <td>Concepcion</td>\n",
       "    </tr>\n",
       "    <tr>\n",
       "      <th>39225</th>\n",
       "      <td>2017-08-07 19:00:00</td>\n",
       "      <td>591</td>\n",
       "      <td>SCEL</td>\n",
       "      <td>LFPG</td>\n",
       "      <td>PUE</td>\n",
       "      <td>2017-08-07 20:35:00</td>\n",
       "      <td>591</td>\n",
       "      <td>SCEL</td>\n",
       "      <td>LFPG</td>\n",
       "      <td>PUE</td>\n",
       "      <td>7</td>\n",
       "      <td>8</td>\n",
       "      <td>2017</td>\n",
       "      <td>Lunes</td>\n",
       "      <td>I</td>\n",
       "      <td>Plus Ultra Lineas Aereas</td>\n",
       "      <td>Santiago</td>\n",
       "      <td>Paris</td>\n",
       "    </tr>\n",
       "  </tbody>\n",
       "</table>\n",
       "</div>"
      ],
      "text/plain": [
       "                  Fecha-I  Vlo-I Ori-I Des-I Emp-I             Fecha-O Vlo-O  \\\n",
       "13906 2017-03-30 10:30:00     71  SCEL  SCIE   SKU 2017-03-30 10:50:00    71   \n",
       "13907 2017-03-22 11:00:00   1071  SCEL  SCIE   SKU 2017-03-22 11:00:00    71   \n",
       "17055 2017-03-22 10:00:00    201  SCEL  SCIE   LXP 2017-03-22 11:50:00   201   \n",
       "19207 2017-04-25 09:00:00     71  SCEL  SCIE   SKU 2017-04-25 09:29:00    71   \n",
       "22167 2017-04-06 21:10:00     43  SCEL  SCIE   LAW 2017-04-06 21:24:00    43   \n",
       "22301 2017-05-26 09:40:00    401  SCEL  LFPG   AFR 2017-05-26 10:03:00   401   \n",
       "22302 2017-05-28 09:40:00    401  SCEL  LFPG   AFR 2017-05-28 09:43:00   401   \n",
       "24304 2017-05-11 10:00:00    802  SCEL  SPJC   SKU 2017-05-11 10:36:00   802   \n",
       "27246 2017-05-15 12:15:00    114  SCEL  SCAT   LAN 2017-05-15 13:10:00   114   \n",
       "27247 2017-05-25 13:15:00    622  SCEL  MMMX   LAN 2017-05-25 13:23:00   622   \n",
       "32196 2017-06-29 12:40:00    492  SCEL  SACO   LAN 2017-06-29 12:27:00   492   \n",
       "38150 2017-07-10 23:30:00    338  SCEL  SCFA   LXP 2017-07-10 23:35:00   338   \n",
       "44939 2017-09-28 21:30:00    846  SCEL  KIAH   UAL 2017-09-28 21:44:00   846   \n",
       "55354 2017-10-19 03:30:00    502  SCEL  KMIA   LAN 2017-10-19 03:33:00   502   \n",
       "61426 2017-11-05 16:30:00    207  SCEL  SCIE   LXP 2017-11-05 18:22:00   207   \n",
       "39225 2017-08-07 19:00:00    591  SCEL  LFPG   PUE 2017-08-07 20:35:00   591   \n",
       "\n",
       "      Ori-O Des-O Emp-O  DIA  MES   AÑO     DIANOM TIPOVUELO  \\\n",
       "13906  SCEL  SCIE   SKU   30    3  2017     Jueves         N   \n",
       "13907  SCEL  SCIE   SKU   22    3  2017  Miercoles         N   \n",
       "17055  SCEL  SCIE   LXP   22    3  2017  Miercoles         N   \n",
       "19207  SCEL  SCIE   SKU   25    4  2017     Martes         N   \n",
       "22167  SCEL  SCIE   JMR    6    4  2017     Jueves         N   \n",
       "22301  SCEL  LFPG   AFR   26    5  2017    Viernes         I   \n",
       "22302  SCEL  LFPG   AFR   28    5  2017    Domingo         I   \n",
       "24304  SCEL  SPJC   SKU   11    5  2017     Jueves         I   \n",
       "27246  SCEL  SCAT   LAN   15    5  2017      Lunes         N   \n",
       "27247  SCEL  MMMX   LAN   25    5  2017     Jueves         I   \n",
       "32196  SCEL  SACO   LAN   29    6  2017     Jueves         I   \n",
       "38150  SCEL  SCFA   LXP   10    7  2017      Lunes         N   \n",
       "44939  SCEL  KIAH   UAL   28    9  2017     Jueves         I   \n",
       "55354  SCEL  KMIA   LAN   19   10  2017     Jueves         I   \n",
       "61426  SCEL  SCIE   LXP    5   11  2017    Domingo         N   \n",
       "39225  SCEL  LFPG   PUE    7    8  2017      Lunes         I   \n",
       "\n",
       "                          OPERA  SIGLAORI          SIGLADES  \n",
       "13906               Sky Airline  Santiago        Concepcion  \n",
       "13907               Sky Airline  Santiago        Concepcion  \n",
       "17055               Grupo LATAM  Santiago        Concepcion  \n",
       "19207               Sky Airline  Santiago        Concepcion  \n",
       "22167      Latin American Wings  Santiago        Concepcion  \n",
       "22301                Air France  Santiago             Paris  \n",
       "22302                Air France  Santiago             Paris  \n",
       "24304               Sky Airline  Santiago              Lima  \n",
       "27246               Grupo LATAM  Santiago           Copiapo  \n",
       "27247               Grupo LATAM  Santiago  Ciudad de Mexico  \n",
       "32196               Grupo LATAM  Santiago           Cordoba  \n",
       "38150               Grupo LATAM  Santiago       Antofagasta  \n",
       "44939           United Airlines  Santiago           Houston  \n",
       "55354               Grupo LATAM  Santiago             Miami  \n",
       "61426               Grupo LATAM  Santiago        Concepcion  \n",
       "39225  Plus Ultra Lineas Aereas  Santiago             Paris  "
      ]
     },
     "execution_count": 26,
     "metadata": {},
     "output_type": "execute_result"
    }
   ],
   "source": [
    "# seleccionar dataset con char\n",
    "df_clean_w_char = df_append[df_append['Vlo-O'].isin(num_malos)].copy()\n",
    "\n",
    "# quitarles ultimo caracter \n",
    "df_clean_w_char['Vlo-O'] = df_clean_w_char['Vlo-O'].str[:-1] # quitarles ultimo caracter \n",
    "df_clean_w_char"
   ]
  },
  {
   "cell_type": "code",
   "execution_count": 27,
   "metadata": {},
   "outputs": [],
   "source": [
    "# seleccionar el complemento\n",
    "# quitarles ultimo caracter \n",
    "df_complement = df_append[~df_append['Vlo-O'].isin(num_malos)].copy()"
   ]
  },
  {
   "cell_type": "code",
   "execution_count": 28,
   "metadata": {},
   "outputs": [
    {
     "data": {
      "text/plain": [
       "((68190, 18), (16, 18), (68206, 18))"
      ]
     },
     "execution_count": 28,
     "metadata": {},
     "output_type": "execute_result"
    }
   ],
   "source": [
    "# cuadratura\n",
    "df_complement.shape, df_clean_w_char.shape, df.shape"
   ]
  },
  {
   "cell_type": "code",
   "execution_count": 29,
   "metadata": {},
   "outputs": [],
   "source": [
    "df_append_2 = pd.concat([df_complement, df_clean_w_char])"
   ]
  },
  {
   "cell_type": "code",
   "execution_count": 30,
   "metadata": {},
   "outputs": [
    {
     "data": {
      "text/plain": [
       "False"
      ]
     },
     "execution_count": 30,
     "metadata": {},
     "output_type": "execute_result"
    }
   ],
   "source": [
    "df_append_2.duplicated().any()"
   ]
  },
  {
   "cell_type": "code",
   "execution_count": 31,
   "metadata": {},
   "outputs": [
    {
     "ename": "ValueError",
     "evalue": "cannot convert float NaN to integer",
     "output_type": "error",
     "traceback": [
      "\u001b[0;31m---------------------------------------------------------------------------\u001b[0m",
      "\u001b[0;31mValueError\u001b[0m                                Traceback (most recent call last)",
      "\u001b[0;32m<ipython-input-31-c6b6daadc6a7>\u001b[0m in \u001b[0;36m<module>\u001b[0;34m\u001b[0m\n\u001b[0;32m----> 1\u001b[0;31m \u001b[0mdf_append_2\u001b[0m\u001b[0;34m[\u001b[0m\u001b[0;34m'Vlo-O'\u001b[0m\u001b[0;34m]\u001b[0m \u001b[0;34m=\u001b[0m \u001b[0mdf_append_2\u001b[0m\u001b[0;34m[\u001b[0m\u001b[0;34m'Vlo-O'\u001b[0m\u001b[0;34m]\u001b[0m\u001b[0;34m.\u001b[0m\u001b[0mastype\u001b[0m\u001b[0;34m(\u001b[0m\u001b[0;34m'int'\u001b[0m\u001b[0;34m)\u001b[0m\u001b[0;34m\u001b[0m\u001b[0;34m\u001b[0m\u001b[0m\n\u001b[0m",
      "\u001b[0;32m~/.local/lib/python3.8/site-packages/pandas/core/generic.py\u001b[0m in \u001b[0;36mastype\u001b[0;34m(self, dtype, copy, errors)\u001b[0m\n\u001b[1;32m   6243\u001b[0m         \u001b[0;32melse\u001b[0m\u001b[0;34m:\u001b[0m\u001b[0;34m\u001b[0m\u001b[0;34m\u001b[0m\u001b[0m\n\u001b[1;32m   6244\u001b[0m             \u001b[0;31m# else, only a single dtype is given\u001b[0m\u001b[0;34m\u001b[0m\u001b[0;34m\u001b[0m\u001b[0;34m\u001b[0m\u001b[0m\n\u001b[0;32m-> 6245\u001b[0;31m             \u001b[0mnew_data\u001b[0m \u001b[0;34m=\u001b[0m \u001b[0mself\u001b[0m\u001b[0;34m.\u001b[0m\u001b[0m_mgr\u001b[0m\u001b[0;34m.\u001b[0m\u001b[0mastype\u001b[0m\u001b[0;34m(\u001b[0m\u001b[0mdtype\u001b[0m\u001b[0;34m=\u001b[0m\u001b[0mdtype\u001b[0m\u001b[0;34m,\u001b[0m \u001b[0mcopy\u001b[0m\u001b[0;34m=\u001b[0m\u001b[0mcopy\u001b[0m\u001b[0;34m,\u001b[0m \u001b[0merrors\u001b[0m\u001b[0;34m=\u001b[0m\u001b[0merrors\u001b[0m\u001b[0;34m)\u001b[0m\u001b[0;34m\u001b[0m\u001b[0;34m\u001b[0m\u001b[0m\n\u001b[0m\u001b[1;32m   6246\u001b[0m             \u001b[0;32mreturn\u001b[0m \u001b[0mself\u001b[0m\u001b[0;34m.\u001b[0m\u001b[0m_constructor\u001b[0m\u001b[0;34m(\u001b[0m\u001b[0mnew_data\u001b[0m\u001b[0;34m)\u001b[0m\u001b[0;34m.\u001b[0m\u001b[0m__finalize__\u001b[0m\u001b[0;34m(\u001b[0m\u001b[0mself\u001b[0m\u001b[0;34m,\u001b[0m \u001b[0mmethod\u001b[0m\u001b[0;34m=\u001b[0m\u001b[0;34m\"astype\"\u001b[0m\u001b[0;34m)\u001b[0m\u001b[0;34m\u001b[0m\u001b[0;34m\u001b[0m\u001b[0m\n\u001b[1;32m   6247\u001b[0m \u001b[0;34m\u001b[0m\u001b[0m\n",
      "\u001b[0;32m~/.local/lib/python3.8/site-packages/pandas/core/internals/managers.py\u001b[0m in \u001b[0;36mastype\u001b[0;34m(self, dtype, copy, errors)\u001b[0m\n\u001b[1;32m    444\u001b[0m \u001b[0;34m\u001b[0m\u001b[0m\n\u001b[1;32m    445\u001b[0m     \u001b[0;32mdef\u001b[0m \u001b[0mastype\u001b[0m\u001b[0;34m(\u001b[0m\u001b[0mself\u001b[0m\u001b[0;34m:\u001b[0m \u001b[0mT\u001b[0m\u001b[0;34m,\u001b[0m \u001b[0mdtype\u001b[0m\u001b[0;34m,\u001b[0m \u001b[0mcopy\u001b[0m\u001b[0;34m:\u001b[0m \u001b[0mbool\u001b[0m \u001b[0;34m=\u001b[0m \u001b[0;32mFalse\u001b[0m\u001b[0;34m,\u001b[0m \u001b[0merrors\u001b[0m\u001b[0;34m:\u001b[0m \u001b[0mstr\u001b[0m \u001b[0;34m=\u001b[0m \u001b[0;34m\"raise\"\u001b[0m\u001b[0;34m)\u001b[0m \u001b[0;34m->\u001b[0m \u001b[0mT\u001b[0m\u001b[0;34m:\u001b[0m\u001b[0;34m\u001b[0m\u001b[0;34m\u001b[0m\u001b[0m\n\u001b[0;32m--> 446\u001b[0;31m         \u001b[0;32mreturn\u001b[0m \u001b[0mself\u001b[0m\u001b[0;34m.\u001b[0m\u001b[0mapply\u001b[0m\u001b[0;34m(\u001b[0m\u001b[0;34m\"astype\"\u001b[0m\u001b[0;34m,\u001b[0m \u001b[0mdtype\u001b[0m\u001b[0;34m=\u001b[0m\u001b[0mdtype\u001b[0m\u001b[0;34m,\u001b[0m \u001b[0mcopy\u001b[0m\u001b[0;34m=\u001b[0m\u001b[0mcopy\u001b[0m\u001b[0;34m,\u001b[0m \u001b[0merrors\u001b[0m\u001b[0;34m=\u001b[0m\u001b[0merrors\u001b[0m\u001b[0;34m)\u001b[0m\u001b[0;34m\u001b[0m\u001b[0;34m\u001b[0m\u001b[0m\n\u001b[0m\u001b[1;32m    447\u001b[0m \u001b[0;34m\u001b[0m\u001b[0m\n\u001b[1;32m    448\u001b[0m     def convert(\n",
      "\u001b[0;32m~/.local/lib/python3.8/site-packages/pandas/core/internals/managers.py\u001b[0m in \u001b[0;36mapply\u001b[0;34m(self, f, align_keys, ignore_failures, **kwargs)\u001b[0m\n\u001b[1;32m    346\u001b[0m                     \u001b[0mapplied\u001b[0m \u001b[0;34m=\u001b[0m \u001b[0mb\u001b[0m\u001b[0;34m.\u001b[0m\u001b[0mapply\u001b[0m\u001b[0;34m(\u001b[0m\u001b[0mf\u001b[0m\u001b[0;34m,\u001b[0m \u001b[0;34m**\u001b[0m\u001b[0mkwargs\u001b[0m\u001b[0;34m)\u001b[0m\u001b[0;34m\u001b[0m\u001b[0;34m\u001b[0m\u001b[0m\n\u001b[1;32m    347\u001b[0m                 \u001b[0;32melse\u001b[0m\u001b[0;34m:\u001b[0m\u001b[0;34m\u001b[0m\u001b[0;34m\u001b[0m\u001b[0m\n\u001b[0;32m--> 348\u001b[0;31m                     \u001b[0mapplied\u001b[0m \u001b[0;34m=\u001b[0m \u001b[0mgetattr\u001b[0m\u001b[0;34m(\u001b[0m\u001b[0mb\u001b[0m\u001b[0;34m,\u001b[0m \u001b[0mf\u001b[0m\u001b[0;34m)\u001b[0m\u001b[0;34m(\u001b[0m\u001b[0;34m**\u001b[0m\u001b[0mkwargs\u001b[0m\u001b[0;34m)\u001b[0m\u001b[0;34m\u001b[0m\u001b[0;34m\u001b[0m\u001b[0m\n\u001b[0m\u001b[1;32m    349\u001b[0m             \u001b[0;32mexcept\u001b[0m \u001b[0;34m(\u001b[0m\u001b[0mTypeError\u001b[0m\u001b[0;34m,\u001b[0m \u001b[0mNotImplementedError\u001b[0m\u001b[0;34m)\u001b[0m\u001b[0;34m:\u001b[0m\u001b[0;34m\u001b[0m\u001b[0;34m\u001b[0m\u001b[0m\n\u001b[1;32m    350\u001b[0m                 \u001b[0;32mif\u001b[0m \u001b[0;32mnot\u001b[0m \u001b[0mignore_failures\u001b[0m\u001b[0;34m:\u001b[0m\u001b[0;34m\u001b[0m\u001b[0;34m\u001b[0m\u001b[0m\n",
      "\u001b[0;32m~/.local/lib/python3.8/site-packages/pandas/core/internals/blocks.py\u001b[0m in \u001b[0;36mastype\u001b[0;34m(self, dtype, copy, errors)\u001b[0m\n\u001b[1;32m    525\u001b[0m         \u001b[0mvalues\u001b[0m \u001b[0;34m=\u001b[0m \u001b[0mself\u001b[0m\u001b[0;34m.\u001b[0m\u001b[0mvalues\u001b[0m\u001b[0;34m\u001b[0m\u001b[0;34m\u001b[0m\u001b[0m\n\u001b[1;32m    526\u001b[0m \u001b[0;34m\u001b[0m\u001b[0m\n\u001b[0;32m--> 527\u001b[0;31m         \u001b[0mnew_values\u001b[0m \u001b[0;34m=\u001b[0m \u001b[0mastype_array_safe\u001b[0m\u001b[0;34m(\u001b[0m\u001b[0mvalues\u001b[0m\u001b[0;34m,\u001b[0m \u001b[0mdtype\u001b[0m\u001b[0;34m,\u001b[0m \u001b[0mcopy\u001b[0m\u001b[0;34m=\u001b[0m\u001b[0mcopy\u001b[0m\u001b[0;34m,\u001b[0m \u001b[0merrors\u001b[0m\u001b[0;34m=\u001b[0m\u001b[0merrors\u001b[0m\u001b[0;34m)\u001b[0m\u001b[0;34m\u001b[0m\u001b[0;34m\u001b[0m\u001b[0m\n\u001b[0m\u001b[1;32m    528\u001b[0m \u001b[0;34m\u001b[0m\u001b[0m\n\u001b[1;32m    529\u001b[0m         \u001b[0mnew_values\u001b[0m \u001b[0;34m=\u001b[0m \u001b[0mmaybe_coerce_values\u001b[0m\u001b[0;34m(\u001b[0m\u001b[0mnew_values\u001b[0m\u001b[0;34m)\u001b[0m\u001b[0;34m\u001b[0m\u001b[0;34m\u001b[0m\u001b[0m\n",
      "\u001b[0;32m~/.local/lib/python3.8/site-packages/pandas/core/dtypes/astype.py\u001b[0m in \u001b[0;36mastype_array_safe\u001b[0;34m(values, dtype, copy, errors)\u001b[0m\n\u001b[1;32m    297\u001b[0m \u001b[0;34m\u001b[0m\u001b[0m\n\u001b[1;32m    298\u001b[0m     \u001b[0;32mtry\u001b[0m\u001b[0;34m:\u001b[0m\u001b[0;34m\u001b[0m\u001b[0;34m\u001b[0m\u001b[0m\n\u001b[0;32m--> 299\u001b[0;31m         \u001b[0mnew_values\u001b[0m \u001b[0;34m=\u001b[0m \u001b[0mastype_array\u001b[0m\u001b[0;34m(\u001b[0m\u001b[0mvalues\u001b[0m\u001b[0;34m,\u001b[0m \u001b[0mdtype\u001b[0m\u001b[0;34m,\u001b[0m \u001b[0mcopy\u001b[0m\u001b[0;34m=\u001b[0m\u001b[0mcopy\u001b[0m\u001b[0;34m)\u001b[0m\u001b[0;34m\u001b[0m\u001b[0;34m\u001b[0m\u001b[0m\n\u001b[0m\u001b[1;32m    300\u001b[0m     \u001b[0;32mexcept\u001b[0m \u001b[0;34m(\u001b[0m\u001b[0mValueError\u001b[0m\u001b[0;34m,\u001b[0m \u001b[0mTypeError\u001b[0m\u001b[0;34m)\u001b[0m\u001b[0;34m:\u001b[0m\u001b[0;34m\u001b[0m\u001b[0;34m\u001b[0m\u001b[0m\n\u001b[1;32m    301\u001b[0m         \u001b[0;31m# e.g. astype_nansafe can fail on object-dtype of strings\u001b[0m\u001b[0;34m\u001b[0m\u001b[0;34m\u001b[0m\u001b[0;34m\u001b[0m\u001b[0m\n",
      "\u001b[0;32m~/.local/lib/python3.8/site-packages/pandas/core/dtypes/astype.py\u001b[0m in \u001b[0;36mastype_array\u001b[0;34m(values, dtype, copy)\u001b[0m\n\u001b[1;32m    228\u001b[0m \u001b[0;34m\u001b[0m\u001b[0m\n\u001b[1;32m    229\u001b[0m     \u001b[0;32melse\u001b[0m\u001b[0;34m:\u001b[0m\u001b[0;34m\u001b[0m\u001b[0;34m\u001b[0m\u001b[0m\n\u001b[0;32m--> 230\u001b[0;31m         \u001b[0mvalues\u001b[0m \u001b[0;34m=\u001b[0m \u001b[0mastype_nansafe\u001b[0m\u001b[0;34m(\u001b[0m\u001b[0mvalues\u001b[0m\u001b[0;34m,\u001b[0m \u001b[0mdtype\u001b[0m\u001b[0;34m,\u001b[0m \u001b[0mcopy\u001b[0m\u001b[0;34m=\u001b[0m\u001b[0mcopy\u001b[0m\u001b[0;34m)\u001b[0m\u001b[0;34m\u001b[0m\u001b[0;34m\u001b[0m\u001b[0m\n\u001b[0m\u001b[1;32m    231\u001b[0m \u001b[0;34m\u001b[0m\u001b[0m\n\u001b[1;32m    232\u001b[0m     \u001b[0;31m# in pandas we don't store numpy str dtypes, so convert to object\u001b[0m\u001b[0;34m\u001b[0m\u001b[0;34m\u001b[0m\u001b[0;34m\u001b[0m\u001b[0m\n",
      "\u001b[0;32m~/.local/lib/python3.8/site-packages/pandas/core/dtypes/astype.py\u001b[0m in \u001b[0;36mastype_nansafe\u001b[0;34m(arr, dtype, copy, skipna)\u001b[0m\n\u001b[1;32m    168\u001b[0m     \u001b[0;32mif\u001b[0m \u001b[0mcopy\u001b[0m \u001b[0;32mor\u001b[0m \u001b[0mis_object_dtype\u001b[0m\u001b[0;34m(\u001b[0m\u001b[0marr\u001b[0m\u001b[0;34m.\u001b[0m\u001b[0mdtype\u001b[0m\u001b[0;34m)\u001b[0m \u001b[0;32mor\u001b[0m \u001b[0mis_object_dtype\u001b[0m\u001b[0;34m(\u001b[0m\u001b[0mdtype\u001b[0m\u001b[0;34m)\u001b[0m\u001b[0;34m:\u001b[0m\u001b[0;34m\u001b[0m\u001b[0;34m\u001b[0m\u001b[0m\n\u001b[1;32m    169\u001b[0m         \u001b[0;31m# Explicit copy, or required since NumPy can't view from / to object.\u001b[0m\u001b[0;34m\u001b[0m\u001b[0;34m\u001b[0m\u001b[0;34m\u001b[0m\u001b[0m\n\u001b[0;32m--> 170\u001b[0;31m         \u001b[0;32mreturn\u001b[0m \u001b[0marr\u001b[0m\u001b[0;34m.\u001b[0m\u001b[0mastype\u001b[0m\u001b[0;34m(\u001b[0m\u001b[0mdtype\u001b[0m\u001b[0;34m,\u001b[0m \u001b[0mcopy\u001b[0m\u001b[0;34m=\u001b[0m\u001b[0;32mTrue\u001b[0m\u001b[0;34m)\u001b[0m\u001b[0;34m\u001b[0m\u001b[0;34m\u001b[0m\u001b[0m\n\u001b[0m\u001b[1;32m    171\u001b[0m \u001b[0;34m\u001b[0m\u001b[0m\n\u001b[1;32m    172\u001b[0m     \u001b[0;32mreturn\u001b[0m \u001b[0marr\u001b[0m\u001b[0;34m.\u001b[0m\u001b[0mastype\u001b[0m\u001b[0;34m(\u001b[0m\u001b[0mdtype\u001b[0m\u001b[0;34m,\u001b[0m \u001b[0mcopy\u001b[0m\u001b[0;34m=\u001b[0m\u001b[0mcopy\u001b[0m\u001b[0;34m)\u001b[0m\u001b[0;34m\u001b[0m\u001b[0;34m\u001b[0m\u001b[0m\n",
      "\u001b[0;31mValueError\u001b[0m: cannot convert float NaN to integer"
     ]
    }
   ],
   "source": [
    "df_append_2['Vlo-O'] = df_append_2['Vlo-O'].astype('int')"
   ]
  },
  {
   "cell_type": "code",
   "execution_count": 32,
   "metadata": {},
   "outputs": [],
   "source": [
    "# quitar dato con NaN\n",
    "df_append_2.dropna(inplace=True)"
   ]
  },
  {
   "cell_type": "code",
   "execution_count": 33,
   "metadata": {},
   "outputs": [],
   "source": [
    "# pasar datos a float primero\n",
    "df_append_2['Vlo-O'] = df_append_2['Vlo-O'].astype('float')"
   ]
  },
  {
   "cell_type": "code",
   "execution_count": 34,
   "metadata": {},
   "outputs": [],
   "source": [
    "# luego a int\n",
    "df_append_2['Vlo-O'] = df_append_2['Vlo-O'].astype('int')"
   ]
  },
  {
   "cell_type": "code",
   "execution_count": 35,
   "metadata": {},
   "outputs": [
    {
     "data": {
      "text/plain": [
       "Fecha-I      datetime64[ns]\n",
       "Vlo-I                 int64\n",
       "Ori-I                object\n",
       "Des-I                object\n",
       "Emp-I                object\n",
       "Fecha-O      datetime64[ns]\n",
       "Vlo-O                 int64\n",
       "Ori-O                object\n",
       "Des-O                object\n",
       "Emp-O                object\n",
       "DIA                   int64\n",
       "MES                   int64\n",
       "AÑO                   int64\n",
       "DIANOM               object\n",
       "TIPOVUELO            object\n",
       "OPERA                object\n",
       "SIGLAORI             object\n",
       "SIGLADES             object\n",
       "dtype: object"
      ]
     },
     "execution_count": 35,
     "metadata": {},
     "output_type": "execute_result"
    }
   ],
   "source": [
    "# chequear tipo de datos\n",
    "df_append_2.dtypes"
   ]
  },
  {
   "cell_type": "code",
   "execution_count": 36,
   "metadata": {},
   "outputs": [
    {
     "data": {
      "text/plain": [
       "(False, (68205, 18))"
      ]
     },
     "execution_count": 36,
     "metadata": {},
     "output_type": "execute_result"
    }
   ],
   "source": [
    "# comparacion datasets\n",
    "df_append_2.duplicated().any(), df_append_2.shape"
   ]
  },
  {
   "cell_type": "code",
   "execution_count": 37,
   "metadata": {},
   "outputs": [
    {
     "data": {
      "text/plain": [
       "(False, (68206, 18))"
      ]
     },
     "execution_count": 37,
     "metadata": {},
     "output_type": "execute_result"
    }
   ],
   "source": [
    "df.duplicated().any(), df.shape"
   ]
  },
  {
   "cell_type": "markdown",
   "metadata": {},
   "source": [
    "* Terminamos con un dataframe con los tipos de datos propuestos y con una fila menos, que es aquella que tiene valor nulo en la columna `Vlo-O`.\n",
    "* Fin de la limpieza de datos. Comienzo de analisis"
   ]
  },
  {
   "cell_type": "markdown",
   "metadata": {},
   "source": [
    "## Analisis de datos \n",
    "* Ahora que se han limpiado los datos se procede a análisis de estos"
   ]
  },
  {
   "cell_type": "code",
   "execution_count": 38,
   "metadata": {},
   "outputs": [],
   "source": [
    "dataset = df_append_2.copy()"
   ]
  },
  {
   "cell_type": "code",
   "execution_count": 39,
   "metadata": {},
   "outputs": [
    {
     "data": {
      "text/plain": [
       "Fecha-I      datetime64[ns]\n",
       "Vlo-I                 int64\n",
       "Ori-I                object\n",
       "Des-I                object\n",
       "Emp-I                object\n",
       "Fecha-O      datetime64[ns]\n",
       "Vlo-O                 int64\n",
       "Ori-O                object\n",
       "Des-O                object\n",
       "Emp-O                object\n",
       "DIA                   int64\n",
       "MES                   int64\n",
       "AÑO                   int64\n",
       "DIANOM               object\n",
       "TIPOVUELO            object\n",
       "OPERA                object\n",
       "SIGLAORI             object\n",
       "SIGLADES             object\n",
       "dtype: object"
      ]
     },
     "execution_count": 39,
     "metadata": {},
     "output_type": "execute_result"
    }
   ],
   "source": [
    "dataset.dtypes"
   ]
  },
  {
   "cell_type": "code",
   "execution_count": 40,
   "metadata": {},
   "outputs": [
    {
     "data": {
      "text/html": [
       "<div>\n",
       "<style scoped>\n",
       "    .dataframe tbody tr th:only-of-type {\n",
       "        vertical-align: middle;\n",
       "    }\n",
       "\n",
       "    .dataframe tbody tr th {\n",
       "        vertical-align: top;\n",
       "    }\n",
       "\n",
       "    .dataframe thead th {\n",
       "        text-align: right;\n",
       "    }\n",
       "</style>\n",
       "<table border=\"1\" class=\"dataframe\">\n",
       "  <thead>\n",
       "    <tr style=\"text-align: right;\">\n",
       "      <th></th>\n",
       "      <th>Fecha-I</th>\n",
       "      <th>Vlo-I</th>\n",
       "      <th>Ori-I</th>\n",
       "      <th>Des-I</th>\n",
       "      <th>Emp-I</th>\n",
       "      <th>Fecha-O</th>\n",
       "      <th>Vlo-O</th>\n",
       "      <th>Ori-O</th>\n",
       "      <th>Des-O</th>\n",
       "      <th>Emp-O</th>\n",
       "      <th>DIA</th>\n",
       "      <th>MES</th>\n",
       "      <th>AÑO</th>\n",
       "      <th>DIANOM</th>\n",
       "      <th>TIPOVUELO</th>\n",
       "      <th>OPERA</th>\n",
       "      <th>SIGLAORI</th>\n",
       "      <th>SIGLADES</th>\n",
       "    </tr>\n",
       "  </thead>\n",
       "  <tbody>\n",
       "    <tr>\n",
       "      <th>0</th>\n",
       "      <td>2017-01-01 23:30:00</td>\n",
       "      <td>226</td>\n",
       "      <td>SCEL</td>\n",
       "      <td>KMIA</td>\n",
       "      <td>AAL</td>\n",
       "      <td>2017-01-01 23:33:00</td>\n",
       "      <td>226</td>\n",
       "      <td>SCEL</td>\n",
       "      <td>KMIA</td>\n",
       "      <td>AAL</td>\n",
       "      <td>1</td>\n",
       "      <td>1</td>\n",
       "      <td>2017</td>\n",
       "      <td>Domingo</td>\n",
       "      <td>I</td>\n",
       "      <td>American Airlines</td>\n",
       "      <td>Santiago</td>\n",
       "      <td>Miami</td>\n",
       "    </tr>\n",
       "    <tr>\n",
       "      <th>1</th>\n",
       "      <td>2017-01-02 23:30:00</td>\n",
       "      <td>226</td>\n",
       "      <td>SCEL</td>\n",
       "      <td>KMIA</td>\n",
       "      <td>AAL</td>\n",
       "      <td>2017-01-02 23:39:00</td>\n",
       "      <td>226</td>\n",
       "      <td>SCEL</td>\n",
       "      <td>KMIA</td>\n",
       "      <td>AAL</td>\n",
       "      <td>2</td>\n",
       "      <td>1</td>\n",
       "      <td>2017</td>\n",
       "      <td>Lunes</td>\n",
       "      <td>I</td>\n",
       "      <td>American Airlines</td>\n",
       "      <td>Santiago</td>\n",
       "      <td>Miami</td>\n",
       "    </tr>\n",
       "  </tbody>\n",
       "</table>\n",
       "</div>"
      ],
      "text/plain": [
       "              Fecha-I  Vlo-I Ori-I Des-I Emp-I             Fecha-O  Vlo-O  \\\n",
       "0 2017-01-01 23:30:00    226  SCEL  KMIA   AAL 2017-01-01 23:33:00    226   \n",
       "1 2017-01-02 23:30:00    226  SCEL  KMIA   AAL 2017-01-02 23:39:00    226   \n",
       "\n",
       "  Ori-O Des-O Emp-O  DIA  MES   AÑO   DIANOM TIPOVUELO              OPERA  \\\n",
       "0  SCEL  KMIA   AAL    1    1  2017  Domingo         I  American Airlines   \n",
       "1  SCEL  KMIA   AAL    2    1  2017    Lunes         I  American Airlines   \n",
       "\n",
       "   SIGLAORI SIGLADES  \n",
       "0  Santiago    Miami  \n",
       "1  Santiago    Miami  "
      ]
     },
     "execution_count": 40,
     "metadata": {},
     "output_type": "execute_result"
    }
   ],
   "source": [
    "dataset.head(2)"
   ]
  },
  {
   "cell_type": "markdown",
   "metadata": {},
   "source": [
    "* Se asume que para un vuelo programado para una fecha debería haber una única fila "
   ]
  },
  {
   "cell_type": "code",
   "execution_count": 41,
   "metadata": {},
   "outputs": [
    {
     "data": {
      "text/plain": [
       "count    68188.000000\n",
       "mean         1.000249\n",
       "std          0.015788\n",
       "min          1.000000\n",
       "25%          1.000000\n",
       "50%          1.000000\n",
       "75%          1.000000\n",
       "max          2.000000\n",
       "Name: Fecha-O, dtype: float64"
      ]
     },
     "execution_count": 41,
     "metadata": {},
     "output_type": "execute_result"
    }
   ],
   "source": [
    "dataset.groupby(['Fecha-I', 'Vlo-I'])['Fecha-O'].count().describe()"
   ]
  },
  {
   "cell_type": "markdown",
   "metadata": {},
   "source": [
    "* Existen registros con la misma fecha y número de vuelo pero con 2 fechas de operación. Esto no es factible, ya que para un vuelo programado (fecha y numero de vuelo) se realiza un unico vuelo real (operado)\n",
    "* Cuando esto pasa se asume que el vuelo operado mas tarde es el que efectivamente se realizó"
   ]
  },
  {
   "cell_type": "code",
   "execution_count": 42,
   "metadata": {},
   "outputs": [],
   "source": [
    "dataset_last_op = dataset.loc[dataset.groupby(['Fecha-I', 'Vlo-I'])['Fecha-O'].idxmax()]"
   ]
  },
  {
   "cell_type": "code",
   "execution_count": 43,
   "metadata": {},
   "outputs": [
    {
     "data": {
      "text/plain": [
       "(68188, 18)"
      ]
     },
     "execution_count": 43,
     "metadata": {},
     "output_type": "execute_result"
    }
   ],
   "source": [
    "dataset_last_op.shape"
   ]
  },
  {
   "cell_type": "markdown",
   "metadata": {},
   "source": [
    "* Finalmente el dataset de interes es de 68188 registros, vs los 68206 originales. Lo anterior implica escartar 18 registros del dataset cargado\n",
    "* Con lo anterior nos aseguramos que cada fila corresponde a un vuelo"
   ]
  },
  {
   "cell_type": "markdown",
   "metadata": {},
   "source": [
    "### 1. Descripcion general de los datos\n",
    "* Aplicar metodo `describe()` sobre el dataset ya seleccionado"
   ]
  },
  {
   "cell_type": "code",
   "execution_count": 44,
   "metadata": {
    "scrolled": true
   },
   "outputs": [
    {
     "data": {
      "text/html": [
       "<div>\n",
       "<style scoped>\n",
       "    .dataframe tbody tr th:only-of-type {\n",
       "        vertical-align: middle;\n",
       "    }\n",
       "\n",
       "    .dataframe tbody tr th {\n",
       "        vertical-align: top;\n",
       "    }\n",
       "\n",
       "    .dataframe thead th {\n",
       "        text-align: right;\n",
       "    }\n",
       "</style>\n",
       "<table border=\"1\" class=\"dataframe\">\n",
       "  <thead>\n",
       "    <tr style=\"text-align: right;\">\n",
       "      <th></th>\n",
       "      <th>Vlo-I</th>\n",
       "      <th>Vlo-O</th>\n",
       "      <th>DIA</th>\n",
       "      <th>MES</th>\n",
       "      <th>AÑO</th>\n",
       "    </tr>\n",
       "  </thead>\n",
       "  <tbody>\n",
       "    <tr>\n",
       "      <th>count</th>\n",
       "      <td>68188.000000</td>\n",
       "      <td>68188.000000</td>\n",
       "      <td>68188.000000</td>\n",
       "      <td>68188.000000</td>\n",
       "      <td>68188.000000</td>\n",
       "    </tr>\n",
       "    <tr>\n",
       "      <th>mean</th>\n",
       "      <td>970.050507</td>\n",
       "      <td>967.643676</td>\n",
       "      <td>15.715170</td>\n",
       "      <td>6.622969</td>\n",
       "      <td>2017.000029</td>\n",
       "    </tr>\n",
       "    <tr>\n",
       "      <th>std</th>\n",
       "      <td>2029.245953</td>\n",
       "      <td>2026.414637</td>\n",
       "      <td>8.782725</td>\n",
       "      <td>3.523572</td>\n",
       "      <td>0.005416</td>\n",
       "    </tr>\n",
       "    <tr>\n",
       "      <th>min</th>\n",
       "      <td>1.000000</td>\n",
       "      <td>1.000000</td>\n",
       "      <td>1.000000</td>\n",
       "      <td>1.000000</td>\n",
       "      <td>2017.000000</td>\n",
       "    </tr>\n",
       "    <tr>\n",
       "      <th>25%</th>\n",
       "      <td>150.000000</td>\n",
       "      <td>150.000000</td>\n",
       "      <td>8.000000</td>\n",
       "      <td>3.000000</td>\n",
       "      <td>2017.000000</td>\n",
       "    </tr>\n",
       "    <tr>\n",
       "      <th>50%</th>\n",
       "      <td>300.000000</td>\n",
       "      <td>300.000000</td>\n",
       "      <td>16.000000</td>\n",
       "      <td>7.000000</td>\n",
       "      <td>2017.000000</td>\n",
       "    </tr>\n",
       "    <tr>\n",
       "      <th>75%</th>\n",
       "      <td>634.000000</td>\n",
       "      <td>638.000000</td>\n",
       "      <td>23.000000</td>\n",
       "      <td>10.000000</td>\n",
       "      <td>2017.000000</td>\n",
       "    </tr>\n",
       "    <tr>\n",
       "      <th>max</th>\n",
       "      <td>9956.000000</td>\n",
       "      <td>9956.000000</td>\n",
       "      <td>31.000000</td>\n",
       "      <td>12.000000</td>\n",
       "      <td>2018.000000</td>\n",
       "    </tr>\n",
       "  </tbody>\n",
       "</table>\n",
       "</div>"
      ],
      "text/plain": [
       "              Vlo-I         Vlo-O           DIA           MES           AÑO\n",
       "count  68188.000000  68188.000000  68188.000000  68188.000000  68188.000000\n",
       "mean     970.050507    967.643676     15.715170      6.622969   2017.000029\n",
       "std     2029.245953   2026.414637      8.782725      3.523572      0.005416\n",
       "min        1.000000      1.000000      1.000000      1.000000   2017.000000\n",
       "25%      150.000000    150.000000      8.000000      3.000000   2017.000000\n",
       "50%      300.000000    300.000000     16.000000      7.000000   2017.000000\n",
       "75%      634.000000    638.000000     23.000000     10.000000   2017.000000\n",
       "max     9956.000000   9956.000000     31.000000     12.000000   2018.000000"
      ]
     },
     "execution_count": 44,
     "metadata": {},
     "output_type": "execute_result"
    }
   ],
   "source": [
    "dataset_last_op.describe()"
   ]
  },
  {
   "cell_type": "markdown",
   "metadata": {},
   "source": [
    "* Llama la atencion que los datos sean solo hasta el 2018\n",
    "* Dias y meses normales\n",
    "* `Vlo-I` y `Vlo-O` no son correlativos por `Fecha-I`\n"
   ]
  },
  {
   "cell_type": "markdown",
   "metadata": {},
   "source": [
    "### Preguntas:\n",
    "\n",
    "1. ¿Cuantos vuelos se programan a la misma hora?\n",
    "2. ¿Cual es la proporcion de vuelos nacionales sobre internacionales?\n",
    "3. ¿Como ha ido evolucionando el numero de vuelos en los últimos 2 años por mes?\n",
    "4. ¿Como ha variado la proporcion de vuelos segun dia de la semana?\n",
    "5. ¿Cual es la aerolinea que mas opera?"
   ]
  },
  {
   "cell_type": "markdown",
   "metadata": {},
   "source": [
    "**1. ¿Cuantos vuelos se programan a la misma hora?** "
   ]
  },
  {
   "cell_type": "code",
   "execution_count": 45,
   "metadata": {},
   "outputs": [
    {
     "data": {
      "text/plain": [
       "1    40995\n",
       "2     9944\n",
       "3     1979\n",
       "4      305\n",
       "5       26\n",
       "6        3\n",
       "Name: Vlo-I, dtype: int64"
      ]
     },
     "execution_count": 45,
     "metadata": {},
     "output_type": "execute_result"
    }
   ],
   "source": [
    "# contar segun fecha programada la cantidad de numeros de vuelos distintos que hay\n",
    "dataset_last_op.groupby(['Fecha-I'])['Vlo-I'].nunique().value_counts()"
   ]
  },
  {
   "cell_type": "markdown",
   "metadata": {},
   "source": [
    "* Quien pensaría que se programan hasta 6 vuelos a la misma hora"
   ]
  },
  {
   "cell_type": "markdown",
   "metadata": {},
   "source": [
    "**2. ¿Cual es la proporcion de vuelos nacionales sobre internacionales?** \\\n",
    "**3. ¿Como ha ido evolucionando el numero de vuelos en los últimos 2 años por mes?**"
   ]
  },
  {
   "cell_type": "code",
   "execution_count": 46,
   "metadata": {},
   "outputs": [],
   "source": [
    "# crear columna string que concatene mes y año\n",
    "dataset_last_op['date'] = dataset_last_op['AÑO'].map(str)+ '-' +dataset_last_op['MES'].map(str)\n",
    "dataset_last_op['date'] = pd.to_datetime(dataset_last_op['date'], format='%Y-%m').dt.strftime('%Y-%m')"
   ]
  },
  {
   "cell_type": "code",
   "execution_count": 47,
   "metadata": {},
   "outputs": [
    {
     "data": {
      "text/html": [
       "<div>\n",
       "<style scoped>\n",
       "    .dataframe tbody tr th:only-of-type {\n",
       "        vertical-align: middle;\n",
       "    }\n",
       "\n",
       "    .dataframe tbody tr th {\n",
       "        vertical-align: top;\n",
       "    }\n",
       "\n",
       "    .dataframe thead th {\n",
       "        text-align: right;\n",
       "    }\n",
       "</style>\n",
       "<table border=\"1\" class=\"dataframe\">\n",
       "  <thead>\n",
       "    <tr style=\"text-align: right;\">\n",
       "      <th></th>\n",
       "      <th>Fecha-I</th>\n",
       "      <th>Vlo-I</th>\n",
       "      <th>Ori-I</th>\n",
       "      <th>Des-I</th>\n",
       "      <th>Emp-I</th>\n",
       "      <th>Fecha-O</th>\n",
       "      <th>Vlo-O</th>\n",
       "      <th>Ori-O</th>\n",
       "      <th>Des-O</th>\n",
       "      <th>Emp-O</th>\n",
       "      <th>DIA</th>\n",
       "      <th>MES</th>\n",
       "      <th>AÑO</th>\n",
       "      <th>DIANOM</th>\n",
       "      <th>TIPOVUELO</th>\n",
       "      <th>OPERA</th>\n",
       "      <th>SIGLAORI</th>\n",
       "      <th>SIGLADES</th>\n",
       "      <th>date</th>\n",
       "    </tr>\n",
       "  </thead>\n",
       "  <tbody>\n",
       "    <tr>\n",
       "      <th>169</th>\n",
       "      <td>2017-01-01 00:15:00</td>\n",
       "      <td>11</td>\n",
       "      <td>SCEL</td>\n",
       "      <td>MMMX</td>\n",
       "      <td>AMX</td>\n",
       "      <td>2017-01-01 00:04:00</td>\n",
       "      <td>11</td>\n",
       "      <td>SCEL</td>\n",
       "      <td>MMMX</td>\n",
       "      <td>AMX</td>\n",
       "      <td>1</td>\n",
       "      <td>1</td>\n",
       "      <td>2017</td>\n",
       "      <td>Domingo</td>\n",
       "      <td>I</td>\n",
       "      <td>Aeromexico</td>\n",
       "      <td>Santiago</td>\n",
       "      <td>Ciudad de Mexico</td>\n",
       "      <td>2017-01</td>\n",
       "    </tr>\n",
       "    <tr>\n",
       "      <th>5078</th>\n",
       "      <td>2017-01-01 01:15:00</td>\n",
       "      <td>572</td>\n",
       "      <td>SCEL</td>\n",
       "      <td>SKBO</td>\n",
       "      <td>LAN</td>\n",
       "      <td>2017-01-01 01:10:00</td>\n",
       "      <td>572</td>\n",
       "      <td>SCEL</td>\n",
       "      <td>SKBO</td>\n",
       "      <td>LAN</td>\n",
       "      <td>1</td>\n",
       "      <td>1</td>\n",
       "      <td>2017</td>\n",
       "      <td>Domingo</td>\n",
       "      <td>I</td>\n",
       "      <td>Grupo LATAM</td>\n",
       "      <td>Santiago</td>\n",
       "      <td>Bogota</td>\n",
       "      <td>2017-01</td>\n",
       "    </tr>\n",
       "  </tbody>\n",
       "</table>\n",
       "</div>"
      ],
      "text/plain": [
       "                 Fecha-I  Vlo-I Ori-I Des-I Emp-I             Fecha-O  Vlo-O  \\\n",
       "169  2017-01-01 00:15:00     11  SCEL  MMMX   AMX 2017-01-01 00:04:00     11   \n",
       "5078 2017-01-01 01:15:00    572  SCEL  SKBO   LAN 2017-01-01 01:10:00    572   \n",
       "\n",
       "     Ori-O Des-O Emp-O  DIA  MES   AÑO   DIANOM TIPOVUELO        OPERA  \\\n",
       "169   SCEL  MMMX   AMX    1    1  2017  Domingo         I   Aeromexico   \n",
       "5078  SCEL  SKBO   LAN    1    1  2017  Domingo         I  Grupo LATAM   \n",
       "\n",
       "      SIGLAORI          SIGLADES     date  \n",
       "169   Santiago  Ciudad de Mexico  2017-01  \n",
       "5078  Santiago            Bogota  2017-01  "
      ]
     },
     "execution_count": 47,
     "metadata": {},
     "output_type": "execute_result"
    }
   ],
   "source": [
    "dataset_last_op.head(2)"
   ]
  },
  {
   "cell_type": "code",
   "execution_count": 48,
   "metadata": {},
   "outputs": [
    {
     "data": {
      "text/plain": [
       "<AxesSubplot: xlabel='date'>"
      ]
     },
     "execution_count": 48,
     "metadata": {},
     "output_type": "execute_result"
    },
    {
     "data": {
      "image/png": "[encoded data removed]",
      "text/plain": [
       "<Figure size 864x288 with 1 Axes>"
      ]
     },
     "metadata": {
      "needs_background": "light"
     },
     "output_type": "display_data"
    }
   ],
   "source": [
    "dataset_last_op.groupby(['date', 'TIPOVUELO'])['Fecha-I'].count().unstack('TIPOVUELO').plot(kind='bar', stacked=True, figsize=(12,4))"
   ]
  },
  {
   "cell_type": "markdown",
   "metadata": {},
   "source": [
    "* La cantidad de vuelos se mantuvo relativamente estable entre los 5000 y 6000 vuelos en todo 2017, siendo los valores de mayor viaje Enero, Julio, Octubre, Noviembre y Diciembre\n",
    "* En general la proporcion entre viajes nacionales e internacionales se mantiene estable en el tiempo, siendo ligeramente mayor la cantidad de vuelos nacionales por sobre los internacionales"
   ]
  },
  {
   "cell_type": "markdown",
   "metadata": {},
   "source": [
    "**4. ¿Como ha variado la proporcion de vuelos segun dia de la semana?**"
   ]
  },
  {
   "cell_type": "code",
   "execution_count": 49,
   "metadata": {},
   "outputs": [
    {
     "data": {
      "text/plain": [
       "<AxesSubplot: xlabel='date'>"
      ]
     },
     "execution_count": 49,
     "metadata": {},
     "output_type": "execute_result"
    },
    {
     "data": {
      "image/png": "[encoded data removed]",
      "text/plain": [
       "<Figure size 1152x288 with 1 Axes>"
      ]
     },
     "metadata": {
      "needs_background": "light"
     },
     "output_type": "display_data"
    }
   ],
   "source": [
    "(dataset_last_op.groupby(['date', 'DIANOM'])['Fecha-I'].count()/dataset_last_op.groupby(['date'])['Fecha-I'].count()).unstack('DIANOM').plot(kind='bar', stacked=True, figsize=(16,4))"
   ]
  },
  {
   "cell_type": "markdown",
   "metadata": {},
   "source": [
    "* En general no hay una tendencia o variabilidad fuerte en la preferencia para comprar en un día de la semana, dado un mes en particular"
   ]
  },
  {
   "cell_type": "markdown",
   "metadata": {},
   "source": [
    "**5. ¿Cual es la aerolinea que mas opera?**"
   ]
  },
  {
   "cell_type": "code",
   "execution_count": 50,
   "metadata": {},
   "outputs": [
    {
     "data": {
      "text/plain": [
       "OPERA\n",
       "Grupo LATAM                 59.953364\n",
       "Sky Airline                 20.959700\n",
       "Aerolineas Argentinas        2.858274\n",
       "Copa Air                     2.713087\n",
       "Latin American Wings         2.453511\n",
       "Avianca                      1.689447\n",
       "JetSmart SPA                 1.605854\n",
       "Gol Trans                    1.182026\n",
       "American Airlines            1.110166\n",
       "Air Canada                   0.828592\n",
       "Iberia                       0.530885\n",
       "Delta Air                    0.525019\n",
       "Air France                   0.525019\n",
       "Aeromexico                   0.514753\n",
       "United Airlines              0.491289\n",
       "Oceanair Linhas Aereas       0.409163\n",
       "Alitalia                     0.379832\n",
       "K.L.M.                       0.368100\n",
       "British Airways              0.300639\n",
       "Qantas Airways               0.285974\n",
       "Lacsa                        0.134921\n",
       "Austral                      0.108523\n",
       "Plus Ultra Lineas Aereas     0.071860\n",
       "Name: Fecha-I, dtype: float64"
      ]
     },
     "execution_count": 50,
     "metadata": {},
     "output_type": "execute_result"
    }
   ],
   "source": [
    "(dataset_last_op.groupby(['OPERA'])['Fecha-I'].count()*100/dataset_last_op.groupby(['OPERA'])['Fecha-I'].count().sum()).sort_values(ascending=False)"
   ]
  },
  {
   "cell_type": "markdown",
   "metadata": {},
   "source": [
    "* Lejos los operadores con mas vuelos son Grupo LATAM y SKy Airline, sumando un 80% de los vuelos programados"
   ]
  },
  {
   "cell_type": "markdown",
   "metadata": {},
   "source": [
    "### 2. Nuevas variables\n",
    "\n",
    "* Se crean variables nuevas `temporada_alta`, `dif_min`, `atraso_15` y `periodo_dia`.\n",
    "* El nuevo dataset se exporta a `data/synthetic_features.csv`"
   ]
  },
  {
   "cell_type": "code",
   "execution_count": 51,
   "metadata": {},
   "outputs": [],
   "source": [
    "df_final = dataset_last_op.copy()"
   ]
  },
  {
   "cell_type": "code",
   "execution_count": 52,
   "metadata": {},
   "outputs": [],
   "source": [
    "# temporada alta\n",
    "df_final['temporada_alta'] = 0\n",
    "df_final.loc[(((df_final['DIA']>=1) & (df_final['MES']>=1)) & ((df_final['DIA']<=31) & (df_final['MES']<=3))), 'temporada_alta'] = 1\n",
    "df_final.loc[(((df_final['DIA']>=5) & (df_final['MES']>=7)) & ((df_final['DIA']<=31) & (df_final['MES']<=7))), 'temporada_alta'] = 1\n",
    "df_final.loc[(((df_final['DIA']>=11) & (df_final['MES']>=9)) & ((df_final['DIA']<=30) & (df_final['MES']<=9))), 'temporada_alta'] = 1\n",
    "df_final.loc[(((df_final['DIA']>=11) & (df_final['MES']>=12)) & ((df_final['DIA']<=31) & (df_final['MES']<=12))), 'temporada_alta'] = 1"
   ]
  },
  {
   "cell_type": "code",
   "execution_count": 53,
   "metadata": {},
   "outputs": [
    {
     "data": {
      "text/plain": [
       "30513"
      ]
     },
     "execution_count": 53,
     "metadata": {},
     "output_type": "execute_result"
    }
   ],
   "source": [
    "df_final['temporada_alta'].sum()"
   ]
  },
  {
   "cell_type": "markdown",
   "metadata": {},
   "source": [
    "* 30513 de 68188 vuelos se hacen en temporada alta"
   ]
  },
  {
   "cell_type": "code",
   "execution_count": 54,
   "metadata": {},
   "outputs": [
    {
     "name": "stdout",
     "output_type": "stream",
     "text": [
      "17903 4788 45497\n"
     ]
    }
   ],
   "source": [
    "# dif_min\n",
    "print(((df_final['Fecha-O'] - df_final['Fecha-I']).dt.total_seconds() <0).sum(),\n",
    "((df_final['Fecha-O'] - df_final['Fecha-I']).dt.total_seconds() == 0).sum(),\n",
    "((df_final['Fecha-O'] - df_final['Fecha-I']).dt.total_seconds() > 0).sum())"
   ]
  },
  {
   "cell_type": "markdown",
   "metadata": {},
   "source": [
    "* Hay algunos vuelos que salen antes de lo programado. Esto parece extraño.\n",
    "* Dado que lo anterior podría ser extraño en términos de la calidad de servicio es que se prefiere quitar estos casos"
   ]
  },
  {
   "cell_type": "code",
   "execution_count": 55,
   "metadata": {},
   "outputs": [],
   "source": [
    "df_final['dif_min'] = (df_final['Fecha-O'] - df_final['Fecha-I']).dt.total_seconds()/60"
   ]
  },
  {
   "cell_type": "code",
   "execution_count": 56,
   "metadata": {},
   "outputs": [],
   "source": [
    "df_final = df_final[df_final['dif_min']>=0]"
   ]
  },
  {
   "cell_type": "code",
   "execution_count": 57,
   "metadata": {},
   "outputs": [
    {
     "data": {
      "text/plain": [
       "count    50285.000000\n",
       "mean        13.719817\n",
       "std         20.544061\n",
       "min          0.000000\n",
       "25%          3.000000\n",
       "50%          7.000000\n",
       "75%         16.000000\n",
       "max        161.000000\n",
       "Name: dif_min, dtype: float64"
      ]
     },
     "execution_count": 57,
     "metadata": {},
     "output_type": "execute_result"
    }
   ],
   "source": [
    "df_final['dif_min'].describe()"
   ]
  },
  {
   "cell_type": "code",
   "execution_count": 58,
   "metadata": {},
   "outputs": [],
   "source": [
    "# atraso_15\n",
    "df_final['atraso_15'] = 0\n",
    "df_final.loc[(df_final['dif_min']>15), 'atraso_15'] = 1"
   ]
  },
  {
   "cell_type": "code",
   "execution_count": 59,
   "metadata": {},
   "outputs": [
    {
     "name": "stdout",
     "output_type": "stream",
     "text": [
      "Total de pedidos con atraso: 12614\n"
     ]
    }
   ],
   "source": [
    "print(\"Total de pedidos con atraso: {}\".format(df_final['atraso_15'].sum()))"
   ]
  },
  {
   "cell_type": "code",
   "execution_count": 60,
   "metadata": {},
   "outputs": [],
   "source": [
    "# periodo_dia\n",
    "df_final['periodo_dia'] = 0\n",
    "df_final.loc[(((df_final['Fecha-I'].dt.hour >=0) & (df_final['Fecha-I'].dt.minute >=0)) & ((df_final['Fecha-I'].dt.hour <=4) & (df_final['Fecha-I'].dt.minute <=59))), 'periodo_dia'] = 'noche'\n",
    "df_final.loc[(((df_final['Fecha-I'].dt.hour >=5) & (df_final['Fecha-I'].dt.minute >=0)) & ((df_final['Fecha-I'].dt.hour <=11) & (df_final['Fecha-I'].dt.minute <=59))), 'periodo_dia'] = 'mañana'\n",
    "df_final.loc[(((df_final['Fecha-I'].dt.hour >=12) & (df_final['Fecha-I'].dt.minute >=0)) & ((df_final['Fecha-I'].dt.hour <=18) & (df_final['Fecha-I'].dt.minute <=59))), 'periodo_dia'] = 'tarde'\n",
    "df_final.loc[(((df_final['Fecha-I'].dt.hour >=19) & (df_final['Fecha-I'].dt.minute >=0)) & ((df_final['Fecha-I'].dt.hour <=23) & (df_final['Fecha-I'].dt.minute <=59))), 'periodo_dia'] = 'noche'"
   ]
  },
  {
   "cell_type": "code",
   "execution_count": 61,
   "metadata": {},
   "outputs": [
    {
     "name": "stdout",
     "output_type": "stream",
     "text": [
      "tarde     19396\n",
      "mañana    18590\n",
      "noche     12299\n",
      "Name: periodo_dia, dtype: int64 50285\n"
     ]
    }
   ],
   "source": [
    "print(df_final['periodo_dia'].value_counts(),df_final['periodo_dia'].value_counts().sum())"
   ]
  },
  {
   "cell_type": "code",
   "execution_count": 62,
   "metadata": {},
   "outputs": [
    {
     "data": {
      "text/html": [
       "<div>\n",
       "<style scoped>\n",
       "    .dataframe tbody tr th:only-of-type {\n",
       "        vertical-align: middle;\n",
       "    }\n",
       "\n",
       "    .dataframe tbody tr th {\n",
       "        vertical-align: top;\n",
       "    }\n",
       "\n",
       "    .dataframe thead th {\n",
       "        text-align: right;\n",
       "    }\n",
       "</style>\n",
       "<table border=\"1\" class=\"dataframe\">\n",
       "  <thead>\n",
       "    <tr style=\"text-align: right;\">\n",
       "      <th></th>\n",
       "      <th>Fecha-I</th>\n",
       "      <th>Vlo-I</th>\n",
       "      <th>Ori-I</th>\n",
       "      <th>Des-I</th>\n",
       "      <th>Emp-I</th>\n",
       "      <th>Fecha-O</th>\n",
       "      <th>Vlo-O</th>\n",
       "      <th>Ori-O</th>\n",
       "      <th>Des-O</th>\n",
       "      <th>Emp-O</th>\n",
       "      <th>...</th>\n",
       "      <th>DIANOM</th>\n",
       "      <th>TIPOVUELO</th>\n",
       "      <th>OPERA</th>\n",
       "      <th>SIGLAORI</th>\n",
       "      <th>SIGLADES</th>\n",
       "      <th>date</th>\n",
       "      <th>temporada_alta</th>\n",
       "      <th>dif_min</th>\n",
       "      <th>atraso_15</th>\n",
       "      <th>periodo_dia</th>\n",
       "    </tr>\n",
       "  </thead>\n",
       "  <tbody>\n",
       "    <tr>\n",
       "      <th>622</th>\n",
       "      <td>2017-01-01 01:23:00</td>\n",
       "      <td>495</td>\n",
       "      <td>SCEL</td>\n",
       "      <td>MPTO</td>\n",
       "      <td>CMP</td>\n",
       "      <td>2017-01-01 01:29:00</td>\n",
       "      <td>495</td>\n",
       "      <td>SCEL</td>\n",
       "      <td>MPTO</td>\n",
       "      <td>CMP</td>\n",
       "      <td>...</td>\n",
       "      <td>Domingo</td>\n",
       "      <td>I</td>\n",
       "      <td>Copa Air</td>\n",
       "      <td>Santiago</td>\n",
       "      <td>Ciudad de Panama</td>\n",
       "      <td>2017-01</td>\n",
       "      <td>1</td>\n",
       "      <td>6.0</td>\n",
       "      <td>0</td>\n",
       "      <td>noche</td>\n",
       "    </tr>\n",
       "    <tr>\n",
       "      <th>409</th>\n",
       "      <td>2017-01-01 01:33:00</td>\n",
       "      <td>240</td>\n",
       "      <td>SCEL</td>\n",
       "      <td>SKBO</td>\n",
       "      <td>AVA</td>\n",
       "      <td>2017-01-01 01:38:00</td>\n",
       "      <td>240</td>\n",
       "      <td>SCEL</td>\n",
       "      <td>SKBO</td>\n",
       "      <td>AVA</td>\n",
       "      <td>...</td>\n",
       "      <td>Domingo</td>\n",
       "      <td>I</td>\n",
       "      <td>Avianca</td>\n",
       "      <td>Santiago</td>\n",
       "      <td>Bogota</td>\n",
       "      <td>2017-01</td>\n",
       "      <td>1</td>\n",
       "      <td>5.0</td>\n",
       "      <td>0</td>\n",
       "      <td>noche</td>\n",
       "    </tr>\n",
       "    <tr>\n",
       "      <th>2462</th>\n",
       "      <td>2017-01-01 05:50:00</td>\n",
       "      <td>802</td>\n",
       "      <td>SCEL</td>\n",
       "      <td>SPJC</td>\n",
       "      <td>SKU</td>\n",
       "      <td>2017-01-01 05:55:00</td>\n",
       "      <td>802</td>\n",
       "      <td>SCEL</td>\n",
       "      <td>SPJC</td>\n",
       "      <td>SKU</td>\n",
       "      <td>...</td>\n",
       "      <td>Domingo</td>\n",
       "      <td>I</td>\n",
       "      <td>Sky Airline</td>\n",
       "      <td>Santiago</td>\n",
       "      <td>Lima</td>\n",
       "      <td>2017-01</td>\n",
       "      <td>1</td>\n",
       "      <td>5.0</td>\n",
       "      <td>0</td>\n",
       "      <td>mañana</td>\n",
       "    </tr>\n",
       "    <tr>\n",
       "      <th>684</th>\n",
       "      <td>2017-01-01 06:10:00</td>\n",
       "      <td>7661</td>\n",
       "      <td>SCEL</td>\n",
       "      <td>SBGR</td>\n",
       "      <td>GLO</td>\n",
       "      <td>2017-01-01 06:23:00</td>\n",
       "      <td>7661</td>\n",
       "      <td>SCEL</td>\n",
       "      <td>SBGR</td>\n",
       "      <td>GLO</td>\n",
       "      <td>...</td>\n",
       "      <td>Domingo</td>\n",
       "      <td>I</td>\n",
       "      <td>Gol Trans</td>\n",
       "      <td>Santiago</td>\n",
       "      <td>Sao Paulo</td>\n",
       "      <td>2017-01</td>\n",
       "      <td>1</td>\n",
       "      <td>13.0</td>\n",
       "      <td>0</td>\n",
       "      <td>mañana</td>\n",
       "    </tr>\n",
       "    <tr>\n",
       "      <th>2162</th>\n",
       "      <td>2017-01-01 06:40:00</td>\n",
       "      <td>190</td>\n",
       "      <td>SCEL</td>\n",
       "      <td>SCAR</td>\n",
       "      <td>SKU</td>\n",
       "      <td>2017-01-01 06:40:00</td>\n",
       "      <td>190</td>\n",
       "      <td>SCEL</td>\n",
       "      <td>SCAR</td>\n",
       "      <td>SKU</td>\n",
       "      <td>...</td>\n",
       "      <td>Domingo</td>\n",
       "      <td>N</td>\n",
       "      <td>Sky Airline</td>\n",
       "      <td>Santiago</td>\n",
       "      <td>Arica</td>\n",
       "      <td>2017-01</td>\n",
       "      <td>1</td>\n",
       "      <td>0.0</td>\n",
       "      <td>0</td>\n",
       "      <td>mañana</td>\n",
       "    </tr>\n",
       "  </tbody>\n",
       "</table>\n",
       "<p>5 rows × 23 columns</p>\n",
       "</div>"
      ],
      "text/plain": [
       "                 Fecha-I  Vlo-I Ori-I Des-I Emp-I             Fecha-O  Vlo-O  \\\n",
       "622  2017-01-01 01:23:00    495  SCEL  MPTO   CMP 2017-01-01 01:29:00    495   \n",
       "409  2017-01-01 01:33:00    240  SCEL  SKBO   AVA 2017-01-01 01:38:00    240   \n",
       "2462 2017-01-01 05:50:00    802  SCEL  SPJC   SKU 2017-01-01 05:55:00    802   \n",
       "684  2017-01-01 06:10:00   7661  SCEL  SBGR   GLO 2017-01-01 06:23:00   7661   \n",
       "2162 2017-01-01 06:40:00    190  SCEL  SCAR   SKU 2017-01-01 06:40:00    190   \n",
       "\n",
       "     Ori-O Des-O Emp-O  ...   DIANOM  TIPOVUELO        OPERA  SIGLAORI  \\\n",
       "622   SCEL  MPTO   CMP  ...  Domingo          I     Copa Air  Santiago   \n",
       "409   SCEL  SKBO   AVA  ...  Domingo          I      Avianca  Santiago   \n",
       "2462  SCEL  SPJC   SKU  ...  Domingo          I  Sky Airline  Santiago   \n",
       "684   SCEL  SBGR   GLO  ...  Domingo          I    Gol Trans  Santiago   \n",
       "2162  SCEL  SCAR   SKU  ...  Domingo          N  Sky Airline  Santiago   \n",
       "\n",
       "              SIGLADES     date temporada_alta dif_min atraso_15  periodo_dia  \n",
       "622   Ciudad de Panama  2017-01              1     6.0         0        noche  \n",
       "409             Bogota  2017-01              1     5.0         0        noche  \n",
       "2462              Lima  2017-01              1     5.0         0       mañana  \n",
       "684          Sao Paulo  2017-01              1    13.0         0       mañana  \n",
       "2162             Arica  2017-01              1     0.0         0       mañana  \n",
       "\n",
       "[5 rows x 23 columns]"
      ]
     },
     "execution_count": 62,
     "metadata": {},
     "output_type": "execute_result"
    }
   ],
   "source": [
    "df_final.head()"
   ]
  },
  {
   "cell_type": "markdown",
   "metadata": {},
   "source": [
    "* Guardar dataset"
   ]
  },
  {
   "cell_type": "code",
   "execution_count": 63,
   "metadata": {},
   "outputs": [],
   "source": [
    "df_final.to_csv('data/synthetic_features.csv')"
   ]
  },
  {
   "cell_type": "markdown",
   "metadata": {},
   "source": [
    "### 3. Analisis de tasa de atrasos segun:\n",
    "* Destino\n",
    "* Aerolinea\n",
    "* Mes del año\n",
    "* Dia de la semana\n",
    "* Temporada\n",
    "* Tipo de vuelo"
   ]
  },
  {
   "cell_type": "code",
   "execution_count": 64,
   "metadata": {},
   "outputs": [],
   "source": [
    "pd.set_option('display.max_rows', 100)"
   ]
  },
  {
   "cell_type": "code",
   "execution_count": 65,
   "metadata": {},
   "outputs": [
    {
     "data": {
      "text/plain": [
       "SIGLADES\n",
       "Buenos Aires        3.221637\n",
       "Lima                2.414239\n",
       "Sao Paulo           1.752014\n",
       "Antofagasta         1.684399\n",
       "Puerto Montt        1.459680\n",
       "Iquique             1.272745\n",
       "Calama              1.250870\n",
       "Concepcion          1.238938\n",
       "Mendoza             0.880978\n",
       "Bogota              0.825296\n",
       "Rio de Janeiro      0.805409\n",
       "Temuco              0.801432\n",
       "La Serena           0.775579\n",
       "Arica               0.656259\n",
       "Punta Arenas        0.644327\n",
       "Cordoba             0.612509\n",
       "Copiapo             0.481257\n",
       "Montevideo          0.437506\n",
       "Miami               0.385801\n",
       "Madrid              0.338073\n",
       "Auckland N.Z.       0.268470\n",
       "Balmaceda           0.244606\n",
       "Valdivia            0.232674\n",
       "Ciudad de Panama    0.230685\n",
       "Sydney              0.224719\n",
       "Toronto             0.176991\n",
       "Isla de Pascua      0.176991\n",
       "Nueva York          0.163070\n",
       "Guayaquil           0.163070\n",
       "Asuncion            0.131252\n",
       "Ciudad de Mexico    0.131252\n",
       "Rosario             0.107388\n",
       "Osorno              0.099433\n",
       "Los Angeles         0.077558\n",
       "La Paz              0.063637\n",
       "Paris               0.061649\n",
       "Santa Cruz          0.059660\n",
       "Florianapolis       0.059660\n",
       "Roma                0.057671\n",
       "Londres             0.057671\n",
       "Dallas              0.049717\n",
       "Melbourne           0.041762\n",
       "Atlanta             0.041762\n",
       "Castro (Chiloe)     0.035796\n",
       "Punta Cana          0.035796\n",
       "Houston             0.033807\n",
       "Cancun              0.023864\n",
       "Tucuman             0.019887\n",
       "Orlando             0.017898\n",
       "San Juan, Arg.      0.015909\n",
       "Puerto Natales      0.013921\n",
       "Neuquen             0.007955\n",
       "Ushuia              0.007955\n",
       "Quito               0.003977\n",
       "Bariloche           0.001989\n",
       "Cochabamba          0.001989\n",
       "Punta del Este      0.001989\n",
       "Puerto Stanley      0.001989\n",
       "Pisco, Peru         0.000000\n",
       "Cataratas Iguacu    0.000000\n",
       "Curitiba, Bra.      0.000000\n",
       "Washington          0.000000\n",
       "Name: atraso_15, dtype: float64"
      ]
     },
     "execution_count": 65,
     "metadata": {},
     "output_type": "execute_result"
    }
   ],
   "source": [
    "# destino\n",
    "(df_final.groupby(['SIGLADES'])['atraso_15'].sum()*100/df_final['SIGLADES'].count()).sort_values(ascending=False)"
   ]
  },
  {
   "cell_type": "code",
   "execution_count": 66,
   "metadata": {},
   "outputs": [
    {
     "data": {
      "text/plain": [
       "OPERA\n",
       "Grupo LATAM                 14.529184\n",
       "Sky Airline                  5.051208\n",
       "Latin American Wings         1.354281\n",
       "Aerolineas Argentinas        0.930695\n",
       "Avianca                      0.608531\n",
       "Gol Trans                    0.570747\n",
       "Air Canada                   0.513075\n",
       "JetSmart SPA                 0.389778\n",
       "Copa Air                     0.230685\n",
       "Qantas Airways               0.224719\n",
       "American Airlines            0.101422\n",
       "Oceanair Linhas Aereas       0.085513\n",
       "Iberia                       0.071592\n",
       "Plus Ultra Lineas Aereas     0.059660\n",
       "Air France                   0.059660\n",
       "British Airways              0.057671\n",
       "Alitalia                     0.057671\n",
       "Delta Air                    0.041762\n",
       "K.L.M.                       0.041762\n",
       "United Airlines              0.033807\n",
       "Austral                      0.029830\n",
       "Lacsa                        0.021875\n",
       "Aeromexico                   0.019887\n",
       "Name: atraso_15, dtype: float64"
      ]
     },
     "execution_count": 66,
     "metadata": {},
     "output_type": "execute_result"
    }
   ],
   "source": [
    "# aerolinea\n",
    "(df_final.groupby(['OPERA'])['atraso_15'].sum()*100/df_final['OPERA'].count()).sort_values(ascending=False)"
   ]
  },
  {
   "cell_type": "code",
   "execution_count": 67,
   "metadata": {},
   "outputs": [
    {
     "data": {
      "text/plain": [
       "MES\n",
       "7     3.496072\n",
       "12    3.211693\n",
       "10    2.710550\n",
       "11    2.384409\n",
       "8     1.980710\n",
       "1     1.944914\n",
       "9     1.923039\n",
       "6     1.694342\n",
       "2     1.676444\n",
       "5     1.644626\n",
       "3     1.254847\n",
       "4     1.163369\n",
       "Name: atraso_15, dtype: float64"
      ]
     },
     "execution_count": 67,
     "metadata": {},
     "output_type": "execute_result"
    }
   ],
   "source": [
    "# mes del año\n",
    "(df_final.groupby(['MES'])['atraso_15'].sum()*100/df_final['MES'].count()).sort_values(ascending=False)"
   ]
  },
  {
   "cell_type": "code",
   "execution_count": 68,
   "metadata": {},
   "outputs": [
    {
     "data": {
      "text/plain": [
       "DIANOM\n",
       "Viernes      4.544099\n",
       "Lunes        4.072785\n",
       "Jueves       4.066819\n",
       "Miercoles    3.303172\n",
       "Martes       3.249478\n",
       "Domingo      3.138113\n",
       "Sabado       2.710550\n",
       "Name: atraso_15, dtype: float64"
      ]
     },
     "execution_count": 68,
     "metadata": {},
     "output_type": "execute_result"
    }
   ],
   "source": [
    "# dia de la semana\n",
    "(df_final.groupby(['DIANOM'])['atraso_15'].sum()*100/df_final['DIANOM'].count()).sort_values(ascending=False)"
   ]
  },
  {
   "cell_type": "code",
   "execution_count": 69,
   "metadata": {},
   "outputs": [
    {
     "data": {
      "text/plain": [
       "temporada_alta\n",
       "0    13.294223\n",
       "1    11.790792\n",
       "Name: atraso_15, dtype: float64"
      ]
     },
     "execution_count": 69,
     "metadata": {},
     "output_type": "execute_result"
    }
   ],
   "source": [
    "# temporada\n",
    "(df_final.groupby(['temporada_alta'])['atraso_15'].sum()*100/df_final['temporada_alta'].count()).sort_values(ascending=False)"
   ]
  },
  {
   "cell_type": "code",
   "execution_count": 70,
   "metadata": {},
   "outputs": [
    {
     "data": {
      "text/plain": [
       "TIPOVUELO\n",
       "I    14.016108\n",
       "N    11.068907\n",
       "Name: atraso_15, dtype: float64"
      ]
     },
     "execution_count": 70,
     "metadata": {},
     "output_type": "execute_result"
    }
   ],
   "source": [
    "# tipo de vuelo\n",
    "(df_final.groupby(['TIPOVUELO'])['atraso_15'].sum()*100/df_final['TIPOVUELO'].count()).sort_values(ascending=False)"
   ]
  },
  {
   "cell_type": "markdown",
   "metadata": {},
   "source": [
    "* Las aerolineas LATAM y Sky Airlines tienen una tasa de atraso notoriamente mayor que el resto de las aerolineas"
   ]
  },
  {
   "cell_type": "code",
   "execution_count": 71,
   "metadata": {},
   "outputs": [
    {
     "data": {
      "text/plain": [
       "periodo_dia\n",
       "tarde     10.114348\n",
       "mañana     8.070001\n",
       "noche      6.900666\n",
       "Name: atraso_15, dtype: float64"
      ]
     },
     "execution_count": 71,
     "metadata": {},
     "output_type": "execute_result"
    }
   ],
   "source": [
    "# periodo dia\n",
    "(df_final.groupby(['periodo_dia'])['atraso_15'].sum()*100/df_final['periodo_dia'].count()).sort_values(ascending=False)"
   ]
  },
  {
   "cell_type": "markdown",
   "metadata": {},
   "source": [
    "### Modelo Predictivo"
   ]
  },
  {
   "cell_type": "markdown",
   "metadata": {},
   "source": [
    "### SVM"
   ]
  },
  {
   "cell_type": "markdown",
   "metadata": {},
   "source": [
    "* Se emplea modelo SVM ya que es un clasificador efectivo para problemas de clasificación binario\n",
    "* Tambien es una buena herramienta para trabajar con clases desbalanceadas\n",
    "* Se realiza GridSearch para busqueda de mejores hiperparametros "
   ]
  },
  {
   "cell_type": "code",
   "execution_count": null,
   "metadata": {},
   "outputs": [],
   "source": [
    "df_final.head(2)"
   ]
  },
  {
   "cell_type": "code",
   "execution_count": null,
   "metadata": {},
   "outputs": [],
   "source": [
    "# seleccionar dataset 1\n",
    "# dataset_1 = df_final[['SIGLADES', 'OPERA', 'MES', 'DIANOM', 'temporada_alta', 'TIPOVUELO']]\n",
    "dataset_1 = df_final[['OPERA', 'MES', 'DIANOM', 'temporada_alta', 'TIPOVUELO']].copy()\n",
    "dataset_1['MES'] = dataset_1['MES'].astype('str')\n",
    "print(dataset_1)"
   ]
  },
  {
   "cell_type": "code",
   "execution_count": null,
   "metadata": {},
   "outputs": [],
   "source": [
    "dataset_1.head(2)"
   ]
  },
  {
   "cell_type": "code",
   "execution_count": null,
   "metadata": {},
   "outputs": [],
   "source": [
    "df_final[['atraso_15']].head(2)"
   ]
  },
  {
   "cell_type": "code",
   "execution_count": null,
   "metadata": {},
   "outputs": [],
   "source": [
    "# generar variables\n",
    "X = pd.get_dummies(dataset_1).values\n",
    "y = df_final[['atraso_15']].values\n",
    "print(X.shape)"
   ]
  },
  {
   "cell_type": "code",
   "execution_count": null,
   "metadata": {},
   "outputs": [],
   "source": [
    "X"
   ]
  },
  {
   "cell_type": "code",
   "execution_count": null,
   "metadata": {},
   "outputs": [],
   "source": [
    "y"
   ]
  },
  {
   "cell_type": "code",
   "execution_count": null,
   "metadata": {},
   "outputs": [],
   "source": [
    "# from sklearn.svm import SVC\n",
    "# from sklearn.model_selection import train_test_split, StratifiedKFold, GridSearchCV, cross_val_score"
   ]
  },
  {
   "cell_type": "code",
   "execution_count": null,
   "metadata": {},
   "outputs": [],
   "source": [
    "# train test split\n",
    "from sklearn.model_selection import train_test_split\n",
    "X_train, X_test, y_train, y_test = train_test_split(X, y, test_size=0.33, random_state=42)"
   ]
  },
  {
   "cell_type": "code",
   "execution_count": null,
   "metadata": {},
   "outputs": [],
   "source": [
    "from sklearn import svm\n",
    "from sklearn.model_selection import GridSearchCV\n",
    "import time\n",
    "\n",
    "t0=time.time()\n",
    "parameters = {'kernel':('linear', 'rbf'), 'C':[1, 10]}\n",
    "svc = svm.SVC()\n",
    "clf = GridSearchCV(svc, parameters, n_jobs=-1)\n",
    "clf.fit(X_train, y_train)\n",
    "tf=time.time()\n",
    "\n",
    "print(\"Elapsed Time: {} [min]\".format((tf-t0)/60))"
   ]
  },
  {
   "cell_type": "code",
   "execution_count": null,
   "metadata": {},
   "outputs": [],
   "source": [
    "y_pred = clf.predict(X_test)\n",
    "y_true = y_test"
   ]
  },
  {
   "cell_type": "code",
   "execution_count": null,
   "metadata": {},
   "outputs": [],
   "source": [
    "print(classification_report(y_true, y_pred))"
   ]
  },
  {
   "cell_type": "code",
   "execution_count": null,
   "metadata": {},
   "outputs": [],
   "source": []
  },
  {
   "cell_type": "code",
   "execution_count": null,
   "metadata": {},
   "outputs": [],
   "source": []
  },
  {
   "cell_type": "code",
   "execution_count": null,
   "metadata": {},
   "outputs": [],
   "source": []
  },
  {
   "cell_type": "code",
   "execution_count": null,
   "metadata": {},
   "outputs": [],
   "source": []
  },
  {
   "cell_type": "code",
   "execution_count": null,
   "metadata": {},
   "outputs": [],
   "source": [
    "# train\n",
    "C = np.logspace(-1, 1, 3)\n",
    "gamma = np.logspace(-1, 1, 3)\n",
    "C, gamma"
   ]
  },
  {
   "cell_type": "code",
   "execution_count": null,
   "metadata": {},
   "outputs": [],
   "source": [
    "# Define the search space\n",
    "param_grid = { \n",
    "    # Regularization parameter.\n",
    "    \"C\": C,\n",
    "    # Kernel type\n",
    "    \"kernel\": ['rbf'],\n",
    "    # Gamma is the Kernel coefficient for ‘rbf’, ‘poly’ and ‘sigmoid’.\n",
    "    \"gamma\": ['scale', 'auto']\n",
    "    }# Set up score\n",
    "scoring = ['accuracy']# Set up the k-fold cross-validation\n",
    "kfold = StratifiedKFold(n_splits=3, shuffle=True, random_state=0)"
   ]
  },
  {
   "cell_type": "code",
   "execution_count": null,
   "metadata": {},
   "outputs": [],
   "source": [
    "# Define grid search\n",
    "svc = SVC()\n",
    "grid_search = GridSearchCV(estimator=svc, \n",
    "                           param_grid=param_grid, \n",
    "                           scoring=scoring, \n",
    "                           refit='accuracy', \n",
    "                           n_jobs=-1, \n",
    "                           cv=kfold, \n",
    "                           verbose=0)# Fit grid search\n",
    "grid_result = grid_search.fit(X_train, y_train)# Print grid search summary\n",
    "grid_result"
   ]
  },
  {
   "cell_type": "code",
   "execution_count": null,
   "metadata": {},
   "outputs": [],
   "source": [
    "# Print the best accuracy score for the training dataset\n",
    "print(f'The best accuracy score for the training dataset is {grid_result.best_score_:.4f}')# Print the hyperparameters for the best score\n",
    "print(f'The best hyperparameters are {grid_result.best_params_}')# Print the best accuracy score for the testing dataset\n",
    "print(f'The accuracy score for the testing dataset is {grid_search.score(X_test_transformed, y_test):.4f}')"
   ]
  },
  {
   "cell_type": "code",
   "execution_count": null,
   "metadata": {},
   "outputs": [],
   "source": [
    "# performance"
   ]
  },
  {
   "cell_type": "markdown",
   "metadata": {},
   "source": [
    "### XGBoost"
   ]
  },
  {
   "cell_type": "code",
   "execution_count": 75,
   "metadata": {},
   "outputs": [
    {
     "data": {
      "text/html": [
       "<div>\n",
       "<style scoped>\n",
       "    .dataframe tbody tr th:only-of-type {\n",
       "        vertical-align: middle;\n",
       "    }\n",
       "\n",
       "    .dataframe tbody tr th {\n",
       "        vertical-align: top;\n",
       "    }\n",
       "\n",
       "    .dataframe thead th {\n",
       "        text-align: right;\n",
       "    }\n",
       "</style>\n",
       "<table border=\"1\" class=\"dataframe\">\n",
       "  <thead>\n",
       "    <tr style=\"text-align: right;\">\n",
       "      <th></th>\n",
       "      <th>Fecha-I</th>\n",
       "      <th>Vlo-I</th>\n",
       "      <th>Ori-I</th>\n",
       "      <th>Des-I</th>\n",
       "      <th>Emp-I</th>\n",
       "      <th>Fecha-O</th>\n",
       "      <th>Vlo-O</th>\n",
       "      <th>Ori-O</th>\n",
       "      <th>Des-O</th>\n",
       "      <th>Emp-O</th>\n",
       "      <th>DIA</th>\n",
       "      <th>MES</th>\n",
       "      <th>AÑO</th>\n",
       "      <th>DIANOM</th>\n",
       "      <th>TIPOVUELO</th>\n",
       "      <th>OPERA</th>\n",
       "      <th>SIGLAORI</th>\n",
       "      <th>SIGLADES</th>\n",
       "      <th>date</th>\n",
       "      <th>temporada_alta</th>\n",
       "      <th>dif_min</th>\n",
       "      <th>atraso_15</th>\n",
       "      <th>periodo_dia</th>\n",
       "    </tr>\n",
       "  </thead>\n",
       "  <tbody>\n",
       "    <tr>\n",
       "      <th>622</th>\n",
       "      <td>2017-01-01 01:23:00</td>\n",
       "      <td>495</td>\n",
       "      <td>SCEL</td>\n",
       "      <td>MPTO</td>\n",
       "      <td>CMP</td>\n",
       "      <td>2017-01-01 01:29:00</td>\n",
       "      <td>495</td>\n",
       "      <td>SCEL</td>\n",
       "      <td>MPTO</td>\n",
       "      <td>CMP</td>\n",
       "      <td>1</td>\n",
       "      <td>1</td>\n",
       "      <td>2017</td>\n",
       "      <td>Domingo</td>\n",
       "      <td>I</td>\n",
       "      <td>Copa Air</td>\n",
       "      <td>Santiago</td>\n",
       "      <td>Ciudad de Panama</td>\n",
       "      <td>2017-01</td>\n",
       "      <td>1</td>\n",
       "      <td>6.0</td>\n",
       "      <td>0</td>\n",
       "      <td>noche</td>\n",
       "    </tr>\n",
       "    <tr>\n",
       "      <th>409</th>\n",
       "      <td>2017-01-01 01:33:00</td>\n",
       "      <td>240</td>\n",
       "      <td>SCEL</td>\n",
       "      <td>SKBO</td>\n",
       "      <td>AVA</td>\n",
       "      <td>2017-01-01 01:38:00</td>\n",
       "      <td>240</td>\n",
       "      <td>SCEL</td>\n",
       "      <td>SKBO</td>\n",
       "      <td>AVA</td>\n",
       "      <td>1</td>\n",
       "      <td>1</td>\n",
       "      <td>2017</td>\n",
       "      <td>Domingo</td>\n",
       "      <td>I</td>\n",
       "      <td>Avianca</td>\n",
       "      <td>Santiago</td>\n",
       "      <td>Bogota</td>\n",
       "      <td>2017-01</td>\n",
       "      <td>1</td>\n",
       "      <td>5.0</td>\n",
       "      <td>0</td>\n",
       "      <td>noche</td>\n",
       "    </tr>\n",
       "  </tbody>\n",
       "</table>\n",
       "</div>"
      ],
      "text/plain": [
       "                Fecha-I  Vlo-I Ori-I Des-I Emp-I             Fecha-O  Vlo-O  \\\n",
       "622 2017-01-01 01:23:00    495  SCEL  MPTO   CMP 2017-01-01 01:29:00    495   \n",
       "409 2017-01-01 01:33:00    240  SCEL  SKBO   AVA 2017-01-01 01:38:00    240   \n",
       "\n",
       "    Ori-O Des-O Emp-O  DIA  MES   AÑO   DIANOM TIPOVUELO     OPERA  SIGLAORI  \\\n",
       "622  SCEL  MPTO   CMP    1    1  2017  Domingo         I  Copa Air  Santiago   \n",
       "409  SCEL  SKBO   AVA    1    1  2017  Domingo         I   Avianca  Santiago   \n",
       "\n",
       "             SIGLADES     date  temporada_alta  dif_min  atraso_15 periodo_dia  \n",
       "622  Ciudad de Panama  2017-01               1      6.0          0       noche  \n",
       "409            Bogota  2017-01               1      5.0          0       noche  "
      ]
     },
     "execution_count": 75,
     "metadata": {},
     "output_type": "execute_result"
    }
   ],
   "source": [
    "# check columns\n",
    "df_final.head(2)"
   ]
  },
  {
   "cell_type": "code",
   "execution_count": 197,
   "metadata": {},
   "outputs": [],
   "source": [
    "# dataset\n",
    "dataset_2 = df_final[['OPERA', 'MES', 'DIANOM', 'temporada_alta', 'TIPOVUELO']].copy()\n",
    "dataset_2['OPERA'] = dataset_2['OPERA'].astype('category')\n",
    "dataset_2['DIANOM'] = dataset_2['DIANOM'].astype('category')\n",
    "dataset_2['TIPOVUELO'] = dataset_2['TIPOVUELO'].astype('category')\n",
    "# dataset_2 = df_final[['MES', 'temporada_alta']].copy()"
   ]
  },
  {
   "cell_type": "code",
   "execution_count": 199,
   "metadata": {},
   "outputs": [
    {
     "data": {
      "text/html": [
       "<div>\n",
       "<style scoped>\n",
       "    .dataframe tbody tr th:only-of-type {\n",
       "        vertical-align: middle;\n",
       "    }\n",
       "\n",
       "    .dataframe tbody tr th {\n",
       "        vertical-align: top;\n",
       "    }\n",
       "\n",
       "    .dataframe thead th {\n",
       "        text-align: right;\n",
       "    }\n",
       "</style>\n",
       "<table border=\"1\" class=\"dataframe\">\n",
       "  <thead>\n",
       "    <tr style=\"text-align: right;\">\n",
       "      <th></th>\n",
       "      <th>OPERA</th>\n",
       "      <th>MES</th>\n",
       "      <th>DIANOM</th>\n",
       "      <th>temporada_alta</th>\n",
       "      <th>TIPOVUELO</th>\n",
       "    </tr>\n",
       "  </thead>\n",
       "  <tbody>\n",
       "    <tr>\n",
       "      <th>622</th>\n",
       "      <td>Copa Air</td>\n",
       "      <td>1</td>\n",
       "      <td>Domingo</td>\n",
       "      <td>1</td>\n",
       "      <td>I</td>\n",
       "    </tr>\n",
       "    <tr>\n",
       "      <th>409</th>\n",
       "      <td>Avianca</td>\n",
       "      <td>1</td>\n",
       "      <td>Domingo</td>\n",
       "      <td>1</td>\n",
       "      <td>I</td>\n",
       "    </tr>\n",
       "  </tbody>\n",
       "</table>\n",
       "</div>"
      ],
      "text/plain": [
       "        OPERA  MES   DIANOM  temporada_alta TIPOVUELO\n",
       "622  Copa Air    1  Domingo               1         I\n",
       "409   Avianca    1  Domingo               1         I"
      ]
     },
     "execution_count": 199,
     "metadata": {},
     "output_type": "execute_result"
    }
   ],
   "source": [
    "dataset_2.head(2)"
   ]
  },
  {
   "cell_type": "code",
   "execution_count": 200,
   "metadata": {},
   "outputs": [
    {
     "name": "stdout",
     "output_type": "stream",
     "text": [
      "(50285, 5)\n"
     ]
    }
   ],
   "source": [
    "# generar variables\n",
    "X = dataset_2.copy() # .values\n",
    "y = df_final[['atraso_15']].copy() #.values\n",
    "print(X.shape)"
   ]
  },
  {
   "cell_type": "code",
   "execution_count": 201,
   "metadata": {},
   "outputs": [
    {
     "data": {
      "text/plain": [
       "(             OPERA  MES   DIANOM  temporada_alta TIPOVUELO\n",
       " 622       Copa Air    1  Domingo               1         I\n",
       " 409        Avianca    1  Domingo               1         I\n",
       " 2462   Sky Airline    1  Domingo               1         I\n",
       " 684      Gol Trans    1  Domingo               1         I\n",
       " 2162   Sky Airline    1  Domingo               1         N\n",
       " ...            ...  ...      ...             ...       ...\n",
       " 67004  Grupo LATAM   12  Domingo               1         I\n",
       " 64406  Sky Airline   12  Domingo               1         I\n",
       " 66797  Grupo LATAM   12  Domingo               1         I\n",
       " 66947  Grupo LATAM    1    Lunes               1         I\n",
       " 66918  Grupo LATAM    1    Lunes               1         I\n",
       " \n",
       " [50285 rows x 5 columns],\n",
       "        atraso_15\n",
       " 622            0\n",
       " 409            0\n",
       " 2462           0\n",
       " 684            0\n",
       " 2162           0\n",
       " ...          ...\n",
       " 67004          0\n",
       " 64406          0\n",
       " 66797          0\n",
       " 66947          1\n",
       " 66918          0\n",
       " \n",
       " [50285 rows x 1 columns])"
      ]
     },
     "execution_count": 201,
     "metadata": {},
     "output_type": "execute_result"
    }
   ],
   "source": [
    "X, y"
   ]
  },
  {
   "cell_type": "code",
   "execution_count": 202,
   "metadata": {},
   "outputs": [],
   "source": [
    "# train test split\n",
    "from sklearn.model_selection import train_test_split\n",
    "X_train, X_test, y_train, y_test = train_test_split(X, y, test_size=0.33, random_state=42)"
   ]
  },
  {
   "cell_type": "code",
   "execution_count": 203,
   "metadata": {},
   "outputs": [],
   "source": [
    "# performance"
   ]
  },
  {
   "cell_type": "code",
   "execution_count": 209,
   "metadata": {},
   "outputs": [
    {
     "name": "stderr",
     "output_type": "stream",
     "text": [
      "\u001b[32m[I 2022-09-27 11:02:47,070]\u001b[0m A new study created in memory with name: no-name-0fb8bbaf-d3a6-4f99-9ec5-d59c4afb6505\u001b[0m\n",
      "<ipython-input-209-f41715be0a91>:8: FutureWarning: suggest_loguniform has been deprecated in v3.0.0. This feature will be removed in v6.0.0. See https://github.com/optuna/optuna/releases/tag/v3.0.0. Use :func:`~optuna.trial.Trial.suggest_float` instead.\n",
      "  'lambda_l1': trial.suggest_loguniform('lambda_l1', 1e-8, 10.0),\n",
      "<ipython-input-209-f41715be0a91>:9: FutureWarning: suggest_loguniform has been deprecated in v3.0.0. This feature will be removed in v6.0.0. See https://github.com/optuna/optuna/releases/tag/v3.0.0. Use :func:`~optuna.trial.Trial.suggest_float` instead.\n",
      "  'lambda_l2': trial.suggest_loguniform('lambda_l2', 1e-8, 10.0),\n",
      "<ipython-input-209-f41715be0a91>:11: FutureWarning: suggest_uniform has been deprecated in v3.0.0. This feature will be removed in v6.0.0. See https://github.com/optuna/optuna/releases/tag/v3.0.0. Use :func:`~optuna.trial.Trial.suggest_float` instead.\n",
      "  'feature_fraction': trial.suggest_uniform('feature_fraction', 0.4, 1.0),\n",
      "<ipython-input-209-f41715be0a91>:12: FutureWarning: suggest_uniform has been deprecated in v3.0.0. This feature will be removed in v6.0.0. See https://github.com/optuna/optuna/releases/tag/v3.0.0. Use :func:`~optuna.trial.Trial.suggest_float` instead.\n",
      "  'bagging_fraction': trial.suggest_uniform('bagging_fraction', 0.4, 1.0),\n",
      "/home/joe/.local/lib/python3.8/site-packages/lightgbm/engine.py:177: UserWarning: Found `num_boost_round` in params. Will use it instead of argument\n",
      "  _log_warning(f\"Found `{alias}` in params. Will use it instead of argument\")\n",
      "/home/joe/.local/lib/python3.8/site-packages/lightgbm/basic.py:2065: UserWarning: Using categorical_feature in Dataset.\n",
      "  _log_warning('Using categorical_feature in Dataset.')\n",
      "\u001b[33m[W 2022-09-27 11:02:47,174]\u001b[0m Trial 0 failed because of the following error: ValueError(\"Classification metrics can't handle a mix of binary and continuous targets\")\u001b[0m\n",
      "Traceback (most recent call last):\n",
      "  File \"/home/joe/.local/lib/python3.8/site-packages/optuna/study/_optimize.py\", line 196, in _run_trial\n",
      "    value_or_values = func(trial)\n",
      "  File \"<ipython-input-209-f41715be0a91>\", line 41, in objective\n",
      "    print(accuracy_score(y_valid, preds))\n",
      "  File \"/home/joe/.local/lib/python3.8/site-packages/sklearn/metrics/_classification.py\", line 211, in accuracy_score\n",
      "    y_type, y_true, y_pred = _check_targets(y_true, y_pred)\n",
      "  File \"/home/joe/.local/lib/python3.8/site-packages/sklearn/metrics/_classification.py\", line 93, in _check_targets\n",
      "    raise ValueError(\n",
      "ValueError: Classification metrics can't handle a mix of binary and continuous targets\n"
     ]
    },
    {
     "name": "stdout",
     "output_type": "stream",
     "text": [
      "[LightGBM] [Warning] Auto-choosing row-wise multi-threading, the overhead of testing was 0.000418 seconds.\n",
      "You can set `force_row_wise=true` to remove the overhead.\n",
      "And if memory is not enough, you can set `force_col_wise=true`.\n",
      "[LightGBM] [Info] Total Bins 49\n",
      "[LightGBM] [Info] Number of data points in the train set: 26952, number of used features: 5\n",
      "[LightGBM] [Warning] No further splits with positive gain, best gain: -inf\n",
      "[LightGBM] [Warning] No further splits with positive gain, best gain: -inf\n",
      "[LightGBM] [Warning] No further splits with positive gain, best gain: -inf\n",
      "[LightGBM] [Warning] No further splits with positive gain, best gain: -inf\n",
      "[LightGBM] [Warning] No further splits with positive gain, best gain: -inf\n",
      "[LightGBM] [Warning] No further splits with positive gain, best gain: -inf\n",
      "[LightGBM] [Warning] No further splits with positive gain, best gain: -inf\n",
      "[LightGBM] [Warning] No further splits with positive gain, best gain: -inf\n",
      "[LightGBM] [Warning] No further splits with positive gain, best gain: -inf\n",
      "[LightGBM] [Warning] No further splits with positive gain, best gain: -inf\n",
      "       atraso_15\n",
      "60998          1\n",
      "2865           0\n",
      "13218          1\n",
      "64265          1\n",
      "37040          1\n",
      "...          ...\n",
      "3769           0\n",
      "59536          0\n",
      "12465          0\n",
      "42935          0\n",
      "4578           0\n",
      "\n",
      "[6738 rows x 1 columns]\n",
      "[0. 0. 0. ... 0. 0. 0.]\n",
      "<class 'numpy.ndarray'> <class 'pandas.core.frame.DataFrame'>\n"
     ]
    },
    {
     "ename": "ValueError",
     "evalue": "Classification metrics can't handle a mix of binary and continuous targets",
     "output_type": "error",
     "traceback": [
      "\u001b[0;31m---------------------------------------------------------------------------\u001b[0m",
      "\u001b[0;31mValueError\u001b[0m                                Traceback (most recent call last)",
      "\u001b[0;32m<ipython-input-209-f41715be0a91>\u001b[0m in \u001b[0;36m<module>\u001b[0;34m\u001b[0m\n\u001b[1;32m     56\u001b[0m \u001b[0;31m# perform study\u001b[0m\u001b[0;34m\u001b[0m\u001b[0;34m\u001b[0m\u001b[0;34m\u001b[0m\u001b[0m\n\u001b[1;32m     57\u001b[0m \u001b[0mstudy_i\u001b[0m \u001b[0;34m=\u001b[0m \u001b[0moptuna\u001b[0m\u001b[0;34m.\u001b[0m\u001b[0mcreate_study\u001b[0m\u001b[0;34m(\u001b[0m\u001b[0mdirection\u001b[0m\u001b[0;34m=\u001b[0m\u001b[0;34m'minimize'\u001b[0m\u001b[0;34m)\u001b[0m\u001b[0;34m\u001b[0m\u001b[0;34m\u001b[0m\u001b[0m\n\u001b[0;32m---> 58\u001b[0;31m \u001b[0mstudy_i\u001b[0m\u001b[0;34m.\u001b[0m\u001b[0moptimize\u001b[0m\u001b[0;34m(\u001b[0m\u001b[0mobjective\u001b[0m\u001b[0;34m,\u001b[0m \u001b[0;36m10\u001b[0m\u001b[0;34m)\u001b[0m\u001b[0;34m\u001b[0m\u001b[0;34m\u001b[0m\u001b[0m\n\u001b[0m\u001b[1;32m     59\u001b[0m \u001b[0;34m\u001b[0m\u001b[0m\n\u001b[1;32m     60\u001b[0m \u001b[0mprint\u001b[0m\u001b[0;34m(\u001b[0m\u001b[0;34m'Number of finished trials:'\u001b[0m\u001b[0;34m,\u001b[0m \u001b[0mlen\u001b[0m\u001b[0;34m(\u001b[0m\u001b[0mstudy_i\u001b[0m\u001b[0;34m.\u001b[0m\u001b[0mtrials\u001b[0m\u001b[0;34m)\u001b[0m\u001b[0;34m)\u001b[0m\u001b[0;34m\u001b[0m\u001b[0;34m\u001b[0m\u001b[0m\n",
      "\u001b[0;32m~/.local/lib/python3.8/site-packages/optuna/study/study.py\u001b[0m in \u001b[0;36moptimize\u001b[0;34m(self, func, n_trials, timeout, n_jobs, catch, callbacks, gc_after_trial, show_progress_bar)\u001b[0m\n\u001b[1;32m    417\u001b[0m         \"\"\"\n\u001b[1;32m    418\u001b[0m \u001b[0;34m\u001b[0m\u001b[0m\n\u001b[0;32m--> 419\u001b[0;31m         _optimize(\n\u001b[0m\u001b[1;32m    420\u001b[0m             \u001b[0mstudy\u001b[0m\u001b[0;34m=\u001b[0m\u001b[0mself\u001b[0m\u001b[0;34m,\u001b[0m\u001b[0;34m\u001b[0m\u001b[0;34m\u001b[0m\u001b[0m\n\u001b[1;32m    421\u001b[0m             \u001b[0mfunc\u001b[0m\u001b[0;34m=\u001b[0m\u001b[0mfunc\u001b[0m\u001b[0;34m,\u001b[0m\u001b[0;34m\u001b[0m\u001b[0;34m\u001b[0m\u001b[0m\n",
      "\u001b[0;32m~/.local/lib/python3.8/site-packages/optuna/study/_optimize.py\u001b[0m in \u001b[0;36m_optimize\u001b[0;34m(study, func, n_trials, timeout, n_jobs, catch, callbacks, gc_after_trial, show_progress_bar)\u001b[0m\n\u001b[1;32m     64\u001b[0m     \u001b[0;32mtry\u001b[0m\u001b[0;34m:\u001b[0m\u001b[0;34m\u001b[0m\u001b[0;34m\u001b[0m\u001b[0m\n\u001b[1;32m     65\u001b[0m         \u001b[0;32mif\u001b[0m \u001b[0mn_jobs\u001b[0m \u001b[0;34m==\u001b[0m \u001b[0;36m1\u001b[0m\u001b[0;34m:\u001b[0m\u001b[0;34m\u001b[0m\u001b[0;34m\u001b[0m\u001b[0m\n\u001b[0;32m---> 66\u001b[0;31m             _optimize_sequential(\n\u001b[0m\u001b[1;32m     67\u001b[0m                 \u001b[0mstudy\u001b[0m\u001b[0;34m,\u001b[0m\u001b[0;34m\u001b[0m\u001b[0;34m\u001b[0m\u001b[0m\n\u001b[1;32m     68\u001b[0m                 \u001b[0mfunc\u001b[0m\u001b[0;34m,\u001b[0m\u001b[0;34m\u001b[0m\u001b[0;34m\u001b[0m\u001b[0m\n",
      "\u001b[0;32m~/.local/lib/python3.8/site-packages/optuna/study/_optimize.py\u001b[0m in \u001b[0;36m_optimize_sequential\u001b[0;34m(study, func, n_trials, timeout, catch, callbacks, gc_after_trial, reseed_sampler_rng, time_start, progress_bar)\u001b[0m\n\u001b[1;32m    158\u001b[0m \u001b[0;34m\u001b[0m\u001b[0m\n\u001b[1;32m    159\u001b[0m         \u001b[0;32mtry\u001b[0m\u001b[0;34m:\u001b[0m\u001b[0;34m\u001b[0m\u001b[0;34m\u001b[0m\u001b[0m\n\u001b[0;32m--> 160\u001b[0;31m             \u001b[0mfrozen_trial\u001b[0m \u001b[0;34m=\u001b[0m \u001b[0m_run_trial\u001b[0m\u001b[0;34m(\u001b[0m\u001b[0mstudy\u001b[0m\u001b[0;34m,\u001b[0m \u001b[0mfunc\u001b[0m\u001b[0;34m,\u001b[0m \u001b[0mcatch\u001b[0m\u001b[0;34m)\u001b[0m\u001b[0;34m\u001b[0m\u001b[0;34m\u001b[0m\u001b[0m\n\u001b[0m\u001b[1;32m    161\u001b[0m         \u001b[0;32mfinally\u001b[0m\u001b[0;34m:\u001b[0m\u001b[0;34m\u001b[0m\u001b[0;34m\u001b[0m\u001b[0m\n\u001b[1;32m    162\u001b[0m             \u001b[0;31m# The following line mitigates memory problems that can be occurred in some\u001b[0m\u001b[0;34m\u001b[0m\u001b[0;34m\u001b[0m\u001b[0;34m\u001b[0m\u001b[0m\n",
      "\u001b[0;32m~/.local/lib/python3.8/site-packages/optuna/study/_optimize.py\u001b[0m in \u001b[0;36m_run_trial\u001b[0;34m(study, func, catch)\u001b[0m\n\u001b[1;32m    232\u001b[0m         \u001b[0;32mand\u001b[0m \u001b[0;32mnot\u001b[0m \u001b[0misinstance\u001b[0m\u001b[0;34m(\u001b[0m\u001b[0mfunc_err\u001b[0m\u001b[0;34m,\u001b[0m \u001b[0mcatch\u001b[0m\u001b[0;34m)\u001b[0m\u001b[0;34m\u001b[0m\u001b[0;34m\u001b[0m\u001b[0m\n\u001b[1;32m    233\u001b[0m     ):\n\u001b[0;32m--> 234\u001b[0;31m         \u001b[0;32mraise\u001b[0m \u001b[0mfunc_err\u001b[0m\u001b[0;34m\u001b[0m\u001b[0;34m\u001b[0m\u001b[0m\n\u001b[0m\u001b[1;32m    235\u001b[0m     \u001b[0;32mreturn\u001b[0m \u001b[0mfrozen_trial\u001b[0m\u001b[0;34m\u001b[0m\u001b[0;34m\u001b[0m\u001b[0m\n\u001b[1;32m    236\u001b[0m \u001b[0;34m\u001b[0m\u001b[0m\n",
      "\u001b[0;32m~/.local/lib/python3.8/site-packages/optuna/study/_optimize.py\u001b[0m in \u001b[0;36m_run_trial\u001b[0;34m(study, func, catch)\u001b[0m\n\u001b[1;32m    194\u001b[0m     \u001b[0;32mwith\u001b[0m \u001b[0mget_heartbeat_thread\u001b[0m\u001b[0;34m(\u001b[0m\u001b[0mtrial\u001b[0m\u001b[0;34m.\u001b[0m\u001b[0m_trial_id\u001b[0m\u001b[0;34m,\u001b[0m \u001b[0mstudy\u001b[0m\u001b[0;34m.\u001b[0m\u001b[0m_storage\u001b[0m\u001b[0;34m)\u001b[0m\u001b[0;34m:\u001b[0m\u001b[0;34m\u001b[0m\u001b[0;34m\u001b[0m\u001b[0m\n\u001b[1;32m    195\u001b[0m         \u001b[0;32mtry\u001b[0m\u001b[0;34m:\u001b[0m\u001b[0;34m\u001b[0m\u001b[0;34m\u001b[0m\u001b[0m\n\u001b[0;32m--> 196\u001b[0;31m             \u001b[0mvalue_or_values\u001b[0m \u001b[0;34m=\u001b[0m \u001b[0mfunc\u001b[0m\u001b[0;34m(\u001b[0m\u001b[0mtrial\u001b[0m\u001b[0;34m)\u001b[0m\u001b[0;34m\u001b[0m\u001b[0;34m\u001b[0m\u001b[0m\n\u001b[0m\u001b[1;32m    197\u001b[0m         \u001b[0;32mexcept\u001b[0m \u001b[0mexceptions\u001b[0m\u001b[0;34m.\u001b[0m\u001b[0mTrialPruned\u001b[0m \u001b[0;32mas\u001b[0m \u001b[0me\u001b[0m\u001b[0;34m:\u001b[0m\u001b[0;34m\u001b[0m\u001b[0;34m\u001b[0m\u001b[0m\n\u001b[1;32m    198\u001b[0m             \u001b[0;31m# TODO(mamu): Handle multi-objective cases.\u001b[0m\u001b[0;34m\u001b[0m\u001b[0;34m\u001b[0m\u001b[0;34m\u001b[0m\u001b[0m\n",
      "\u001b[0;32m<ipython-input-209-f41715be0a91>\u001b[0m in \u001b[0;36mobjective\u001b[0;34m(trial)\u001b[0m\n\u001b[1;32m     39\u001b[0m     \u001b[0mprint\u001b[0m\u001b[0;34m(\u001b[0m\u001b[0mpreds\u001b[0m\u001b[0;34m)\u001b[0m\u001b[0;34m\u001b[0m\u001b[0;34m\u001b[0m\u001b[0m\n\u001b[1;32m     40\u001b[0m     \u001b[0mprint\u001b[0m\u001b[0;34m(\u001b[0m\u001b[0mtype\u001b[0m\u001b[0;34m(\u001b[0m\u001b[0mpreds\u001b[0m\u001b[0;34m)\u001b[0m\u001b[0;34m,\u001b[0m \u001b[0mtype\u001b[0m\u001b[0;34m(\u001b[0m\u001b[0my_valid\u001b[0m\u001b[0;34m)\u001b[0m\u001b[0;34m)\u001b[0m\u001b[0;34m\u001b[0m\u001b[0;34m\u001b[0m\u001b[0m\n\u001b[0;32m---> 41\u001b[0;31m     \u001b[0mprint\u001b[0m\u001b[0;34m(\u001b[0m\u001b[0maccuracy_score\u001b[0m\u001b[0;34m(\u001b[0m\u001b[0my_valid\u001b[0m\u001b[0;34m,\u001b[0m \u001b[0mpreds\u001b[0m\u001b[0;34m)\u001b[0m\u001b[0;34m)\u001b[0m\u001b[0;34m\u001b[0m\u001b[0;34m\u001b[0m\u001b[0m\n\u001b[0m\u001b[1;32m     42\u001b[0m     \u001b[0maccuracy\u001b[0m \u001b[0;34m=\u001b[0m \u001b[0maccuracy_score\u001b[0m\u001b[0;34m(\u001b[0m\u001b[0my_valid\u001b[0m\u001b[0;34m,\u001b[0m \u001b[0mpreds\u001b[0m\u001b[0;34m)\u001b[0m\u001b[0;34m\u001b[0m\u001b[0;34m\u001b[0m\u001b[0m\n\u001b[1;32m     43\u001b[0m \u001b[0;34m\u001b[0m\u001b[0m\n",
      "\u001b[0;32m~/.local/lib/python3.8/site-packages/sklearn/metrics/_classification.py\u001b[0m in \u001b[0;36maccuracy_score\u001b[0;34m(y_true, y_pred, normalize, sample_weight)\u001b[0m\n\u001b[1;32m    209\u001b[0m \u001b[0;34m\u001b[0m\u001b[0m\n\u001b[1;32m    210\u001b[0m     \u001b[0;31m# Compute accuracy for each possible representation\u001b[0m\u001b[0;34m\u001b[0m\u001b[0;34m\u001b[0m\u001b[0;34m\u001b[0m\u001b[0m\n\u001b[0;32m--> 211\u001b[0;31m     \u001b[0my_type\u001b[0m\u001b[0;34m,\u001b[0m \u001b[0my_true\u001b[0m\u001b[0;34m,\u001b[0m \u001b[0my_pred\u001b[0m \u001b[0;34m=\u001b[0m \u001b[0m_check_targets\u001b[0m\u001b[0;34m(\u001b[0m\u001b[0my_true\u001b[0m\u001b[0;34m,\u001b[0m \u001b[0my_pred\u001b[0m\u001b[0;34m)\u001b[0m\u001b[0;34m\u001b[0m\u001b[0;34m\u001b[0m\u001b[0m\n\u001b[0m\u001b[1;32m    212\u001b[0m     \u001b[0mcheck_consistent_length\u001b[0m\u001b[0;34m(\u001b[0m\u001b[0my_true\u001b[0m\u001b[0;34m,\u001b[0m \u001b[0my_pred\u001b[0m\u001b[0;34m,\u001b[0m \u001b[0msample_weight\u001b[0m\u001b[0;34m)\u001b[0m\u001b[0;34m\u001b[0m\u001b[0;34m\u001b[0m\u001b[0m\n\u001b[1;32m    213\u001b[0m     \u001b[0;32mif\u001b[0m \u001b[0my_type\u001b[0m\u001b[0;34m.\u001b[0m\u001b[0mstartswith\u001b[0m\u001b[0;34m(\u001b[0m\u001b[0;34m\"multilabel\"\u001b[0m\u001b[0;34m)\u001b[0m\u001b[0;34m:\u001b[0m\u001b[0;34m\u001b[0m\u001b[0;34m\u001b[0m\u001b[0m\n",
      "\u001b[0;32m~/.local/lib/python3.8/site-packages/sklearn/metrics/_classification.py\u001b[0m in \u001b[0;36m_check_targets\u001b[0;34m(y_true, y_pred)\u001b[0m\n\u001b[1;32m     91\u001b[0m \u001b[0;34m\u001b[0m\u001b[0m\n\u001b[1;32m     92\u001b[0m     \u001b[0;32mif\u001b[0m \u001b[0mlen\u001b[0m\u001b[0;34m(\u001b[0m\u001b[0my_type\u001b[0m\u001b[0;34m)\u001b[0m \u001b[0;34m>\u001b[0m \u001b[0;36m1\u001b[0m\u001b[0;34m:\u001b[0m\u001b[0;34m\u001b[0m\u001b[0;34m\u001b[0m\u001b[0m\n\u001b[0;32m---> 93\u001b[0;31m         raise ValueError(\n\u001b[0m\u001b[1;32m     94\u001b[0m             \"Classification metrics can't handle a mix of {0} and {1} targets\".format(\n\u001b[1;32m     95\u001b[0m                 \u001b[0mtype_true\u001b[0m\u001b[0;34m,\u001b[0m \u001b[0mtype_pred\u001b[0m\u001b[0;34m\u001b[0m\u001b[0;34m\u001b[0m\u001b[0m\n",
      "\u001b[0;31mValueError\u001b[0m: Classification metrics can't handle a mix of binary and continuous targets"
     ]
    }
   ],
   "source": [
    "def objective(trial):\n",
    "    # print(train_x[:, 1])\n",
    "\n",
    "    param = {\n",
    "        'objective': 'regression_l1',\n",
    "        'metric': 'mape',\n",
    "        \"boosting_type\": \"gbdt\",\n",
    "        'lambda_l1': trial.suggest_loguniform('lambda_l1', 1e-8, 10.0),\n",
    "        'lambda_l2': trial.suggest_loguniform('lambda_l2', 1e-8, 10.0),\n",
    "        'num_leaves': trial.suggest_int('num_leaves', 2, 256),\n",
    "        'feature_fraction': trial.suggest_uniform('feature_fraction', 0.4, 1.0),\n",
    "        'bagging_fraction': trial.suggest_uniform('bagging_fraction', 0.4, 1.0),\n",
    "        'bagging_freq': trial.suggest_int('bagging_freq', 1, 7),\n",
    "        'max_depth': trial.suggest_int('max_depth', 3, 20),\n",
    "        'num_boost_round': 10,\n",
    "        'nthread': 2\n",
    "        # 'min_child_samples': trial.suggest_int('min_child_samples', 5, 100),\n",
    "        # 'feature_pre_filter': False,\n",
    "    }\n",
    "\n",
    "    gbm = lgb.train(param, dtrain)\n",
    "    preds = gbm.predict(X_valid)\n",
    "    # pred_labels = np.rint(preds)\n",
    "\n",
    "    # rmse\n",
    "    # accuracy = np.sqrt(sklearn.metrics.mean_squared_error(val_y, preds))\n",
    "\n",
    "    # mape\n",
    "#     print(y_valid.T.values[0])\n",
    "#     print(preds)\n",
    "#     print(y_valid.T.values[0]- preds)\n",
    "#     accuracy = np.mean(np.abs(y_valid.T.values[0] - preds) * 100 / y_valid)\n",
    "    \n",
    "    # print(preds)\n",
    "    # print(len(preds))\n",
    "    \n",
    "    # accuracy \n",
    "    print(y_valid)\n",
    "    print(preds)\n",
    "    print(type(preds), type(y_valid))\n",
    "    print(accuracy_score(y_valid, preds))\n",
    "    accuracy = accuracy_score(y_valid, preds)\n",
    "\n",
    "    \n",
    "    return accuracy  # preds\n",
    "\n",
    "# time\n",
    "tic = time.time()\n",
    "\n",
    "# train se divide en train/valid nuevamente\n",
    "X_train_final, X_valid, y_train_final, y_valid = train_test_split(X_train, y_train, test_size=0.20)\n",
    "\n",
    "# dataset para lightgbm\n",
    "dtrain = lgb.Dataset(X_train_final, y_train_final, free_raw_data=False, categorical_feature=['OPERA', 'DIANOM', 'TIPOVUELO'])\n",
    "\n",
    "# perform study\n",
    "study_i = optuna.create_study(direction='minimize')\n",
    "study_i.optimize(objective, 10)\n",
    "\n",
    "print('Number of finished trials:', len(study_i.trials))\n",
    "print('Best trial:', study_i.best_trial.params)\n",
    "\n",
    "# sobre mejor hiperparametros, evaluar sobre test\n",
    "# crear params\n",
    "params = {'nthread': 2,\n",
    "          \"objective\": \"regression_l1\",\n",
    "          \"metric\": \"mape\",\n",
    "          \"verbosity\": 1,\n",
    "          \"boosting_type\": \"gbdt\"}\n",
    "params.update(study_i.best_trial.params)\n",
    "\n",
    "# dataset, esta vez train es el conjunto de train_x completo\n",
    "lgb_train = lgb.Dataset(X_train, label=y_train, free_raw_data=False, categorical_feature=['OPERA', 'DIANOM', 'TIPOVUELO'])\n",
    "\n",
    "# to record eval results for plotting\n",
    "evals_result = {}\n",
    "\n",
    "model = lgb.train(params, lgb_train, verbose_eval=50, num_boost_round=100, evals_result=evals_result)\n",
    "\n",
    "# toc\n",
    "toc = time.time()\n",
    "print(\"Total time: {} [min]\".format((toc-tic)/60))"
   ]
  },
  {
   "cell_type": "code",
   "execution_count": 193,
   "metadata": {},
   "outputs": [
    {
     "data": {
      "text/html": [
       "<div>\n",
       "<style scoped>\n",
       "    .dataframe tbody tr th:only-of-type {\n",
       "        vertical-align: middle;\n",
       "    }\n",
       "\n",
       "    .dataframe tbody tr th {\n",
       "        vertical-align: top;\n",
       "    }\n",
       "\n",
       "    .dataframe thead th {\n",
       "        text-align: right;\n",
       "    }\n",
       "</style>\n",
       "<table border=\"1\" class=\"dataframe\">\n",
       "  <thead>\n",
       "    <tr style=\"text-align: right;\">\n",
       "      <th></th>\n",
       "      <th>OPERA</th>\n",
       "      <th>MES</th>\n",
       "      <th>DIANOM</th>\n",
       "      <th>temporada_alta</th>\n",
       "      <th>TIPOVUELO</th>\n",
       "    </tr>\n",
       "  </thead>\n",
       "  <tbody>\n",
       "    <tr>\n",
       "      <th>19134</th>\n",
       "      <td>Sky Airline</td>\n",
       "      <td>4</td>\n",
       "      <td>Domingo</td>\n",
       "      <td>0</td>\n",
       "      <td>I</td>\n",
       "    </tr>\n",
       "    <tr>\n",
       "      <th>11515</th>\n",
       "      <td>Grupo LATAM</td>\n",
       "      <td>2</td>\n",
       "      <td>Miercoles</td>\n",
       "      <td>1</td>\n",
       "      <td>I</td>\n",
       "    </tr>\n",
       "  </tbody>\n",
       "</table>\n",
       "</div>"
      ],
      "text/plain": [
       "             OPERA  MES     DIANOM  temporada_alta TIPOVUELO\n",
       "19134  Sky Airline    4    Domingo               0         I\n",
       "11515  Grupo LATAM    2  Miercoles               1         I"
      ]
     },
     "execution_count": 193,
     "metadata": {},
     "output_type": "execute_result"
    }
   ],
   "source": [
    "X_train.head(2)"
   ]
  },
  {
   "cell_type": "code",
   "execution_count": 194,
   "metadata": {},
   "outputs": [],
   "source": [
    "A = X_train.copy()\n",
    "A['OPERA'] =A['OPERA'].astype('str')"
   ]
  },
  {
   "cell_type": "code",
   "execution_count": 195,
   "metadata": {},
   "outputs": [
    {
     "data": {
      "text/plain": [
       "OPERA             object\n",
       "MES                int64\n",
       "DIANOM            object\n",
       "temporada_alta     int64\n",
       "TIPOVUELO         object\n",
       "dtype: object"
      ]
     },
     "execution_count": 195,
     "metadata": {},
     "output_type": "execute_result"
    }
   ],
   "source": [
    "X_train.dtypes"
   ]
  },
  {
   "cell_type": "code",
   "execution_count": 178,
   "metadata": {},
   "outputs": [],
   "source": [
    "y_pred = model.predict(X_test)"
   ]
  },
  {
   "cell_type": "code",
   "execution_count": 179,
   "metadata": {},
   "outputs": [
    {
     "data": {
      "text/plain": [
       "0.0"
      ]
     },
     "execution_count": 179,
     "metadata": {},
     "output_type": "execute_result"
    }
   ],
   "source": [
    "sum(y_pred)"
   ]
  },
  {
   "cell_type": "code",
   "execution_count": 180,
   "metadata": {},
   "outputs": [
    {
     "name": "stdout",
     "output_type": "stream",
     "text": [
      "              precision    recall  f1-score   support\n",
      "\n",
      "           0       0.75      1.00      0.86     12469\n",
      "           1       0.00      0.00      0.00      4126\n",
      "\n",
      "    accuracy                           0.75     16595\n",
      "   macro avg       0.38      0.50      0.43     16595\n",
      "weighted avg       0.56      0.75      0.64     16595\n",
      "\n"
     ]
    },
    {
     "name": "stderr",
     "output_type": "stream",
     "text": [
      "/home/joe/.local/lib/python3.8/site-packages/sklearn/metrics/_classification.py:1334: UndefinedMetricWarning: Precision and F-score are ill-defined and being set to 0.0 in labels with no predicted samples. Use `zero_division` parameter to control this behavior.\n",
      "  _warn_prf(average, modifier, msg_start, len(result))\n",
      "/home/joe/.local/lib/python3.8/site-packages/sklearn/metrics/_classification.py:1334: UndefinedMetricWarning: Precision and F-score are ill-defined and being set to 0.0 in labels with no predicted samples. Use `zero_division` parameter to control this behavior.\n",
      "  _warn_prf(average, modifier, msg_start, len(result))\n",
      "/home/joe/.local/lib/python3.8/site-packages/sklearn/metrics/_classification.py:1334: UndefinedMetricWarning: Precision and F-score are ill-defined and being set to 0.0 in labels with no predicted samples. Use `zero_division` parameter to control this behavior.\n",
      "  _warn_prf(average, modifier, msg_start, len(result))\n"
     ]
    }
   ],
   "source": [
    "print(classification_report(y_test, y_pred))"
   ]
  },
  {
   "cell_type": "code",
   "execution_count": 145,
   "metadata": {},
   "outputs": [],
   "source": []
  },
  {
   "cell_type": "code",
   "execution_count": null,
   "metadata": {},
   "outputs": [],
   "source": []
  },
  {
   "cell_type": "code",
   "execution_count": 142,
   "metadata": {},
   "outputs": [
    {
     "name": "stderr",
     "output_type": "stream",
     "text": [
      "<ipython-input-142-3a52334fb7b6>:5: RuntimeWarning: invalid value encountered in divide\n",
      "  accuracy = np.mean(np.abs(apa - preds) * 100 / apa)\n"
     ]
    }
   ],
   "source": [
    "preds = np.array([0 ,1 , 0, 0, 0])\n",
    "# apa = y_valid.T.values[0]\n",
    "apa = np.array([1, 1, 1, 0, 0])\n",
    "\n",
    "accuracy = np.mean(np.abs(apa - preds) * 100 / apa)"
   ]
  },
  {
   "cell_type": "code",
   "execution_count": 144,
   "metadata": {},
   "outputs": [
    {
     "data": {
      "text/plain": [
       "array([100,   0, 100,   0,   0])"
      ]
     },
     "execution_count": 144,
     "metadata": {},
     "output_type": "execute_result"
    }
   ],
   "source": [
    "np.abs(apa - preds) * 100"
   ]
  },
  {
   "cell_type": "code",
   "execution_count": 140,
   "metadata": {},
   "outputs": [
    {
     "data": {
      "text/plain": [
       "nan"
      ]
     },
     "execution_count": 140,
     "metadata": {},
     "output_type": "execute_result"
    }
   ],
   "source": [
    "accuracy"
   ]
  },
  {
   "cell_type": "code",
   "execution_count": 128,
   "metadata": {},
   "outputs": [
    {
     "data": {
      "text/html": [
       "<div>\n",
       "<style scoped>\n",
       "    .dataframe tbody tr th:only-of-type {\n",
       "        vertical-align: middle;\n",
       "    }\n",
       "\n",
       "    .dataframe tbody tr th {\n",
       "        vertical-align: top;\n",
       "    }\n",
       "\n",
       "    .dataframe thead th {\n",
       "        text-align: right;\n",
       "    }\n",
       "</style>\n",
       "<table border=\"1\" class=\"dataframe\">\n",
       "  <thead>\n",
       "    <tr style=\"text-align: right;\">\n",
       "      <th></th>\n",
       "      <th>atraso_15</th>\n",
       "    </tr>\n",
       "  </thead>\n",
       "  <tbody>\n",
       "    <tr>\n",
       "      <th>1711</th>\n",
       "      <td>0</td>\n",
       "    </tr>\n",
       "    <tr>\n",
       "      <th>39090</th>\n",
       "      <td>1</td>\n",
       "    </tr>\n",
       "    <tr>\n",
       "      <th>4136</th>\n",
       "      <td>0</td>\n",
       "    </tr>\n",
       "    <tr>\n",
       "      <th>43073</th>\n",
       "      <td>0</td>\n",
       "    </tr>\n",
       "    <tr>\n",
       "      <th>8641</th>\n",
       "      <td>0</td>\n",
       "    </tr>\n",
       "    <tr>\n",
       "      <th>...</th>\n",
       "      <td>...</td>\n",
       "    </tr>\n",
       "    <tr>\n",
       "      <th>60312</th>\n",
       "      <td>0</td>\n",
       "    </tr>\n",
       "    <tr>\n",
       "      <th>11357</th>\n",
       "      <td>1</td>\n",
       "    </tr>\n",
       "    <tr>\n",
       "      <th>63411</th>\n",
       "      <td>0</td>\n",
       "    </tr>\n",
       "    <tr>\n",
       "      <th>44200</th>\n",
       "      <td>1</td>\n",
       "    </tr>\n",
       "    <tr>\n",
       "      <th>60596</th>\n",
       "      <td>0</td>\n",
       "    </tr>\n",
       "  </tbody>\n",
       "</table>\n",
       "<p>6738 rows × 1 columns</p>\n",
       "</div>"
      ],
      "text/plain": [
       "       atraso_15\n",
       "1711           0\n",
       "39090          1\n",
       "4136           0\n",
       "43073          0\n",
       "8641           0\n",
       "...          ...\n",
       "60312          0\n",
       "11357          1\n",
       "63411          0\n",
       "44200          1\n",
       "60596          0\n",
       "\n",
       "[6738 rows x 1 columns]"
      ]
     },
     "execution_count": 128,
     "metadata": {},
     "output_type": "execute_result"
    }
   ],
   "source": [
    "y_valid"
   ]
  },
  {
   "cell_type": "code",
   "execution_count": 123,
   "metadata": {},
   "outputs": [
    {
     "data": {
      "text/plain": [
       "((26952, 2), (26952, 1))"
      ]
     },
     "execution_count": 123,
     "metadata": {},
     "output_type": "execute_result"
    }
   ],
   "source": [
    "X_train_final.shape, y_train_final.shape"
   ]
  },
  {
   "cell_type": "code",
   "execution_count": 109,
   "metadata": {},
   "outputs": [
    {
     "data": {
      "text/html": [
       "<div>\n",
       "<style scoped>\n",
       "    .dataframe tbody tr th:only-of-type {\n",
       "        vertical-align: middle;\n",
       "    }\n",
       "\n",
       "    .dataframe tbody tr th {\n",
       "        vertical-align: top;\n",
       "    }\n",
       "\n",
       "    .dataframe thead th {\n",
       "        text-align: right;\n",
       "    }\n",
       "</style>\n",
       "<table border=\"1\" class=\"dataframe\">\n",
       "  <thead>\n",
       "    <tr style=\"text-align: right;\">\n",
       "      <th></th>\n",
       "      <th>OPERA</th>\n",
       "      <th>MES</th>\n",
       "      <th>DIANOM</th>\n",
       "      <th>temporada_alta</th>\n",
       "      <th>TIPOVUELO</th>\n",
       "    </tr>\n",
       "  </thead>\n",
       "  <tbody>\n",
       "    <tr>\n",
       "      <th>58166</th>\n",
       "      <td>Grupo LATAM</td>\n",
       "      <td>11</td>\n",
       "      <td>Domingo</td>\n",
       "      <td>0</td>\n",
       "      <td>N</td>\n",
       "    </tr>\n",
       "    <tr>\n",
       "      <th>64751</th>\n",
       "      <td>Grupo LATAM</td>\n",
       "      <td>12</td>\n",
       "      <td>Sabado</td>\n",
       "      <td>0</td>\n",
       "      <td>N</td>\n",
       "    </tr>\n",
       "    <tr>\n",
       "      <th>46601</th>\n",
       "      <td>Grupo LATAM</td>\n",
       "      <td>9</td>\n",
       "      <td>Lunes</td>\n",
       "      <td>1</td>\n",
       "      <td>N</td>\n",
       "    </tr>\n",
       "    <tr>\n",
       "      <th>14051</th>\n",
       "      <td>Grupo LATAM</td>\n",
       "      <td>3</td>\n",
       "      <td>Jueves</td>\n",
       "      <td>1</td>\n",
       "      <td>N</td>\n",
       "    </tr>\n",
       "    <tr>\n",
       "      <th>44426</th>\n",
       "      <td>Aerolineas Argentinas</td>\n",
       "      <td>9</td>\n",
       "      <td>Viernes</td>\n",
       "      <td>0</td>\n",
       "      <td>I</td>\n",
       "    </tr>\n",
       "    <tr>\n",
       "      <th>...</th>\n",
       "      <td>...</td>\n",
       "      <td>...</td>\n",
       "      <td>...</td>\n",
       "      <td>...</td>\n",
       "      <td>...</td>\n",
       "    </tr>\n",
       "    <tr>\n",
       "      <th>54544</th>\n",
       "      <td>Grupo LATAM</td>\n",
       "      <td>10</td>\n",
       "      <td>Jueves</td>\n",
       "      <td>0</td>\n",
       "      <td>I</td>\n",
       "    </tr>\n",
       "    <tr>\n",
       "      <th>32407</th>\n",
       "      <td>American Airlines</td>\n",
       "      <td>7</td>\n",
       "      <td>Martes</td>\n",
       "      <td>1</td>\n",
       "      <td>I</td>\n",
       "    </tr>\n",
       "    <tr>\n",
       "      <th>48067</th>\n",
       "      <td>Grupo LATAM</td>\n",
       "      <td>9</td>\n",
       "      <td>Miercoles</td>\n",
       "      <td>1</td>\n",
       "      <td>N</td>\n",
       "    </tr>\n",
       "    <tr>\n",
       "      <th>32020</th>\n",
       "      <td>Grupo LATAM</td>\n",
       "      <td>6</td>\n",
       "      <td>Jueves</td>\n",
       "      <td>0</td>\n",
       "      <td>I</td>\n",
       "    </tr>\n",
       "    <tr>\n",
       "      <th>67019</th>\n",
       "      <td>Grupo LATAM</td>\n",
       "      <td>12</td>\n",
       "      <td>Viernes</td>\n",
       "      <td>1</td>\n",
       "      <td>I</td>\n",
       "    </tr>\n",
       "  </tbody>\n",
       "</table>\n",
       "<p>26952 rows × 5 columns</p>\n",
       "</div>"
      ],
      "text/plain": [
       "                       OPERA  MES     DIANOM  temporada_alta TIPOVUELO\n",
       "58166            Grupo LATAM   11    Domingo               0         N\n",
       "64751            Grupo LATAM   12     Sabado               0         N\n",
       "46601            Grupo LATAM    9      Lunes               1         N\n",
       "14051            Grupo LATAM    3     Jueves               1         N\n",
       "44426  Aerolineas Argentinas    9    Viernes               0         I\n",
       "...                      ...  ...        ...             ...       ...\n",
       "54544            Grupo LATAM   10     Jueves               0         I\n",
       "32407      American Airlines    7     Martes               1         I\n",
       "48067            Grupo LATAM    9  Miercoles               1         N\n",
       "32020            Grupo LATAM    6     Jueves               0         I\n",
       "67019            Grupo LATAM   12    Viernes               1         I\n",
       "\n",
       "[26952 rows x 5 columns]"
      ]
     },
     "execution_count": 109,
     "metadata": {},
     "output_type": "execute_result"
    }
   ],
   "source": [
    "X_train_final"
   ]
  },
  {
   "cell_type": "code",
   "execution_count": 110,
   "metadata": {},
   "outputs": [
    {
     "data": {
      "text/plain": [
       "OPERA             object\n",
       "MES                int64\n",
       "DIANOM            object\n",
       "temporada_alta     int64\n",
       "TIPOVUELO         object\n",
       "dtype: object"
      ]
     },
     "execution_count": 110,
     "metadata": {},
     "output_type": "execute_result"
    }
   ],
   "source": [
    "X_train_final.dtypes"
   ]
  },
  {
   "cell_type": "code",
   "execution_count": 89,
   "metadata": {},
   "outputs": [
    {
     "ename": "ModuleNotFoundError",
     "evalue": "No module named 'lightgbm'",
     "output_type": "error",
     "traceback": [
      "\u001b[0;31m---------------------------------------------------------------------------\u001b[0m",
      "\u001b[0;31mModuleNotFoundError\u001b[0m                       Traceback (most recent call last)",
      "\u001b[0;32m<ipython-input-89-3e3e9cbab710>\u001b[0m in \u001b[0;36m<module>\u001b[0;34m\u001b[0m\n\u001b[1;32m      1\u001b[0m \u001b[0;32mimport\u001b[0m \u001b[0mtime\u001b[0m\u001b[0;34m\u001b[0m\u001b[0;34m\u001b[0m\u001b[0m\n\u001b[0;32m----> 2\u001b[0;31m \u001b[0;32mimport\u001b[0m \u001b[0mlightgbm\u001b[0m \u001b[0;32mas\u001b[0m \u001b[0mlgb\u001b[0m\u001b[0;34m\u001b[0m\u001b[0;34m\u001b[0m\u001b[0m\n\u001b[0m\u001b[1;32m      3\u001b[0m \u001b[0;32mimport\u001b[0m \u001b[0moptuna\u001b[0m\u001b[0;34m\u001b[0m\u001b[0;34m\u001b[0m\u001b[0m\n",
      "\u001b[0;31mModuleNotFoundError\u001b[0m: No module named 'lightgbm'"
     ]
    }
   ],
   "source": [
    "df_y = X_test.copy()\n",
    "df_y['real'] = y_test\n",
    "df_y['predicted'] = model.predict(X_test.drop(columns=['FECHA_PEDIDO']))\n",
    "\n",
    "df_y['error'] = df_y['real'] - df_y['predicted']\n",
    "df_y['pct_error'] = (df_y['error'] / df_y['real']).abs() * 100"
   ]
  }
 ],
 "metadata": {
  "kernelspec": {
   "display_name": "venv",
   "language": "python",
   "name": "venv"
  },
  "language_info": {
   "codemirror_mode": {
    "name": "ipython",
    "version": 3
   },
   "file_extension": ".py",
   "mimetype": "text/x-python",
   "name": "python",
   "nbconvert_exporter": "python",
   "pygments_lexer": "ipython3",
   "version": "3.8.10"
  }
 },
 "nbformat": 4,
 "nbformat_minor": 4
}
